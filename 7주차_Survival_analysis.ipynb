{
 "cells": [
  {
   "cell_type": "markdown",
   "metadata": {},
   "source": [
    "### Load libraries"
   ]
  },
  {
   "cell_type": "code",
   "execution_count": 1,
   "metadata": {
    "ExecuteTime": {
     "end_time": "2021-10-15T19:01:17.269505Z",
     "start_time": "2021-10-15T19:01:17.264518Z"
    }
   },
   "outputs": [],
   "source": [
    "import numpy as np\n",
    "import pandas as pd\n",
    "from lifelines import KaplanMeierFitter\n",
    "from lifelines import CoxPHFitter\n",
    "import matplotlib.pyplot as plt"
   ]
  },
  {
   "cell_type": "markdown",
   "metadata": {},
   "source": [
    "### Data Source\n",
    "\n",
    "Loprinzi CL. Laurie JA. Wieand HS. Krook JE. Novotny PJ. Kugler JW. Bartel J. Law M. Bateman M. Klatt NE. et al. Prospective evaluation of prognostic variables from patient-completed questionnaires. North Central Cancer Treatment Group. Journal of Clinical Oncology. 12(3):601-7, 1994."
   ]
  },
  {
   "cell_type": "code",
   "execution_count": 149,
   "metadata": {
    "ExecuteTime": {
     "end_time": "2021-10-15T19:01:17.832632Z",
     "start_time": "2021-10-15T19:01:17.810702Z"
    }
   },
   "outputs": [
    {
     "data": {
      "text/html": [
       "<div>\n",
       "<style scoped>\n",
       "    .dataframe tbody tr th:only-of-type {\n",
       "        vertical-align: middle;\n",
       "    }\n",
       "\n",
       "    .dataframe tbody tr th {\n",
       "        vertical-align: top;\n",
       "    }\n",
       "\n",
       "    .dataframe thead th {\n",
       "        text-align: right;\n",
       "    }\n",
       "</style>\n",
       "<table border=\"1\" class=\"dataframe\">\n",
       "  <thead>\n",
       "    <tr style=\"text-align: right;\">\n",
       "      <th></th>\n",
       "      <th>inst</th>\n",
       "      <th>time</th>\n",
       "      <th>status</th>\n",
       "      <th>age</th>\n",
       "      <th>sex</th>\n",
       "      <th>ph.ecog</th>\n",
       "      <th>ph.karno</th>\n",
       "      <th>pat.karno</th>\n",
       "      <th>meal.cal</th>\n",
       "      <th>wt.loss</th>\n",
       "    </tr>\n",
       "  </thead>\n",
       "  <tbody>\n",
       "    <tr>\n",
       "      <th>1</th>\n",
       "      <td>3.0</td>\n",
       "      <td>306</td>\n",
       "      <td>2</td>\n",
       "      <td>74</td>\n",
       "      <td>1</td>\n",
       "      <td>1.0</td>\n",
       "      <td>90.0</td>\n",
       "      <td>100.0</td>\n",
       "      <td>1175.0</td>\n",
       "      <td>NaN</td>\n",
       "    </tr>\n",
       "    <tr>\n",
       "      <th>2</th>\n",
       "      <td>3.0</td>\n",
       "      <td>455</td>\n",
       "      <td>2</td>\n",
       "      <td>68</td>\n",
       "      <td>1</td>\n",
       "      <td>0.0</td>\n",
       "      <td>90.0</td>\n",
       "      <td>90.0</td>\n",
       "      <td>1225.0</td>\n",
       "      <td>15.0</td>\n",
       "    </tr>\n",
       "    <tr>\n",
       "      <th>3</th>\n",
       "      <td>3.0</td>\n",
       "      <td>1010</td>\n",
       "      <td>1</td>\n",
       "      <td>56</td>\n",
       "      <td>1</td>\n",
       "      <td>0.0</td>\n",
       "      <td>90.0</td>\n",
       "      <td>90.0</td>\n",
       "      <td>NaN</td>\n",
       "      <td>15.0</td>\n",
       "    </tr>\n",
       "    <tr>\n",
       "      <th>4</th>\n",
       "      <td>5.0</td>\n",
       "      <td>210</td>\n",
       "      <td>2</td>\n",
       "      <td>57</td>\n",
       "      <td>1</td>\n",
       "      <td>1.0</td>\n",
       "      <td>90.0</td>\n",
       "      <td>60.0</td>\n",
       "      <td>1150.0</td>\n",
       "      <td>11.0</td>\n",
       "    </tr>\n",
       "    <tr>\n",
       "      <th>5</th>\n",
       "      <td>1.0</td>\n",
       "      <td>883</td>\n",
       "      <td>2</td>\n",
       "      <td>60</td>\n",
       "      <td>1</td>\n",
       "      <td>0.0</td>\n",
       "      <td>100.0</td>\n",
       "      <td>90.0</td>\n",
       "      <td>NaN</td>\n",
       "      <td>0.0</td>\n",
       "    </tr>\n",
       "  </tbody>\n",
       "</table>\n",
       "</div>"
      ],
      "text/plain": [
       "   inst  time  status  age  sex  ph.ecog  ph.karno  pat.karno  meal.cal  \\\n",
       "1   3.0   306       2   74    1      1.0      90.0      100.0    1175.0   \n",
       "2   3.0   455       2   68    1      0.0      90.0       90.0    1225.0   \n",
       "3   3.0  1010       1   56    1      0.0      90.0       90.0       NaN   \n",
       "4   5.0   210       2   57    1      1.0      90.0       60.0    1150.0   \n",
       "5   1.0   883       2   60    1      0.0     100.0       90.0       NaN   \n",
       "\n",
       "   wt.loss  \n",
       "1      NaN  \n",
       "2     15.0  \n",
       "3     15.0  \n",
       "4     11.0  \n",
       "5      0.0  "
      ]
     },
     "execution_count": 149,
     "metadata": {},
     "output_type": "execute_result"
    }
   ],
   "source": [
    "data = pd.read_csv(\"data/lung.csv\", index_col = 0)\n",
    "data.head()"
   ]
  },
  {
   "cell_type": "code",
   "execution_count": 150,
   "metadata": {
    "ExecuteTime": {
     "end_time": "2021-10-15T19:01:17.998880Z",
     "start_time": "2021-10-15T19:01:17.991931Z"
    }
   },
   "outputs": [
    {
     "data": {
      "text/plain": [
       "(228, 10)"
      ]
     },
     "execution_count": 150,
     "metadata": {},
     "output_type": "execute_result"
    }
   ],
   "source": [
    "data.shape"
   ]
  },
  {
   "cell_type": "markdown",
   "metadata": {},
   "source": [
    "### Variable description\n",
    "* inst: Institution code\n",
    "* time: Survival time in days\n",
    "* status: censoring status 0 = censored, 1 = dead\n",
    "* age: Age in years\n",
    "* sex: Male = 0 Female = 1\n",
    "* ph.ecog: ECOG performance score as rated by the physician. 0 = asymptomatic, 1 = symptomatic but completely ambulatory, 2 = in bed <50% of the day, 3 = in bed > 50% of the day but not bedbound, 4 = bedbound\n",
    "* ph.karno: Karnofsky performance score (bad=0-good=100) rated by physician\n",
    "* pat.karno: Karnofsky performance score as rated by patient\n",
    "* meal.cal = Calories consumed at meals\n",
    "* wt.loss = Weight loss in last six months\n"
   ]
  },
  {
   "cell_type": "code",
   "execution_count": 151,
   "metadata": {
    "ExecuteTime": {
     "end_time": "2021-10-15T19:01:21.170332Z",
     "start_time": "2021-10-15T19:01:21.151385Z"
    }
   },
   "outputs": [
    {
     "data": {
      "text/html": [
       "<div>\n",
       "<style scoped>\n",
       "    .dataframe tbody tr th:only-of-type {\n",
       "        vertical-align: middle;\n",
       "    }\n",
       "\n",
       "    .dataframe tbody tr th {\n",
       "        vertical-align: top;\n",
       "    }\n",
       "\n",
       "    .dataframe thead th {\n",
       "        text-align: right;\n",
       "    }\n",
       "</style>\n",
       "<table border=\"1\" class=\"dataframe\">\n",
       "  <thead>\n",
       "    <tr style=\"text-align: right;\">\n",
       "      <th></th>\n",
       "      <th>time</th>\n",
       "      <th>status</th>\n",
       "      <th>age</th>\n",
       "      <th>sex</th>\n",
       "      <th>ph.ecog</th>\n",
       "      <th>ph.karno</th>\n",
       "      <th>pat.karno</th>\n",
       "      <th>meal.cal</th>\n",
       "      <th>wt.loss</th>\n",
       "    </tr>\n",
       "  </thead>\n",
       "  <tbody>\n",
       "    <tr>\n",
       "      <th>1</th>\n",
       "      <td>306</td>\n",
       "      <td>1</td>\n",
       "      <td>74</td>\n",
       "      <td>0</td>\n",
       "      <td>1.0</td>\n",
       "      <td>90.0</td>\n",
       "      <td>100.0</td>\n",
       "      <td>1175.0</td>\n",
       "      <td>NaN</td>\n",
       "    </tr>\n",
       "    <tr>\n",
       "      <th>2</th>\n",
       "      <td>455</td>\n",
       "      <td>1</td>\n",
       "      <td>68</td>\n",
       "      <td>0</td>\n",
       "      <td>0.0</td>\n",
       "      <td>90.0</td>\n",
       "      <td>90.0</td>\n",
       "      <td>1225.0</td>\n",
       "      <td>15.0</td>\n",
       "    </tr>\n",
       "    <tr>\n",
       "      <th>3</th>\n",
       "      <td>1010</td>\n",
       "      <td>0</td>\n",
       "      <td>56</td>\n",
       "      <td>0</td>\n",
       "      <td>0.0</td>\n",
       "      <td>90.0</td>\n",
       "      <td>90.0</td>\n",
       "      <td>NaN</td>\n",
       "      <td>15.0</td>\n",
       "    </tr>\n",
       "    <tr>\n",
       "      <th>4</th>\n",
       "      <td>210</td>\n",
       "      <td>1</td>\n",
       "      <td>57</td>\n",
       "      <td>0</td>\n",
       "      <td>1.0</td>\n",
       "      <td>90.0</td>\n",
       "      <td>60.0</td>\n",
       "      <td>1150.0</td>\n",
       "      <td>11.0</td>\n",
       "    </tr>\n",
       "    <tr>\n",
       "      <th>5</th>\n",
       "      <td>883</td>\n",
       "      <td>1</td>\n",
       "      <td>60</td>\n",
       "      <td>0</td>\n",
       "      <td>0.0</td>\n",
       "      <td>100.0</td>\n",
       "      <td>90.0</td>\n",
       "      <td>NaN</td>\n",
       "      <td>0.0</td>\n",
       "    </tr>\n",
       "  </tbody>\n",
       "</table>\n",
       "</div>"
      ],
      "text/plain": [
       "   time  status  age  sex  ph.ecog  ph.karno  pat.karno  meal.cal  wt.loss\n",
       "1   306       1   74    0      1.0      90.0      100.0    1175.0      NaN\n",
       "2   455       1   68    0      0.0      90.0       90.0    1225.0     15.0\n",
       "3  1010       0   56    0      0.0      90.0       90.0       NaN     15.0\n",
       "4   210       1   57    0      1.0      90.0       60.0    1150.0     11.0\n",
       "5   883       1   60    0      0.0     100.0       90.0       NaN      0.0"
      ]
     },
     "execution_count": 151,
     "metadata": {},
     "output_type": "execute_result"
    }
   ],
   "source": [
    "data = data[['time', 'status', 'age', 'sex', 'ph.ecog', 'ph.karno','pat.karno', 'meal.cal', 'wt.loss']]\n",
    "data[\"status\"] = data[\"status\"] - 1\n",
    "data[\"sex\"] = data[\"sex\"] - 1\n",
    "data.head()"
   ]
  },
  {
   "cell_type": "code",
   "execution_count": 152,
   "metadata": {
    "ExecuteTime": {
     "end_time": "2021-10-15T19:02:09.363045Z",
     "start_time": "2021-10-15T19:02:09.355065Z"
    }
   },
   "outputs": [
    {
     "data": {
      "text/plain": [
       "time           int64\n",
       "status         int64\n",
       "age            int64\n",
       "sex            int64\n",
       "ph.ecog      float64\n",
       "ph.karno     float64\n",
       "pat.karno    float64\n",
       "meal.cal     float64\n",
       "wt.loss      float64\n",
       "dtype: object"
      ]
     },
     "execution_count": 152,
     "metadata": {},
     "output_type": "execute_result"
    }
   ],
   "source": [
    "data.dtypes"
   ]
  },
  {
   "cell_type": "code",
   "execution_count": 153,
   "metadata": {
    "ExecuteTime": {
     "end_time": "2021-10-15T19:02:27.113571Z",
     "start_time": "2021-10-15T19:02:27.103598Z"
    }
   },
   "outputs": [
    {
     "data": {
      "text/plain": [
       "time          0\n",
       "status        0\n",
       "age           0\n",
       "sex           0\n",
       "ph.ecog       1\n",
       "ph.karno      1\n",
       "pat.karno     3\n",
       "meal.cal     47\n",
       "wt.loss      14\n",
       "dtype: int64"
      ]
     },
     "execution_count": 153,
     "metadata": {},
     "output_type": "execute_result"
    }
   ],
   "source": [
    "data.isnull().sum()"
   ]
  },
  {
   "cell_type": "code",
   "execution_count": 154,
   "metadata": {
    "ExecuteTime": {
     "end_time": "2021-10-15T19:02:43.044544Z",
     "start_time": "2021-10-15T19:02:43.039545Z"
    }
   },
   "outputs": [
    {
     "data": {
      "text/plain": [
       "Index(['time', 'status', 'age', 'sex', 'ph.ecog', 'ph.karno', 'pat.karno',\n",
       "       'meal.cal', 'wt.loss'],\n",
       "      dtype='object')"
      ]
     },
     "execution_count": 154,
     "metadata": {},
     "output_type": "execute_result"
    }
   ],
   "source": [
    "data.columns"
   ]
  },
  {
   "cell_type": "code",
   "execution_count": 155,
   "metadata": {
    "ExecuteTime": {
     "end_time": "2021-10-15T19:04:04.771183Z",
     "start_time": "2021-10-15T19:04:04.760212Z"
    }
   },
   "outputs": [],
   "source": [
    "data[\"ph.karno\"].fillna(data[\"ph.karno\"].mean(), inplace = True)\n",
    "data[\"pat.karno\"].fillna(data[\"pat.karno\"].mean(), inplace = True)\n",
    "data[\"meal.cal\"].fillna(data[\"meal.cal\"].mean(), inplace = True)\n",
    "data[\"wt.loss\"].fillna(data[\"wt.loss\"].mean(), inplace = True)\n",
    "data.dropna(inplace=True)\n",
    "data[\"ph.ecog\"] = data[\"ph.ecog\"].astype(\"int64\")"
   ]
  },
  {
   "cell_type": "code",
   "execution_count": 156,
   "metadata": {
    "ExecuteTime": {
     "end_time": "2021-10-15T19:04:07.930880Z",
     "start_time": "2021-10-15T19:04:07.920903Z"
    }
   },
   "outputs": [
    {
     "data": {
      "text/plain": [
       "time         0\n",
       "status       0\n",
       "age          0\n",
       "sex          0\n",
       "ph.ecog      0\n",
       "ph.karno     0\n",
       "pat.karno    0\n",
       "meal.cal     0\n",
       "wt.loss      0\n",
       "dtype: int64"
      ]
     },
     "execution_count": 156,
     "metadata": {},
     "output_type": "execute_result"
    }
   ],
   "source": [
    "data.isnull().sum()"
   ]
  },
  {
   "cell_type": "code",
   "execution_count": 157,
   "metadata": {
    "ExecuteTime": {
     "end_time": "2021-10-15T19:04:21.981683Z",
     "start_time": "2021-10-15T19:04:21.975696Z"
    }
   },
   "outputs": [
    {
     "data": {
      "text/plain": [
       "(227, 9)"
      ]
     },
     "execution_count": 157,
     "metadata": {},
     "output_type": "execute_result"
    }
   ],
   "source": [
    "data.shape"
   ]
  },
  {
   "cell_type": "code",
   "execution_count": 158,
   "metadata": {
    "ExecuteTime": {
     "end_time": "2021-10-15T19:04:52.117273Z",
     "start_time": "2021-10-15T19:04:51.888484Z"
    }
   },
   "outputs": [
    {
     "data": {
      "image/png": "[encoded data removed]",
      "text/plain": [
       "<Figure size 432x288 with 1 Axes>"
      ]
     },
     "metadata": {
      "needs_background": "light"
     },
     "output_type": "display_data"
    }
   ],
   "source": [
    "T = data[\"time\"]\n",
    "E = data[\"status\"]\n",
    "plt.hist(T, bins = 50)\n",
    "plt.show()"
   ]
  },
  {
   "cell_type": "markdown",
   "metadata": {},
   "source": [
    "## Fitting a non-parametric model [Kaplan Meier Curve]"
   ]
  },
  {
   "cell_type": "code",
   "execution_count": 159,
   "metadata": {
    "ExecuteTime": {
     "end_time": "2021-10-15T19:06:05.869779Z",
     "start_time": "2021-10-15T19:06:05.671803Z"
    }
   },
   "outputs": [
    {
     "data": {
      "text/plain": [
       "<AxesSubplot:xlabel='timeline'>"
      ]
     },
     "execution_count": 159,
     "metadata": {},
     "output_type": "execute_result"
    },
    {
     "data": {
      "image/png": "[encoded data removed]",
      "text/plain": [
       "<Figure size 432x288 with 1 Axes>"
      ]
     },
     "metadata": {
      "needs_background": "light"
     },
     "output_type": "display_data"
    }
   ],
   "source": [
    "kmf = KaplanMeierFitter()\n",
    "kmf.fit(durations = T, event_observed = E)\n",
    "kmf.plot_survival_function()"
   ]
  },
  {
   "cell_type": "code",
   "execution_count": 160,
   "metadata": {
    "ExecuteTime": {
     "end_time": "2021-10-15T19:06:56.825511Z",
     "start_time": "2021-10-15T19:06:56.647962Z"
    }
   },
   "outputs": [
    {
     "data": {
      "text/plain": [
       "Text(0.5, 1.0, 'Survival function')"
      ]
     },
     "execution_count": 160,
     "metadata": {},
     "output_type": "execute_result"
    },
    {
     "data": {
      "image/png": "[encoded data removed]",
      "text/plain": [
       "<Figure size 432x288 with 1 Axes>"
      ]
     },
     "metadata": {
      "needs_background": "light"
     },
     "output_type": "display_data"
    }
   ],
   "source": [
    "kmf.survival_function_.plot()\n",
    "plt.title('Survival function')"
   ]
  },
  {
   "cell_type": "code",
   "execution_count": 161,
   "metadata": {
    "ExecuteTime": {
     "end_time": "2021-10-15T19:07:05.859075Z",
     "start_time": "2021-10-15T19:07:05.678081Z"
    }
   },
   "outputs": [
    {
     "data": {
      "text/plain": [
       "<AxesSubplot:xlabel='timeline'>"
      ]
     },
     "execution_count": 161,
     "metadata": {},
     "output_type": "execute_result"
    },
    {
     "data": {
      "image/png": "[encoded data removed]",
      "text/plain": [
       "<Figure size 432x288 with 1 Axes>"
      ]
     },
     "metadata": {
      "needs_background": "light"
     },
     "output_type": "display_data"
    }
   ],
   "source": [
    "kmf.plot_cumulative_density()"
   ]
  },
  {
   "cell_type": "code",
   "execution_count": 162,
   "metadata": {
    "ExecuteTime": {
     "end_time": "2021-10-15T19:07:48.877318Z",
     "start_time": "2021-10-15T19:07:48.871329Z"
    }
   },
   "outputs": [
    {
     "data": {
      "text/plain": [
       "310.0"
      ]
     },
     "execution_count": 162,
     "metadata": {},
     "output_type": "execute_result"
    }
   ],
   "source": [
    "kmf.median_survival_time_"
   ]
  },
  {
   "cell_type": "code",
   "execution_count": 163,
   "metadata": {
    "ExecuteTime": {
     "end_time": "2021-10-15T19:08:19.209757Z",
     "start_time": "2021-10-15T19:08:19.198728Z"
    }
   },
   "outputs": [
    {
     "name": "stdout",
     "output_type": "stream",
     "text": [
      "310.0\n",
      "     KM_estimate_lower_0.95  KM_estimate_upper_0.95\n",
      "0.5                   284.0                   361.0\n"
     ]
    }
   ],
   "source": [
    "from lifelines.utils import median_survival_times\n",
    "\n",
    "median_ = kmf.median_survival_time_\n",
    "median_confidence_interval_ = median_survival_times(kmf.confidence_interval_)\n",
    "print(median_)\n",
    "print(median_confidence_interval_)"
   ]
  },
  {
   "cell_type": "code",
   "execution_count": 164,
   "metadata": {
    "ExecuteTime": {
     "end_time": "2021-10-15T19:11:16.330765Z",
     "start_time": "2021-10-15T19:11:15.942799Z"
    }
   },
   "outputs": [
    {
     "data": {
      "text/plain": [
       "Text(0.5, 1.0, 'Survival of different gender group')"
      ]
     },
     "execution_count": 164,
     "metadata": {},
     "output_type": "execute_result"
    },
    {
     "data": {
      "image/png": "[encoded data removed]",
      "text/plain": [
       "<Figure size 432x288 with 2 Axes>"
      ]
     },
     "metadata": {
      "needs_background": "light"
     },
     "output_type": "display_data"
    }
   ],
   "source": [
    "ax = plt.subplot(111)\n",
    "\n",
    "m = (data[\"sex\"] == 0)\n",
    "\n",
    "kmf.fit(durations = T[m], event_observed = E[m], label = \"Male\")\n",
    "kmf.plot_survival_function(ax = ax)\n",
    "\n",
    "kmf.fit(T[~m], event_observed = E[~m], label = \"Female\")\n",
    "kmf.plot_survival_function(ax = ax, at_risk_counts = True)\n",
    "\n",
    "plt.title(\"Survival of different gender group\")"
   ]
  },
  {
   "cell_type": "code",
   "execution_count": 165,
   "metadata": {
    "ExecuteTime": {
     "end_time": "2021-10-15T19:13:07.610963Z",
     "start_time": "2021-10-15T19:13:07.136655Z"
    }
   },
   "outputs": [
    {
     "data": {
      "image/png": "[encoded data removed]",
      "text/plain": [
       "<Figure size 432x288 with 4 Axes>"
      ]
     },
     "metadata": {
      "needs_background": "light"
     },
     "output_type": "display_data"
    }
   ],
   "source": [
    "ecog_types = data.sort_values(by = ['ph.ecog'])[\"ph.ecog\"].unique()\n",
    "\n",
    "for i, ecog_types in enumerate(ecog_types):\n",
    "    ax = plt.subplot(2, 2, i + 1)\n",
    "    ix = data['ph.ecog'] == ecog_types\n",
    "    kmf.fit(T[ix], E[ix], label = ecog_types)\n",
    "    kmf.plot_survival_function(ax = ax, legend = False)\n",
    "    plt.title(ecog_types)\n",
    "    plt.xlim(0, 1200)\n",
    "\n",
    "plt.tight_layout()"
   ]
  },
  {
   "cell_type": "code",
   "execution_count": 166,
   "metadata": {
    "ExecuteTime": {
     "end_time": "2021-10-15T19:13:24.686356Z",
     "start_time": "2021-10-15T19:13:24.678199Z"
    }
   },
   "outputs": [
    {
     "data": {
      "text/plain": [
       "1    113\n",
       "0     63\n",
       "2     50\n",
       "3      1\n",
       "Name: ph.ecog, dtype: int64"
      ]
     },
     "execution_count": 166,
     "metadata": {},
     "output_type": "execute_result"
    }
   ],
   "source": [
    "data['ph.ecog'].value_counts()"
   ]
  },
  {
   "cell_type": "code",
   "execution_count": 167,
   "metadata": {
    "ExecuteTime": {
     "end_time": "2021-10-15T19:13:33.887898Z",
     "start_time": "2021-10-15T19:13:33.879923Z"
    }
   },
   "outputs": [
    {
     "data": {
      "text/plain": [
       "(226, 9)"
      ]
     },
     "execution_count": 167,
     "metadata": {},
     "output_type": "execute_result"
    }
   ],
   "source": [
    "data = data[data[\"ph.ecog\"] != 3]\n",
    "data.shape"
   ]
  },
  {
   "cell_type": "code",
   "execution_count": 168,
   "metadata": {
    "ExecuteTime": {
     "end_time": "2021-10-15T19:13:36.904836Z",
     "start_time": "2021-10-15T19:13:36.894862Z"
    }
   },
   "outputs": [
    {
     "data": {
      "text/plain": [
       "1    113\n",
       "0     63\n",
       "2     50\n",
       "Name: ph.ecog, dtype: int64"
      ]
     },
     "execution_count": 168,
     "metadata": {},
     "output_type": "execute_result"
    }
   ],
   "source": [
    "data['ph.ecog'].value_counts()"
   ]
  },
  {
   "cell_type": "markdown",
   "metadata": {},
   "source": [
    "## Fitting Cox Proportional Hazard Model"
   ]
  },
  {
   "cell_type": "markdown",
   "metadata": {},
   "source": [
    "The Cox proportional hazards model, by contrast, is not a fully parametric model. Rather it is a semi-parametric model because even if the regression parameters (the betas) are known, the distribution of the outcome remains unknown."
   ]
  },
  {
   "cell_type": "markdown",
   "metadata": {},
   "source": [
    "[Cox Proportional Hazard Model (lifelines webpage)](https://lifelines.readthedocs.io/en/latest/Survival%20Regression.html)"
   ]
  },
  {
   "cell_type": "markdown",
   "metadata": {},
   "source": [
    "Cox proportional hazards regression model assumptions includes:\n",
    "\n",
    "* Independence of survival times between distinct individuals in the sample,\n",
    "* A multiplicative relationship between the predictors and the hazard, and\n",
    "* A constant hazard ratio over time. This assumption implies that, the hazard curves for the groups should be proportional and cannot cross."
   ]
  },
  {
   "cell_type": "markdown",
   "metadata": {},
   "source": [
    "### Hazard and Hazard Ratio"
   ]
  },
  {
   "cell_type": "markdown",
   "metadata": {
    "ExecuteTime": {
     "end_time": "2021-10-15T12:38:06.591881Z",
     "start_time": "2021-10-15T12:38:06.582859Z"
    }
   },
   "source": [
    "* Hazard is defined as the slope of the survival curve — a measure of how rapidly subjects are dying.\n",
    "* The hazard ratio compares two treatments. If the hazard ratio is 2.0, then the rate of deaths in one treatment group is twice the rate in the other group."
   ]
  },
  {
   "cell_type": "code",
   "execution_count": 171,
   "metadata": {
    "ExecuteTime": {
     "end_time": "2021-10-15T19:17:18.206030Z",
     "start_time": "2021-10-15T19:17:18.190764Z"
    }
   },
   "outputs": [
    {
     "data": {
      "text/html": [
       "<div>\n",
       "<style scoped>\n",
       "    .dataframe tbody tr th:only-of-type {\n",
       "        vertical-align: middle;\n",
       "    }\n",
       "\n",
       "    .dataframe tbody tr th {\n",
       "        vertical-align: top;\n",
       "    }\n",
       "\n",
       "    .dataframe thead th {\n",
       "        text-align: right;\n",
       "    }\n",
       "</style>\n",
       "<table border=\"1\" class=\"dataframe\">\n",
       "  <thead>\n",
       "    <tr style=\"text-align: right;\">\n",
       "      <th></th>\n",
       "      <th>time</th>\n",
       "      <th>status</th>\n",
       "      <th>age</th>\n",
       "      <th>sex</th>\n",
       "      <th>ph.ecog</th>\n",
       "      <th>ph.karno</th>\n",
       "      <th>pat.karno</th>\n",
       "      <th>meal.cal</th>\n",
       "      <th>wt.loss</th>\n",
       "    </tr>\n",
       "  </thead>\n",
       "  <tbody>\n",
       "    <tr>\n",
       "      <th>1</th>\n",
       "      <td>306</td>\n",
       "      <td>1</td>\n",
       "      <td>74</td>\n",
       "      <td>0</td>\n",
       "      <td>1</td>\n",
       "      <td>90.0</td>\n",
       "      <td>100.0</td>\n",
       "      <td>1175.000000</td>\n",
       "      <td>9.831776</td>\n",
       "    </tr>\n",
       "    <tr>\n",
       "      <th>2</th>\n",
       "      <td>455</td>\n",
       "      <td>1</td>\n",
       "      <td>68</td>\n",
       "      <td>0</td>\n",
       "      <td>0</td>\n",
       "      <td>90.0</td>\n",
       "      <td>90.0</td>\n",
       "      <td>1225.000000</td>\n",
       "      <td>15.000000</td>\n",
       "    </tr>\n",
       "    <tr>\n",
       "      <th>3</th>\n",
       "      <td>1010</td>\n",
       "      <td>0</td>\n",
       "      <td>56</td>\n",
       "      <td>0</td>\n",
       "      <td>0</td>\n",
       "      <td>90.0</td>\n",
       "      <td>90.0</td>\n",
       "      <td>928.779006</td>\n",
       "      <td>15.000000</td>\n",
       "    </tr>\n",
       "    <tr>\n",
       "      <th>4</th>\n",
       "      <td>210</td>\n",
       "      <td>1</td>\n",
       "      <td>57</td>\n",
       "      <td>0</td>\n",
       "      <td>1</td>\n",
       "      <td>90.0</td>\n",
       "      <td>60.0</td>\n",
       "      <td>1150.000000</td>\n",
       "      <td>11.000000</td>\n",
       "    </tr>\n",
       "    <tr>\n",
       "      <th>5</th>\n",
       "      <td>883</td>\n",
       "      <td>1</td>\n",
       "      <td>60</td>\n",
       "      <td>0</td>\n",
       "      <td>0</td>\n",
       "      <td>100.0</td>\n",
       "      <td>90.0</td>\n",
       "      <td>928.779006</td>\n",
       "      <td>0.000000</td>\n",
       "    </tr>\n",
       "  </tbody>\n",
       "</table>\n",
       "</div>"
      ],
      "text/plain": [
       "   time  status  age  sex  ph.ecog  ph.karno  pat.karno     meal.cal  \\\n",
       "1   306       1   74    0        1      90.0      100.0  1175.000000   \n",
       "2   455       1   68    0        0      90.0       90.0  1225.000000   \n",
       "3  1010       0   56    0        0      90.0       90.0   928.779006   \n",
       "4   210       1   57    0        1      90.0       60.0  1150.000000   \n",
       "5   883       1   60    0        0     100.0       90.0   928.779006   \n",
       "\n",
       "     wt.loss  \n",
       "1   9.831776  \n",
       "2  15.000000  \n",
       "3  15.000000  \n",
       "4  11.000000  \n",
       "5   0.000000  "
      ]
     },
     "execution_count": 171,
     "metadata": {},
     "output_type": "execute_result"
    }
   ],
   "source": [
    "data.head()"
   ]
  },
  {
   "cell_type": "code",
   "execution_count": 172,
   "metadata": {
    "ExecuteTime": {
     "end_time": "2021-10-15T19:18:42.213121Z",
     "start_time": "2021-10-15T19:18:42.198643Z"
    }
   },
   "outputs": [
    {
     "data": {
      "text/html": [
       "<div>\n",
       "<style scoped>\n",
       "    .dataframe tbody tr th:only-of-type {\n",
       "        vertical-align: middle;\n",
       "    }\n",
       "\n",
       "    .dataframe tbody tr th {\n",
       "        vertical-align: top;\n",
       "    }\n",
       "\n",
       "    .dataframe thead th {\n",
       "        text-align: right;\n",
       "    }\n",
       "</style>\n",
       "<table border=\"1\" class=\"dataframe\">\n",
       "  <thead>\n",
       "    <tr style=\"text-align: right;\">\n",
       "      <th></th>\n",
       "      <th>ecog_0</th>\n",
       "      <th>ecog_1</th>\n",
       "      <th>ecog_2</th>\n",
       "    </tr>\n",
       "  </thead>\n",
       "  <tbody>\n",
       "    <tr>\n",
       "      <th>1</th>\n",
       "      <td>0</td>\n",
       "      <td>1</td>\n",
       "      <td>0</td>\n",
       "    </tr>\n",
       "    <tr>\n",
       "      <th>2</th>\n",
       "      <td>1</td>\n",
       "      <td>0</td>\n",
       "      <td>0</td>\n",
       "    </tr>\n",
       "    <tr>\n",
       "      <th>3</th>\n",
       "      <td>1</td>\n",
       "      <td>0</td>\n",
       "      <td>0</td>\n",
       "    </tr>\n",
       "    <tr>\n",
       "      <th>4</th>\n",
       "      <td>0</td>\n",
       "      <td>1</td>\n",
       "      <td>0</td>\n",
       "    </tr>\n",
       "  </tbody>\n",
       "</table>\n",
       "</div>"
      ],
      "text/plain": [
       "   ecog_0  ecog_1  ecog_2\n",
       "1       0       1       0\n",
       "2       1       0       0\n",
       "3       1       0       0\n",
       "4       0       1       0"
      ]
     },
     "execution_count": 172,
     "metadata": {},
     "output_type": "execute_result"
    }
   ],
   "source": [
    "dummies_ecog = pd.get_dummies(data[\"ph.ecog\"], prefix = 'ecog')\n",
    "dummies_ecog.head(4)"
   ]
  },
  {
   "cell_type": "markdown",
   "metadata": {},
   "source": [
    "원핫인코딩?\n",
    "ph.ecog = 0~2값 가짐\n",
    "그냥 돌리면 sex, ph.ecog 값이 유의미함 → ph.ecog값이 연속형 숫자로 \n",
    "\n",
    "원핫인코딩 하면\n",
    "ph.ecog가 ecog0, ecog1, ecog2로 구분 가능하며 각각의 유의미함 및 결과 해석 가능\n",
    "\n",
    "but, ecog 0~2 모두 포함하여 돌리면 collinearity 에러 뜸\n",
    "     아래 코드에서 1, 2만 포함해서 돌리는 이유...\n",
    "     계수 간 상관관계가 있음 "
   ]
  },
  {
   "cell_type": "code",
   "execution_count": 173,
   "metadata": {
    "ExecuteTime": {
     "end_time": "2021-10-15T19:19:30.136819Z",
     "start_time": "2021-10-15T19:19:30.118891Z"
    }
   },
   "outputs": [
    {
     "data": {
      "text/html": [
       "<div>\n",
       "<style scoped>\n",
       "    .dataframe tbody tr th:only-of-type {\n",
       "        vertical-align: middle;\n",
       "    }\n",
       "\n",
       "    .dataframe tbody tr th {\n",
       "        vertical-align: top;\n",
       "    }\n",
       "\n",
       "    .dataframe thead th {\n",
       "        text-align: right;\n",
       "    }\n",
       "</style>\n",
       "<table border=\"1\" class=\"dataframe\">\n",
       "  <thead>\n",
       "    <tr style=\"text-align: right;\">\n",
       "      <th></th>\n",
       "      <th>time</th>\n",
       "      <th>status</th>\n",
       "      <th>age</th>\n",
       "      <th>sex</th>\n",
       "      <th>ph.ecog</th>\n",
       "      <th>ph.karno</th>\n",
       "      <th>pat.karno</th>\n",
       "      <th>meal.cal</th>\n",
       "      <th>wt.loss</th>\n",
       "      <th>ecog_1</th>\n",
       "      <th>ecog_2</th>\n",
       "    </tr>\n",
       "  </thead>\n",
       "  <tbody>\n",
       "    <tr>\n",
       "      <th>1</th>\n",
       "      <td>306</td>\n",
       "      <td>1</td>\n",
       "      <td>74</td>\n",
       "      <td>0</td>\n",
       "      <td>1</td>\n",
       "      <td>90.0</td>\n",
       "      <td>100.0</td>\n",
       "      <td>1175.000000</td>\n",
       "      <td>9.831776</td>\n",
       "      <td>1</td>\n",
       "      <td>0</td>\n",
       "    </tr>\n",
       "    <tr>\n",
       "      <th>2</th>\n",
       "      <td>455</td>\n",
       "      <td>1</td>\n",
       "      <td>68</td>\n",
       "      <td>0</td>\n",
       "      <td>0</td>\n",
       "      <td>90.0</td>\n",
       "      <td>90.0</td>\n",
       "      <td>1225.000000</td>\n",
       "      <td>15.000000</td>\n",
       "      <td>0</td>\n",
       "      <td>0</td>\n",
       "    </tr>\n",
       "    <tr>\n",
       "      <th>3</th>\n",
       "      <td>1010</td>\n",
       "      <td>0</td>\n",
       "      <td>56</td>\n",
       "      <td>0</td>\n",
       "      <td>0</td>\n",
       "      <td>90.0</td>\n",
       "      <td>90.0</td>\n",
       "      <td>928.779006</td>\n",
       "      <td>15.000000</td>\n",
       "      <td>0</td>\n",
       "      <td>0</td>\n",
       "    </tr>\n",
       "    <tr>\n",
       "      <th>4</th>\n",
       "      <td>210</td>\n",
       "      <td>1</td>\n",
       "      <td>57</td>\n",
       "      <td>0</td>\n",
       "      <td>1</td>\n",
       "      <td>90.0</td>\n",
       "      <td>60.0</td>\n",
       "      <td>1150.000000</td>\n",
       "      <td>11.000000</td>\n",
       "      <td>1</td>\n",
       "      <td>0</td>\n",
       "    </tr>\n",
       "    <tr>\n",
       "      <th>5</th>\n",
       "      <td>883</td>\n",
       "      <td>1</td>\n",
       "      <td>60</td>\n",
       "      <td>0</td>\n",
       "      <td>0</td>\n",
       "      <td>100.0</td>\n",
       "      <td>90.0</td>\n",
       "      <td>928.779006</td>\n",
       "      <td>0.000000</td>\n",
       "      <td>0</td>\n",
       "      <td>0</td>\n",
       "    </tr>\n",
       "  </tbody>\n",
       "</table>\n",
       "</div>"
      ],
      "text/plain": [
       "   time  status  age  sex  ph.ecog  ph.karno  pat.karno     meal.cal  \\\n",
       "1   306       1   74    0        1      90.0      100.0  1175.000000   \n",
       "2   455       1   68    0        0      90.0       90.0  1225.000000   \n",
       "3  1010       0   56    0        0      90.0       90.0   928.779006   \n",
       "4   210       1   57    0        1      90.0       60.0  1150.000000   \n",
       "5   883       1   60    0        0     100.0       90.0   928.779006   \n",
       "\n",
       "     wt.loss  ecog_1  ecog_2  \n",
       "1   9.831776       1       0  \n",
       "2  15.000000       0       0  \n",
       "3  15.000000       0       0  \n",
       "4  11.000000       1       0  \n",
       "5   0.000000       0       0  "
      ]
     },
     "execution_count": 173,
     "metadata": {},
     "output_type": "execute_result"
    }
   ],
   "source": [
    "dummies_ecog = dummies_ecog[[\"ecog_1\", \"ecog_2\"]]\n",
    "data = pd.concat([data, dummies_ecog], \n",
    "                  axis = 1)\n",
    "data.head()"
   ]
  },
  {
   "cell_type": "code",
   "execution_count": 174,
   "metadata": {
    "ExecuteTime": {
     "end_time": "2021-10-15T19:19:37.845721Z",
     "start_time": "2021-10-15T19:19:37.828916Z"
    }
   },
   "outputs": [
    {
     "data": {
      "text/html": [
       "<div>\n",
       "<style scoped>\n",
       "    .dataframe tbody tr th:only-of-type {\n",
       "        vertical-align: middle;\n",
       "    }\n",
       "\n",
       "    .dataframe tbody tr th {\n",
       "        vertical-align: top;\n",
       "    }\n",
       "\n",
       "    .dataframe thead th {\n",
       "        text-align: right;\n",
       "    }\n",
       "</style>\n",
       "<table border=\"1\" class=\"dataframe\">\n",
       "  <thead>\n",
       "    <tr style=\"text-align: right;\">\n",
       "      <th></th>\n",
       "      <th>time</th>\n",
       "      <th>status</th>\n",
       "      <th>age</th>\n",
       "      <th>sex</th>\n",
       "      <th>ph.karno</th>\n",
       "      <th>pat.karno</th>\n",
       "      <th>meal.cal</th>\n",
       "      <th>wt.loss</th>\n",
       "      <th>ecog_1</th>\n",
       "      <th>ecog_2</th>\n",
       "    </tr>\n",
       "  </thead>\n",
       "  <tbody>\n",
       "    <tr>\n",
       "      <th>1</th>\n",
       "      <td>306</td>\n",
       "      <td>1</td>\n",
       "      <td>74</td>\n",
       "      <td>0</td>\n",
       "      <td>90.0</td>\n",
       "      <td>100.0</td>\n",
       "      <td>1175.000000</td>\n",
       "      <td>9.831776</td>\n",
       "      <td>1</td>\n",
       "      <td>0</td>\n",
       "    </tr>\n",
       "    <tr>\n",
       "      <th>2</th>\n",
       "      <td>455</td>\n",
       "      <td>1</td>\n",
       "      <td>68</td>\n",
       "      <td>0</td>\n",
       "      <td>90.0</td>\n",
       "      <td>90.0</td>\n",
       "      <td>1225.000000</td>\n",
       "      <td>15.000000</td>\n",
       "      <td>0</td>\n",
       "      <td>0</td>\n",
       "    </tr>\n",
       "    <tr>\n",
       "      <th>3</th>\n",
       "      <td>1010</td>\n",
       "      <td>0</td>\n",
       "      <td>56</td>\n",
       "      <td>0</td>\n",
       "      <td>90.0</td>\n",
       "      <td>90.0</td>\n",
       "      <td>928.779006</td>\n",
       "      <td>15.000000</td>\n",
       "      <td>0</td>\n",
       "      <td>0</td>\n",
       "    </tr>\n",
       "    <tr>\n",
       "      <th>4</th>\n",
       "      <td>210</td>\n",
       "      <td>1</td>\n",
       "      <td>57</td>\n",
       "      <td>0</td>\n",
       "      <td>90.0</td>\n",
       "      <td>60.0</td>\n",
       "      <td>1150.000000</td>\n",
       "      <td>11.000000</td>\n",
       "      <td>1</td>\n",
       "      <td>0</td>\n",
       "    </tr>\n",
       "    <tr>\n",
       "      <th>5</th>\n",
       "      <td>883</td>\n",
       "      <td>1</td>\n",
       "      <td>60</td>\n",
       "      <td>0</td>\n",
       "      <td>100.0</td>\n",
       "      <td>90.0</td>\n",
       "      <td>928.779006</td>\n",
       "      <td>0.000000</td>\n",
       "      <td>0</td>\n",
       "      <td>0</td>\n",
       "    </tr>\n",
       "  </tbody>\n",
       "</table>\n",
       "</div>"
      ],
      "text/plain": [
       "   time  status  age  sex  ph.karno  pat.karno     meal.cal    wt.loss  \\\n",
       "1   306       1   74    0      90.0      100.0  1175.000000   9.831776   \n",
       "2   455       1   68    0      90.0       90.0  1225.000000  15.000000   \n",
       "3  1010       0   56    0      90.0       90.0   928.779006  15.000000   \n",
       "4   210       1   57    0      90.0       60.0  1150.000000  11.000000   \n",
       "5   883       1   60    0     100.0       90.0   928.779006   0.000000   \n",
       "\n",
       "   ecog_1  ecog_2  \n",
       "1       1       0  \n",
       "2       0       0  \n",
       "3       0       0  \n",
       "4       1       0  \n",
       "5       0       0  "
      ]
     },
     "execution_count": 174,
     "metadata": {},
     "output_type": "execute_result"
    }
   ],
   "source": [
    "data = data.drop(\"ph.ecog\", axis = 1)\n",
    "data.head()"
   ]
  },
  {
   "cell_type": "code",
   "execution_count": 175,
   "metadata": {
    "ExecuteTime": {
     "end_time": "2021-10-15T19:20:05.735075Z",
     "start_time": "2021-10-15T19:20:05.566150Z"
    },
    "scrolled": false
   },
   "outputs": [
    {
     "data": {
      "text/html": [
       "<div>\n",
       "<style scoped>\n",
       "    .dataframe tbody tr th:only-of-type {\n",
       "        vertical-align: middle;\n",
       "    }\n",
       "\n",
       "    .dataframe tbody tr th {\n",
       "        vertical-align: top;\n",
       "    }\n",
       "\n",
       "    .dataframe thead th {\n",
       "        text-align: right;\n",
       "    }\n",
       "</style>\n",
       "<table border=\"1\" class=\"dataframe\">\n",
       "  <tbody>\n",
       "    <tr>\n",
       "      <th>model</th>\n",
       "      <td>lifelines.CoxPHFitter</td>\n",
       "    </tr>\n",
       "    <tr>\n",
       "      <th>duration col</th>\n",
       "      <td>'time'</td>\n",
       "    </tr>\n",
       "    <tr>\n",
       "      <th>event col</th>\n",
       "      <td>'status'</td>\n",
       "    </tr>\n",
       "    <tr>\n",
       "      <th>baseline estimation</th>\n",
       "      <td>breslow</td>\n",
       "    </tr>\n",
       "    <tr>\n",
       "      <th>number of observations</th>\n",
       "      <td>226</td>\n",
       "    </tr>\n",
       "    <tr>\n",
       "      <th>number of events observed</th>\n",
       "      <td>163</td>\n",
       "    </tr>\n",
       "    <tr>\n",
       "      <th>partial log-likelihood</th>\n",
       "      <td>-721.02</td>\n",
       "    </tr>\n",
       "    <tr>\n",
       "      <th>time fit was run</th>\n",
       "      <td>2021-12-10 16:48:48 UTC</td>\n",
       "    </tr>\n",
       "  </tbody>\n",
       "</table>\n",
       "</div><table border=\"1\" class=\"dataframe\">\n",
       "  <thead>\n",
       "    <tr style=\"text-align: right;\">\n",
       "      <th style=\"min-width: 12px;\"></th>\n",
       "      <th style=\"min-width: 12px;\">coef</th>\n",
       "      <th style=\"min-width: 12px;\">exp(coef)</th>\n",
       "      <th style=\"min-width: 12px;\">se(coef)</th>\n",
       "      <th style=\"min-width: 12px;\">coef lower 95%</th>\n",
       "      <th style=\"min-width: 12px;\">coef upper 95%</th>\n",
       "      <th style=\"min-width: 12px;\">exp(coef) lower 95%</th>\n",
       "      <th style=\"min-width: 12px;\">exp(coef) upper 95%</th>\n",
       "      <th style=\"min-width: 12px;\">z</th>\n",
       "      <th style=\"min-width: 12px;\">p</th>\n",
       "      <th style=\"min-width: 12px;\">-log2(p)</th>\n",
       "    </tr>\n",
       "  </thead>\n",
       "  <tbody>\n",
       "    <tr>\n",
       "      <th>age</th>\n",
       "      <td>0.01</td>\n",
       "      <td>1.01</td>\n",
       "      <td>0.01</td>\n",
       "      <td>-0.01</td>\n",
       "      <td>0.03</td>\n",
       "      <td>0.99</td>\n",
       "      <td>1.03</td>\n",
       "      <td>1.33</td>\n",
       "      <td>0.18</td>\n",
       "      <td>2.44</td>\n",
       "    </tr>\n",
       "    <tr>\n",
       "      <th>sex</th>\n",
       "      <td>-0.58</td>\n",
       "      <td>0.56</td>\n",
       "      <td>0.17</td>\n",
       "      <td>-0.92</td>\n",
       "      <td>-0.25</td>\n",
       "      <td>0.40</td>\n",
       "      <td>0.78</td>\n",
       "      <td>-3.41</td>\n",
       "      <td>&lt;0.005</td>\n",
       "      <td>10.58</td>\n",
       "    </tr>\n",
       "    <tr>\n",
       "      <th>ph.karno</th>\n",
       "      <td>0.02</td>\n",
       "      <td>1.02</td>\n",
       "      <td>0.01</td>\n",
       "      <td>-0.00</td>\n",
       "      <td>0.03</td>\n",
       "      <td>1.00</td>\n",
       "      <td>1.03</td>\n",
       "      <td>1.64</td>\n",
       "      <td>0.10</td>\n",
       "      <td>3.29</td>\n",
       "    </tr>\n",
       "    <tr>\n",
       "      <th>pat.karno</th>\n",
       "      <td>-0.01</td>\n",
       "      <td>0.99</td>\n",
       "      <td>0.01</td>\n",
       "      <td>-0.03</td>\n",
       "      <td>0.00</td>\n",
       "      <td>0.97</td>\n",
       "      <td>1.00</td>\n",
       "      <td>-1.77</td>\n",
       "      <td>0.08</td>\n",
       "      <td>3.70</td>\n",
       "    </tr>\n",
       "    <tr>\n",
       "      <th>meal.cal</th>\n",
       "      <td>0.00</td>\n",
       "      <td>1.00</td>\n",
       "      <td>0.00</td>\n",
       "      <td>-0.00</td>\n",
       "      <td>0.00</td>\n",
       "      <td>1.00</td>\n",
       "      <td>1.00</td>\n",
       "      <td>0.06</td>\n",
       "      <td>0.95</td>\n",
       "      <td>0.07</td>\n",
       "    </tr>\n",
       "    <tr>\n",
       "      <th>wt.loss</th>\n",
       "      <td>-0.01</td>\n",
       "      <td>0.99</td>\n",
       "      <td>0.01</td>\n",
       "      <td>-0.02</td>\n",
       "      <td>0.00</td>\n",
       "      <td>0.98</td>\n",
       "      <td>1.00</td>\n",
       "      <td>-1.73</td>\n",
       "      <td>0.08</td>\n",
       "      <td>3.57</td>\n",
       "    </tr>\n",
       "    <tr>\n",
       "      <th>ecog_1</th>\n",
       "      <td>0.62</td>\n",
       "      <td>1.86</td>\n",
       "      <td>0.24</td>\n",
       "      <td>0.15</td>\n",
       "      <td>1.09</td>\n",
       "      <td>1.17</td>\n",
       "      <td>2.97</td>\n",
       "      <td>2.60</td>\n",
       "      <td>0.01</td>\n",
       "      <td>6.76</td>\n",
       "    </tr>\n",
       "    <tr>\n",
       "      <th>ecog_2</th>\n",
       "      <td>1.20</td>\n",
       "      <td>3.31</td>\n",
       "      <td>0.37</td>\n",
       "      <td>0.46</td>\n",
       "      <td>1.93</td>\n",
       "      <td>1.59</td>\n",
       "      <td>6.89</td>\n",
       "      <td>3.19</td>\n",
       "      <td>&lt;0.005</td>\n",
       "      <td>9.46</td>\n",
       "    </tr>\n",
       "  </tbody>\n",
       "</table><br><div>\n",
       "<style scoped>\n",
       "    .dataframe tbody tr th:only-of-type {\n",
       "        vertical-align: middle;\n",
       "    }\n",
       "\n",
       "    .dataframe tbody tr th {\n",
       "        vertical-align: top;\n",
       "    }\n",
       "\n",
       "    .dataframe thead th {\n",
       "        text-align: right;\n",
       "    }\n",
       "</style>\n",
       "<table border=\"1\" class=\"dataframe\">\n",
       "  <tbody>\n",
       "    <tr>\n",
       "      <th>Concordance</th>\n",
       "      <td>0.65</td>\n",
       "    </tr>\n",
       "    <tr>\n",
       "      <th>Partial AIC</th>\n",
       "      <td>1458.05</td>\n",
       "    </tr>\n",
       "    <tr>\n",
       "      <th>log-likelihood ratio test</th>\n",
       "      <td>36.08 on 8 df</td>\n",
       "    </tr>\n",
       "    <tr>\n",
       "      <th>-log2(p) of ll-ratio test</th>\n",
       "      <td>15.85</td>\n",
       "    </tr>\n",
       "  </tbody>\n",
       "</table>\n",
       "</div>"
      ],
      "text/latex": [
       "\\begin{tabular}{lrrrrrrrrrr}\n",
       "\\toprule\n",
       "{} &  coef &  exp(coef) &  se(coef) &  coef lower 95\\% &  coef upper 95\\% &  exp(coef) lower 95\\% &  exp(coef) upper 95\\% &     z &    p &  -log2(p) \\\\\n",
       "covariate &       &            &           &                 &                 &                      &                      &       &      &           \\\\\n",
       "\\midrule\n",
       "age       &  0.01 &       1.01 &      0.01 &           -0.01 &            0.03 &                 0.99 &                 1.03 &  1.33 & 0.18 &      2.44 \\\\\n",
       "sex       & -0.58 &       0.56 &      0.17 &           -0.92 &           -0.25 &                 0.40 &                 0.78 & -3.41 & 0.00 &     10.58 \\\\\n",
       "ph.karno  &  0.02 &       1.02 &      0.01 &           -0.00 &            0.03 &                 1.00 &                 1.03 &  1.64 & 0.10 &      3.29 \\\\\n",
       "pat.karno & -0.01 &       0.99 &      0.01 &           -0.03 &            0.00 &                 0.97 &                 1.00 & -1.77 & 0.08 &      3.70 \\\\\n",
       "meal.cal  &  0.00 &       1.00 &      0.00 &           -0.00 &            0.00 &                 1.00 &                 1.00 &  0.06 & 0.95 &      0.07 \\\\\n",
       "wt.loss   & -0.01 &       0.99 &      0.01 &           -0.02 &            0.00 &                 0.98 &                 1.00 & -1.73 & 0.08 &      3.57 \\\\\n",
       "ecog\\_1    &  0.62 &       1.86 &      0.24 &            0.15 &            1.09 &                 1.17 &                 2.97 &  2.60 & 0.01 &      6.76 \\\\\n",
       "ecog\\_2    &  1.20 &       3.31 &      0.37 &            0.46 &            1.93 &                 1.59 &                 6.89 &  3.19 & 0.00 &      9.46 \\\\\n",
       "\\bottomrule\n",
       "\\end{tabular}\n"
      ],
      "text/plain": [
       "<lifelines.CoxPHFitter: fitted with 226 total observations, 63 right-censored observations>\n",
       "             duration col = 'time'\n",
       "                event col = 'status'\n",
       "      baseline estimation = breslow\n",
       "   number of observations = 226\n",
       "number of events observed = 163\n",
       "   partial log-likelihood = -721.02\n",
       "         time fit was run = 2021-12-10 16:48:48 UTC\n",
       "\n",
       "---\n",
       "            coef  exp(coef)   se(coef)   coef lower 95%   coef upper 95%  exp(coef) lower 95%  exp(coef) upper 95%\n",
       "covariate                                                                                                         \n",
       "age         0.01       1.01       0.01            -0.01             0.03                 0.99                 1.03\n",
       "sex        -0.58       0.56       0.17            -0.92            -0.25                 0.40                 0.78\n",
       "ph.karno    0.02       1.02       0.01            -0.00             0.03                 1.00                 1.03\n",
       "pat.karno  -0.01       0.99       0.01            -0.03             0.00                 0.97                 1.00\n",
       "meal.cal    0.00       1.00       0.00            -0.00             0.00                 1.00                 1.00\n",
       "wt.loss    -0.01       0.99       0.01            -0.02             0.00                 0.98                 1.00\n",
       "ecog_1      0.62       1.86       0.24             0.15             1.09                 1.17                 2.97\n",
       "ecog_2      1.20       3.31       0.37             0.46             1.93                 1.59                 6.89\n",
       "\n",
       "              z      p   -log2(p)\n",
       "covariate                        \n",
       "age        1.33   0.18       2.44\n",
       "sex       -3.41 <0.005      10.58\n",
       "ph.karno   1.64   0.10       3.29\n",
       "pat.karno -1.77   0.08       3.70\n",
       "meal.cal   0.06   0.95       0.07\n",
       "wt.loss   -1.73   0.08       3.57\n",
       "ecog_1     2.60   0.01       6.76\n",
       "ecog_2     3.19 <0.005       9.46\n",
       "---\n",
       "Concordance = 0.65\n",
       "Partial AIC = 1458.05\n",
       "log-likelihood ratio test = 36.08 on 8 df\n",
       "-log2(p) of ll-ratio test = 15.85"
      ]
     },
     "metadata": {},
     "output_type": "display_data"
    }
   ],
   "source": [
    "cph = CoxPHFitter()\n",
    "cph.fit(data, duration_col = 'time', event_col = 'status')\n",
    "\n",
    "cph.print_summary() "
   ]
  },
  {
   "cell_type": "markdown",
   "metadata": {},
   "source": [
    "### Interpretation"
   ]
  },
  {
   "cell_type": "markdown",
   "metadata": {},
   "source": [
    "* Wt.loss has a coefficient of about -0.01.\n",
    "\n",
    "* We can recall that in the Cox proportional hazard model, a higher hazard means more at risk of the event occurring.\n",
    "The value $exp(-0.01)$ is called the hazard ratio.\n",
    "\n",
    "* Here, a one unit increase in wt loss means the baseline hazard will increase by a factor \n",
    "of $exp(-0.01)$ = 0.99 -> about a 1% decrease. \n",
    "\n",
    "* Similarly, the values in the ecog column are: \\[0 = asymptomatic, 1 = symptomatic but completely ambulatory, 2 = in bed $<$50\\% of the day\\]. The value of the coefficient associated with ecog2, $exp(1.20)$, is the value of ratio of hazards associated with being \"in bed $<$50% of the day (coded as 2)\" compared to asymptomatic (coded as 0, base category)."
   ]
  },
  {
   "cell_type": "markdown",
   "metadata": {},
   "source": [
    "결과 해석법\n",
    "1. 각 항목의 p-value 확인 → 0.05보다 작으면 유의한 결과\n",
    "2. exp(coef) = HR(위험비)이며 1보다 크면 위험 증가, 1보다 작으면 위험 감소\n",
    "3. exp(coef) = 3.31면 사망위험 231% 높다"
   ]
  },
  {
   "cell_type": "code",
   "execution_count": 180,
   "metadata": {
    "ExecuteTime": {
     "end_time": "2021-10-15T19:23:53.317001Z",
     "start_time": "2021-10-15T19:23:53.150418Z"
    }
   },
   "outputs": [
    {
     "data": {
      "text/plain": [
       "<AxesSubplot:xlabel='log(HR) (95% CI)'>"
      ]
     },
     "execution_count": 180,
     "metadata": {},
     "output_type": "execute_result"
    },
    {
     "data": {
      "image/png": "[encoded data removed]",
      "text/plain": [
       "<Figure size 720x432 with 1 Axes>"
      ]
     },
     "metadata": {
      "needs_background": "light"
     },
     "output_type": "display_data"
    }
   ],
   "source": [
    "plt.subplots(figsize=(10, 6))\n",
    "cph.plot()"
   ]
  },
  {
   "cell_type": "code",
   "execution_count": 177,
   "metadata": {
    "ExecuteTime": {
     "end_time": "2021-10-15T19:24:28.690946Z",
     "start_time": "2021-10-15T19:24:28.471523Z"
    }
   },
   "outputs": [
    {
     "data": {
      "text/plain": [
       "<AxesSubplot:>"
      ]
     },
     "execution_count": 177,
     "metadata": {},
     "output_type": "execute_result"
    },
    {
     "data": {
      "image/png": "[encoded data removed]",
      "text/plain": [
       "<Figure size 432x288 with 1 Axes>"
      ]
     },
     "metadata": {
      "needs_background": "light"
     },
     "output_type": "display_data"
    }
   ],
   "source": [
    "cph.plot_partial_effects_on_outcome(covariates = 'age',\n",
    "                                    values = [50, 60, 70, 80],\n",
    "                                    cmap = 'coolwarm')"
   ]
  },
  {
   "cell_type": "code",
   "execution_count": 178,
   "metadata": {
    "ExecuteTime": {
     "end_time": "2021-10-15T19:25:32.889132Z",
     "start_time": "2021-10-15T19:25:32.773374Z"
    }
   },
   "outputs": [
    {
     "name": "stdout",
     "output_type": "stream",
     "text": [
      "The ``p_value_threshold`` is set at 0.05. Even under the null hypothesis of no violations, some\n",
      "covariates will be below the threshold by chance. This is compounded when there are many covariates.\n",
      "Similarly, when there are lots of observations, even minor deviances from the proportional hazard\n",
      "assumption will be flagged.\n",
      "\n",
      "With that in mind, it's best to use a combination of statistical tests and visual tests to determine\n",
      "the most serious violations. Produce visual plots using ``check_assumptions(..., show_plots=True)``\n",
      "and looking for non-constant lines. See link [A] below for a full example.\n",
      "\n"
     ]
    },
    {
     "name": "stderr",
     "output_type": "stream",
     "text": [
      "C:\\Users\\anjui\\anaconda3\\lib\\site-packages\\lifelines\\fitters\\mixins.py:108: FutureWarning: Index.__and__ operating as a set operation is deprecated, in the future this will be a logical operation matching Series.__and__.  Use index.intersection(other) instead\n",
      "  for variable in self.params_.index & (columns or self.params_.index):\n"
     ]
    },
    {
     "data": {
      "text/html": [
       "<div>\n",
       "<style scoped>\n",
       "    .dataframe tbody tr th:only-of-type {\n",
       "        vertical-align: middle;\n",
       "    }\n",
       "\n",
       "    .dataframe tbody tr th {\n",
       "        vertical-align: top;\n",
       "    }\n",
       "\n",
       "    .dataframe thead th {\n",
       "        text-align: right;\n",
       "    }\n",
       "</style>\n",
       "<table border=\"1\" class=\"dataframe\">\n",
       "  <tbody>\n",
       "    <tr>\n",
       "      <th>null_distribution</th>\n",
       "      <td>chi squared</td>\n",
       "    </tr>\n",
       "    <tr>\n",
       "      <th>degrees_of_freedom</th>\n",
       "      <td>1</td>\n",
       "    </tr>\n",
       "    <tr>\n",
       "      <th>model</th>\n",
       "      <td>&lt;lifelines.CoxPHFitter: fitted with 226 total ...</td>\n",
       "    </tr>\n",
       "    <tr>\n",
       "      <th>test_name</th>\n",
       "      <td>proportional_hazard_test</td>\n",
       "    </tr>\n",
       "  </tbody>\n",
       "</table>\n",
       "</div><table border=\"1\" class=\"dataframe\">\n",
       "  <thead>\n",
       "    <tr style=\"text-align: right;\">\n",
       "      <th></th>\n",
       "      <th></th>\n",
       "      <th>test_statistic</th>\n",
       "      <th>p</th>\n",
       "      <th>-log2(p)</th>\n",
       "    </tr>\n",
       "  </thead>\n",
       "  <tbody>\n",
       "    <tr>\n",
       "      <th rowspan=\"2\" valign=\"top\">age</th>\n",
       "      <th>km</th>\n",
       "      <td>0.42</td>\n",
       "      <td>0.52</td>\n",
       "      <td>0.95</td>\n",
       "    </tr>\n",
       "    <tr>\n",
       "      <th>rank</th>\n",
       "      <td>0.18</td>\n",
       "      <td>0.67</td>\n",
       "      <td>0.58</td>\n",
       "    </tr>\n",
       "    <tr>\n",
       "      <th rowspan=\"2\" valign=\"top\">ecog_1</th>\n",
       "      <th>km</th>\n",
       "      <td>1.57</td>\n",
       "      <td>0.21</td>\n",
       "      <td>2.25</td>\n",
       "    </tr>\n",
       "    <tr>\n",
       "      <th>rank</th>\n",
       "      <td>1.41</td>\n",
       "      <td>0.23</td>\n",
       "      <td>2.09</td>\n",
       "    </tr>\n",
       "    <tr>\n",
       "      <th rowspan=\"2\" valign=\"top\">ecog_2</th>\n",
       "      <th>km</th>\n",
       "      <td>1.20</td>\n",
       "      <td>0.27</td>\n",
       "      <td>1.87</td>\n",
       "    </tr>\n",
       "    <tr>\n",
       "      <th>rank</th>\n",
       "      <td>0.86</td>\n",
       "      <td>0.35</td>\n",
       "      <td>1.50</td>\n",
       "    </tr>\n",
       "    <tr>\n",
       "      <th rowspan=\"2\" valign=\"top\">meal.cal</th>\n",
       "      <th>km</th>\n",
       "      <td>5.32</td>\n",
       "      <td>0.02</td>\n",
       "      <td>5.57</td>\n",
       "    </tr>\n",
       "    <tr>\n",
       "      <th>rank</th>\n",
       "      <td>4.73</td>\n",
       "      <td>0.03</td>\n",
       "      <td>5.08</td>\n",
       "    </tr>\n",
       "    <tr>\n",
       "      <th rowspan=\"2\" valign=\"top\">pat.karno</th>\n",
       "      <th>km</th>\n",
       "      <td>0.22</td>\n",
       "      <td>0.64</td>\n",
       "      <td>0.64</td>\n",
       "    </tr>\n",
       "    <tr>\n",
       "      <th>rank</th>\n",
       "      <td>0.17</td>\n",
       "      <td>0.68</td>\n",
       "      <td>0.55</td>\n",
       "    </tr>\n",
       "    <tr>\n",
       "      <th rowspan=\"2\" valign=\"top\">ph.karno</th>\n",
       "      <th>km</th>\n",
       "      <td>3.62</td>\n",
       "      <td>0.06</td>\n",
       "      <td>4.13</td>\n",
       "    </tr>\n",
       "    <tr>\n",
       "      <th>rank</th>\n",
       "      <td>3.07</td>\n",
       "      <td>0.08</td>\n",
       "      <td>3.65</td>\n",
       "    </tr>\n",
       "    <tr>\n",
       "      <th rowspan=\"2\" valign=\"top\">sex</th>\n",
       "      <th>km</th>\n",
       "      <td>2.62</td>\n",
       "      <td>0.11</td>\n",
       "      <td>3.25</td>\n",
       "    </tr>\n",
       "    <tr>\n",
       "      <th>rank</th>\n",
       "      <td>2.50</td>\n",
       "      <td>0.11</td>\n",
       "      <td>3.14</td>\n",
       "    </tr>\n",
       "    <tr>\n",
       "      <th rowspan=\"2\" valign=\"top\">wt.loss</th>\n",
       "      <th>km</th>\n",
       "      <td>0.02</td>\n",
       "      <td>0.89</td>\n",
       "      <td>0.17</td>\n",
       "    </tr>\n",
       "    <tr>\n",
       "      <th>rank</th>\n",
       "      <td>0.06</td>\n",
       "      <td>0.81</td>\n",
       "      <td>0.31</td>\n",
       "    </tr>\n",
       "  </tbody>\n",
       "</table>"
      ],
      "text/latex": [
       "\\begin{tabular}{llrrr}\n",
       "\\toprule\n",
       "        &      &  test\\_statistic &         p &  -log2(p) \\\\\n",
       "\\midrule\n",
       "age & km &        0.416727 &  0.518575 &  0.947376 \\\\\n",
       "        & rank &        0.184279 &  0.667721 &  0.582682 \\\\\n",
       "ecog\\_1 & km &        1.566438 &  0.210725 &  2.246566 \\\\\n",
       "        & rank &        1.411733 &  0.234769 &  2.090686 \\\\\n",
       "ecog\\_2 & km &        1.196023 &  0.274118 &  1.867131 \\\\\n",
       "        & rank &        0.861073 &  0.353439 &  1.500469 \\\\\n",
       "meal.cal & km &        5.323911 &  0.021035 &  5.571082 \\\\\n",
       "        & rank &        4.732486 &  0.029598 &  5.078353 \\\\\n",
       "pat.karno & km &        0.215000 &  0.642876 &  0.637387 \\\\\n",
       "        & rank &        0.165011 &  0.684585 &  0.546699 \\\\\n",
       "ph.karno & km &        3.624545 &  0.056933 &  4.134587 \\\\\n",
       "        & rank &        3.068846 &  0.079806 &  3.647357 \\\\\n",
       "sex & km &        2.623966 &  0.105261 &  3.247957 \\\\\n",
       "        & rank &        2.504782 &  0.113501 &  3.139220 \\\\\n",
       "wt.loss & km &        0.019160 &  0.889910 &  0.168269 \\\\\n",
       "        & rank &        0.060817 &  0.805209 &  0.312565 \\\\\n",
       "\\bottomrule\n",
       "\\end{tabular}\n"
      ],
      "text/plain": [
       "<lifelines.StatisticalResult: proportional_hazard_test>\n",
       " null_distribution = chi squared\n",
       "degrees_of_freedom = 1\n",
       "             model = <lifelines.CoxPHFitter: fitted with 226 total observations, 63 right-censored observations>\n",
       "         test_name = proportional_hazard_test\n",
       "\n",
       "---\n",
       "                test_statistic    p  -log2(p)\n",
       "age       km              0.42 0.52      0.95\n",
       "          rank            0.18 0.67      0.58\n",
       "ecog_1    km              1.57 0.21      2.25\n",
       "          rank            1.41 0.23      2.09\n",
       "ecog_2    km              1.20 0.27      1.87\n",
       "          rank            0.86 0.35      1.50\n",
       "meal.cal  km              5.32 0.02      5.57\n",
       "          rank            4.73 0.03      5.08\n",
       "pat.karno km              0.22 0.64      0.64\n",
       "          rank            0.17 0.68      0.55\n",
       "ph.karno  km              3.62 0.06      4.13\n",
       "          rank            3.07 0.08      3.65\n",
       "sex       km              2.62 0.11      3.25\n",
       "          rank            2.50 0.11      3.14\n",
       "wt.loss   km              0.02 0.89      0.17\n",
       "          rank            0.06 0.81      0.31"
      ]
     },
     "metadata": {},
     "output_type": "display_data"
    },
    {
     "name": "stdout",
     "output_type": "stream",
     "text": [
      "\n",
      "\n",
      "1. Variable 'meal.cal' failed the non-proportional test: p-value is 0.0210.\n",
      "\n",
      "   Advice 1: the functional form of the variable 'meal.cal' might be incorrect. That is, there may\n",
      "be non-linear terms missing. The proportional hazard test used is very sensitive to incorrect\n",
      "functional forms. See documentation in link [D] below on how to specify a functional form.\n",
      "\n",
      "   Advice 2: try binning the variable 'meal.cal' using pd.cut, and then specify it in\n",
      "`strata=['meal.cal', ...]` in the call in `.fit`. See documentation in link [B] below.\n",
      "\n",
      "   Advice 3: try adding an interaction term with your time variable. See documentation in link [C]\n",
      "below.\n",
      "\n",
      "\n",
      "---\n",
      "[A]  https://lifelines.readthedocs.io/en/latest/jupyter_notebooks/Proportional%20hazard%20assumption.html\n",
      "[B]  https://lifelines.readthedocs.io/en/latest/jupyter_notebooks/Proportional%20hazard%20assumption.html#Bin-variable-and-stratify-on-it\n",
      "[C]  https://lifelines.readthedocs.io/en/latest/jupyter_notebooks/Proportional%20hazard%20assumption.html#Introduce-time-varying-covariates\n",
      "[D]  https://lifelines.readthedocs.io/en/latest/jupyter_notebooks/Proportional%20hazard%20assumption.html#Modify-the-functional-form\n",
      "[E]  https://lifelines.readthedocs.io/en/latest/jupyter_notebooks/Proportional%20hazard%20assumption.html#Stratification\n",
      "\n"
     ]
    },
    {
     "data": {
      "text/plain": [
       "[]"
      ]
     },
     "execution_count": 178,
     "metadata": {},
     "output_type": "execute_result"
    }
   ],
   "source": [
    "cph.check_assumptions(data, p_value_threshold = 0.05)"
   ]
  },
  {
   "cell_type": "code",
   "execution_count": 179,
   "metadata": {
    "ExecuteTime": {
     "end_time": "2021-10-15T19:26:49.253297Z",
     "start_time": "2021-10-15T19:26:49.205403Z"
    }
   },
   "outputs": [
    {
     "data": {
      "text/html": [
       "<div>\n",
       "<style scoped>\n",
       "    .dataframe tbody tr th:only-of-type {\n",
       "        vertical-align: middle;\n",
       "    }\n",
       "\n",
       "    .dataframe tbody tr th {\n",
       "        vertical-align: top;\n",
       "    }\n",
       "\n",
       "    .dataframe thead th {\n",
       "        text-align: right;\n",
       "    }\n",
       "</style>\n",
       "<table border=\"1\" class=\"dataframe\">\n",
       "  <tbody>\n",
       "    <tr>\n",
       "      <th>time_transform</th>\n",
       "      <td>rank</td>\n",
       "    </tr>\n",
       "    <tr>\n",
       "      <th>null_distribution</th>\n",
       "      <td>chi squared</td>\n",
       "    </tr>\n",
       "    <tr>\n",
       "      <th>degrees_of_freedom</th>\n",
       "      <td>1</td>\n",
       "    </tr>\n",
       "    <tr>\n",
       "      <th>model</th>\n",
       "      <td>&lt;lifelines.CoxPHFitter: fitted with 226 total ...</td>\n",
       "    </tr>\n",
       "    <tr>\n",
       "      <th>test_name</th>\n",
       "      <td>proportional_hazard_test</td>\n",
       "    </tr>\n",
       "  </tbody>\n",
       "</table>\n",
       "</div><table border=\"1\" class=\"dataframe\">\n",
       "  <thead>\n",
       "    <tr style=\"text-align: right;\">\n",
       "      <th></th>\n",
       "      <th>test_statistic</th>\n",
       "      <th>p</th>\n",
       "      <th>-log2(p)</th>\n",
       "    </tr>\n",
       "  </thead>\n",
       "  <tbody>\n",
       "    <tr>\n",
       "      <th>age</th>\n",
       "      <td>0.18</td>\n",
       "      <td>0.67</td>\n",
       "      <td>0.58</td>\n",
       "    </tr>\n",
       "    <tr>\n",
       "      <th>ecog_1</th>\n",
       "      <td>1.41</td>\n",
       "      <td>0.23</td>\n",
       "      <td>2.09</td>\n",
       "    </tr>\n",
       "    <tr>\n",
       "      <th>ecog_2</th>\n",
       "      <td>0.86</td>\n",
       "      <td>0.35</td>\n",
       "      <td>1.50</td>\n",
       "    </tr>\n",
       "    <tr>\n",
       "      <th>meal.cal</th>\n",
       "      <td>4.73</td>\n",
       "      <td>0.03</td>\n",
       "      <td>5.08</td>\n",
       "    </tr>\n",
       "    <tr>\n",
       "      <th>pat.karno</th>\n",
       "      <td>0.17</td>\n",
       "      <td>0.68</td>\n",
       "      <td>0.55</td>\n",
       "    </tr>\n",
       "    <tr>\n",
       "      <th>ph.karno</th>\n",
       "      <td>3.07</td>\n",
       "      <td>0.08</td>\n",
       "      <td>3.65</td>\n",
       "    </tr>\n",
       "    <tr>\n",
       "      <th>sex</th>\n",
       "      <td>2.50</td>\n",
       "      <td>0.11</td>\n",
       "      <td>3.14</td>\n",
       "    </tr>\n",
       "    <tr>\n",
       "      <th>wt.loss</th>\n",
       "      <td>0.06</td>\n",
       "      <td>0.81</td>\n",
       "      <td>0.31</td>\n",
       "    </tr>\n",
       "  </tbody>\n",
       "</table>"
      ],
      "text/latex": [
       "\\begin{tabular}{lrrr}\n",
       "\\toprule\n",
       "{} &  test\\_statistic &         p &  -log2(p) \\\\\n",
       "\\midrule\n",
       "age       &        0.184279 &  0.667721 &  0.582682 \\\\\n",
       "ecog\\_1    &        1.411733 &  0.234769 &  2.090686 \\\\\n",
       "ecog\\_2    &        0.861073 &  0.353439 &  1.500469 \\\\\n",
       "meal.cal  &        4.732486 &  0.029598 &  5.078353 \\\\\n",
       "pat.karno &        0.165011 &  0.684585 &  0.546699 \\\\\n",
       "ph.karno  &        3.068846 &  0.079806 &  3.647357 \\\\\n",
       "sex       &        2.504782 &  0.113501 &  3.139220 \\\\\n",
       "wt.loss   &        0.060817 &  0.805209 &  0.312565 \\\\\n",
       "\\bottomrule\n",
       "\\end{tabular}\n"
      ],
      "text/plain": [
       "<lifelines.StatisticalResult: proportional_hazard_test>\n",
       "    time_transform = rank\n",
       " null_distribution = chi squared\n",
       "degrees_of_freedom = 1\n",
       "             model = <lifelines.CoxPHFitter: fitted with 226 total observations, 63 right-censored observations>\n",
       "         test_name = proportional_hazard_test\n",
       "\n",
       "---\n",
       "           test_statistic    p  -log2(p)\n",
       "age                  0.18 0.67      0.58\n",
       "ecog_1               1.41 0.23      2.09\n",
       "ecog_2               0.86 0.35      1.50\n",
       "meal.cal             4.73 0.03      5.08\n",
       "pat.karno            0.17 0.68      0.55\n",
       "ph.karno             3.07 0.08      3.65\n",
       "sex                  2.50 0.11      3.14\n",
       "wt.loss              0.06 0.81      0.31"
      ]
     },
     "metadata": {},
     "output_type": "display_data"
    }
   ],
   "source": [
    "from lifelines.statistics import proportional_hazard_test\n",
    "\n",
    "results = proportional_hazard_test(cph, data, time_transform='rank')\n",
    "results.print_summary(decimals=3, model=\"untransformed variables\")"
   ]
  },
  {
   "cell_type": "markdown",
   "metadata": {},
   "source": [
    "## Parametric [Accelerated Failure Time Model (AFT)]"
   ]
  },
  {
   "cell_type": "markdown",
   "metadata": {},
   "source": [
    "[AFT Lifelines package webpage](https://lifelines.readthedocs.io/en/latest/Survival%20Regression.html#accelerated-failure-time-models)"
   ]
  },
  {
   "cell_type": "code",
   "execution_count": 118,
   "metadata": {
    "ExecuteTime": {
     "end_time": "2021-10-15T19:31:21.581683Z",
     "start_time": "2021-10-15T19:31:20.996764Z"
    }
   },
   "outputs": [
    {
     "name": "stdout",
     "output_type": "stream",
     "text": [
      "The AIC value for WeibullFitter is 2286.140229521957\n",
      "The AIC value for ExponentialFitter is 2301.5875633782243\n",
      "The AIC value for LogNormalFitter is 2318.111808285761\n",
      "The AIC value for LogLogisticFitter is 2300.6601651026126\n"
     ]
    }
   ],
   "source": [
    "from lifelines import WeibullFitter,\\\n",
    "                      ExponentialFitter,\\\n",
    "                      LogNormalFitter,\\\n",
    "                      LogLogisticFitter\n",
    "\n",
    "\n",
    "# Instantiate each fitter\n",
    "wb = WeibullFitter()\n",
    "ex = ExponentialFitter()\n",
    "log = LogNormalFitter()\n",
    "loglogis = LogLogisticFitter()\n",
    "\n",
    "# Fit to data\n",
    "for model in [wb, ex, log, loglogis]:\n",
    "  model.fit(durations = data[\"time\"],\n",
    "            event_observed = data[\"status\"])\n",
    "  # Print AIC\n",
    "  print(\"The AIC value for\", model.__class__.__name__, \"is\",  model.AIC_)"
   ]
  },
  {
   "cell_type": "markdown",
   "metadata": {},
   "source": [
    "### Fit the weibull fitter and print summary"
   ]
  },
  {
   "cell_type": "code",
   "execution_count": 119,
   "metadata": {
    "ExecuteTime": {
     "end_time": "2021-10-15T19:31:42.902854Z",
     "start_time": "2021-10-15T19:31:42.492853Z"
    },
    "scrolled": true
   },
   "outputs": [
    {
     "data": {
      "text/html": [
       "<div>\n",
       "<style scoped>\n",
       "    .dataframe tbody tr th:only-of-type {\n",
       "        vertical-align: middle;\n",
       "    }\n",
       "\n",
       "    .dataframe tbody tr th {\n",
       "        vertical-align: top;\n",
       "    }\n",
       "\n",
       "    .dataframe thead th {\n",
       "        text-align: right;\n",
       "    }\n",
       "</style>\n",
       "<table border=\"1\" class=\"dataframe\">\n",
       "  <tbody>\n",
       "    <tr>\n",
       "      <th>model</th>\n",
       "      <td>lifelines.WeibullAFTFitter</td>\n",
       "    </tr>\n",
       "    <tr>\n",
       "      <th>duration col</th>\n",
       "      <td>'time'</td>\n",
       "    </tr>\n",
       "    <tr>\n",
       "      <th>event col</th>\n",
       "      <td>'status'</td>\n",
       "    </tr>\n",
       "    <tr>\n",
       "      <th>number of observations</th>\n",
       "      <td>226</td>\n",
       "    </tr>\n",
       "    <tr>\n",
       "      <th>number of events observed</th>\n",
       "      <td>163</td>\n",
       "    </tr>\n",
       "    <tr>\n",
       "      <th>log-likelihood</th>\n",
       "      <td>-1122.980</td>\n",
       "    </tr>\n",
       "    <tr>\n",
       "      <th>time fit was run</th>\n",
       "      <td>2021-12-10 16:14:09 UTC</td>\n",
       "    </tr>\n",
       "  </tbody>\n",
       "</table>\n",
       "</div><table border=\"1\" class=\"dataframe\">\n",
       "  <thead>\n",
       "    <tr style=\"text-align: right;\">\n",
       "      <th style=\"min-width: 12px;\"></th>\n",
       "      <th style=\"min-width: 12px;\"></th>\n",
       "      <th style=\"min-width: 12px;\">coef</th>\n",
       "      <th style=\"min-width: 12px;\">exp(coef)</th>\n",
       "      <th style=\"min-width: 12px;\">se(coef)</th>\n",
       "      <th style=\"min-width: 12px;\">coef lower 95%</th>\n",
       "      <th style=\"min-width: 12px;\">coef upper 95%</th>\n",
       "      <th style=\"min-width: 12px;\">exp(coef) lower 95%</th>\n",
       "      <th style=\"min-width: 12px;\">exp(coef) upper 95%</th>\n",
       "      <th style=\"min-width: 12px;\">z</th>\n",
       "      <th style=\"min-width: 12px;\">p</th>\n",
       "      <th style=\"min-width: 12px;\">-log2(p)</th>\n",
       "    </tr>\n",
       "  </thead>\n",
       "  <tbody>\n",
       "    <tr>\n",
       "      <th rowspan=\"9\" valign=\"top\">lambda_</th>\n",
       "      <th>age</th>\n",
       "      <td>-0.009</td>\n",
       "      <td>0.992</td>\n",
       "      <td>0.007</td>\n",
       "      <td>-0.022</td>\n",
       "      <td>0.005</td>\n",
       "      <td>0.978</td>\n",
       "      <td>1.005</td>\n",
       "      <td>-1.259</td>\n",
       "      <td>0.208</td>\n",
       "      <td>2.266</td>\n",
       "    </tr>\n",
       "    <tr>\n",
       "      <th>ecog_1</th>\n",
       "      <td>-0.445</td>\n",
       "      <td>0.641</td>\n",
       "      <td>0.167</td>\n",
       "      <td>-0.773</td>\n",
       "      <td>-0.117</td>\n",
       "      <td>0.462</td>\n",
       "      <td>0.889</td>\n",
       "      <td>-2.662</td>\n",
       "      <td>0.008</td>\n",
       "      <td>7.010</td>\n",
       "    </tr>\n",
       "    <tr>\n",
       "      <th>ecog_2</th>\n",
       "      <td>-0.878</td>\n",
       "      <td>0.416</td>\n",
       "      <td>0.263</td>\n",
       "      <td>-1.393</td>\n",
       "      <td>-0.363</td>\n",
       "      <td>0.248</td>\n",
       "      <td>0.695</td>\n",
       "      <td>-3.344</td>\n",
       "      <td>0.001</td>\n",
       "      <td>10.242</td>\n",
       "    </tr>\n",
       "    <tr>\n",
       "      <th>meal.cal</th>\n",
       "      <td>0.000</td>\n",
       "      <td>1.000</td>\n",
       "      <td>0.000</td>\n",
       "      <td>-0.000</td>\n",
       "      <td>0.000</td>\n",
       "      <td>1.000</td>\n",
       "      <td>1.000</td>\n",
       "      <td>0.021</td>\n",
       "      <td>0.983</td>\n",
       "      <td>0.024</td>\n",
       "    </tr>\n",
       "    <tr>\n",
       "      <th>pat.karno</th>\n",
       "      <td>0.009</td>\n",
       "      <td>1.009</td>\n",
       "      <td>0.005</td>\n",
       "      <td>-0.001</td>\n",
       "      <td>0.019</td>\n",
       "      <td>0.999</td>\n",
       "      <td>1.019</td>\n",
       "      <td>1.787</td>\n",
       "      <td>0.074</td>\n",
       "      <td>3.757</td>\n",
       "    </tr>\n",
       "    <tr>\n",
       "      <th>ph.karno</th>\n",
       "      <td>-0.012</td>\n",
       "      <td>0.988</td>\n",
       "      <td>0.007</td>\n",
       "      <td>-0.025</td>\n",
       "      <td>0.001</td>\n",
       "      <td>0.975</td>\n",
       "      <td>1.001</td>\n",
       "      <td>-1.831</td>\n",
       "      <td>0.067</td>\n",
       "      <td>3.896</td>\n",
       "    </tr>\n",
       "    <tr>\n",
       "      <th>sex</th>\n",
       "      <td>0.416</td>\n",
       "      <td>1.516</td>\n",
       "      <td>0.123</td>\n",
       "      <td>0.175</td>\n",
       "      <td>0.657</td>\n",
       "      <td>1.192</td>\n",
       "      <td>1.928</td>\n",
       "      <td>3.389</td>\n",
       "      <td>0.001</td>\n",
       "      <td>10.476</td>\n",
       "    </tr>\n",
       "    <tr>\n",
       "      <th>wt.loss</th>\n",
       "      <td>0.008</td>\n",
       "      <td>1.008</td>\n",
       "      <td>0.005</td>\n",
       "      <td>-0.001</td>\n",
       "      <td>0.017</td>\n",
       "      <td>0.999</td>\n",
       "      <td>1.017</td>\n",
       "      <td>1.713</td>\n",
       "      <td>0.087</td>\n",
       "      <td>3.527</td>\n",
       "    </tr>\n",
       "    <tr>\n",
       "      <th>Intercept</th>\n",
       "      <td>7.003</td>\n",
       "      <td>1100.221</td>\n",
       "      <td>0.887</td>\n",
       "      <td>5.266</td>\n",
       "      <td>8.741</td>\n",
       "      <td>193.552</td>\n",
       "      <td>6254.062</td>\n",
       "      <td>7.899</td>\n",
       "      <td>&lt;0.0005</td>\n",
       "      <td>48.337</td>\n",
       "    </tr>\n",
       "    <tr>\n",
       "      <th>rho_</th>\n",
       "      <th>Intercept</th>\n",
       "      <td>0.338</td>\n",
       "      <td>1.402</td>\n",
       "      <td>0.062</td>\n",
       "      <td>0.216</td>\n",
       "      <td>0.460</td>\n",
       "      <td>1.241</td>\n",
       "      <td>1.584</td>\n",
       "      <td>5.442</td>\n",
       "      <td>&lt;0.0005</td>\n",
       "      <td>24.177</td>\n",
       "    </tr>\n",
       "  </tbody>\n",
       "</table><br><div>\n",
       "<style scoped>\n",
       "    .dataframe tbody tr th:only-of-type {\n",
       "        vertical-align: middle;\n",
       "    }\n",
       "\n",
       "    .dataframe tbody tr th {\n",
       "        vertical-align: top;\n",
       "    }\n",
       "\n",
       "    .dataframe thead th {\n",
       "        text-align: right;\n",
       "    }\n",
       "</style>\n",
       "<table border=\"1\" class=\"dataframe\">\n",
       "  <tbody>\n",
       "    <tr>\n",
       "      <th>Concordance</th>\n",
       "      <td>0.649</td>\n",
       "    </tr>\n",
       "    <tr>\n",
       "      <th>AIC</th>\n",
       "      <td>2265.960</td>\n",
       "    </tr>\n",
       "    <tr>\n",
       "      <th>log-likelihood ratio test</th>\n",
       "      <td>36.180 on 8 df</td>\n",
       "    </tr>\n",
       "    <tr>\n",
       "      <th>-log2(p) of ll-ratio test</th>\n",
       "      <td>15.907</td>\n",
       "    </tr>\n",
       "  </tbody>\n",
       "</table>\n",
       "</div>"
      ],
      "text/latex": [
       "\\begin{tabular}{llrrrrrrrrrr}\n",
       "\\toprule\n",
       "     &           &   coef &  exp(coef) &  se(coef) &  coef lower 95\\% &  coef upper 95\\% &  exp(coef) lower 95\\% &  exp(coef) upper 95\\% &      z &     p &  -log2(p) \\\\\n",
       "param & covariate &        &            &           &                 &                 &                      &                      &        &       &           \\\\\n",
       "\\midrule\n",
       "lambda\\_ & age & -0.009 &      0.992 &     0.007 &          -0.022 &           0.005 &                0.978 &                1.005 & -1.259 & 0.208 &     2.266 \\\\\n",
       "     & ecog\\_1 & -0.445 &      0.641 &     0.167 &          -0.773 &          -0.117 &                0.462 &                0.889 & -2.662 & 0.008 &     7.010 \\\\\n",
       "     & ecog\\_2 & -0.878 &      0.416 &     0.263 &          -1.393 &          -0.363 &                0.248 &                0.695 & -3.344 & 0.001 &    10.242 \\\\\n",
       "     & meal.cal &  0.000 &      1.000 &     0.000 &          -0.000 &           0.000 &                1.000 &                1.000 &  0.021 & 0.983 &     0.024 \\\\\n",
       "     & pat.karno &  0.009 &      1.009 &     0.005 &          -0.001 &           0.019 &                0.999 &                1.019 &  1.787 & 0.074 &     3.757 \\\\\n",
       "     & ph.karno & -0.012 &      0.988 &     0.007 &          -0.025 &           0.001 &                0.975 &                1.001 & -1.831 & 0.067 &     3.896 \\\\\n",
       "     & sex &  0.416 &      1.516 &     0.123 &           0.175 &           0.657 &                1.192 &                1.928 &  3.389 & 0.001 &    10.476 \\\\\n",
       "     & wt.loss &  0.008 &      1.008 &     0.005 &          -0.001 &           0.017 &                0.999 &                1.017 &  1.713 & 0.087 &     3.527 \\\\\n",
       "     & Intercept &  7.003 &   1100.221 &     0.887 &           5.266 &           8.741 &              193.552 &             6254.062 &  7.899 & 0.000 &    48.337 \\\\\n",
       "rho\\_ & Intercept &  0.338 &      1.402 &     0.062 &           0.216 &           0.460 &                1.241 &                1.584 &  5.442 & 0.000 &    24.177 \\\\\n",
       "\\bottomrule\n",
       "\\end{tabular}\n"
      ],
      "text/plain": [
       "<lifelines.WeibullAFTFitter: fitted with 226 total observations, 63 right-censored observations>\n",
       "             duration col = 'time'\n",
       "                event col = 'status'\n",
       "   number of observations = 226\n",
       "number of events observed = 163\n",
       "           log-likelihood = -1122.980\n",
       "         time fit was run = 2021-12-10 16:14:09 UTC\n",
       "\n",
       "---\n",
       "                    coef  exp(coef)   se(coef)   coef lower 95%   coef upper 95%  exp(coef) lower 95%  exp(coef) upper 95%\n",
       "param   covariate                                                                                                         \n",
       "lambda_ age       -0.009      0.992      0.007           -0.022            0.005                0.978                1.005\n",
       "        ecog_1    -0.445      0.641      0.167           -0.773           -0.117                0.462                0.889\n",
       "        ecog_2    -0.878      0.416      0.263           -1.393           -0.363                0.248                0.695\n",
       "        meal.cal   0.000      1.000      0.000           -0.000            0.000                1.000                1.000\n",
       "        pat.karno  0.009      1.009      0.005           -0.001            0.019                0.999                1.019\n",
       "        ph.karno  -0.012      0.988      0.007           -0.025            0.001                0.975                1.001\n",
       "        sex        0.416      1.516      0.123            0.175            0.657                1.192                1.928\n",
       "        wt.loss    0.008      1.008      0.005           -0.001            0.017                0.999                1.017\n",
       "        Intercept  7.003   1100.221      0.887            5.266            8.741              193.552             6254.062\n",
       "rho_    Intercept  0.338      1.402      0.062            0.216            0.460                1.241                1.584\n",
       "\n",
       "                       z       p   -log2(p)\n",
       "param   covariate                          \n",
       "lambda_ age       -1.259   0.208      2.266\n",
       "        ecog_1    -2.662   0.008      7.010\n",
       "        ecog_2    -3.344   0.001     10.242\n",
       "        meal.cal   0.021   0.983      0.024\n",
       "        pat.karno  1.787   0.074      3.757\n",
       "        ph.karno  -1.831   0.067      3.896\n",
       "        sex        3.389   0.001     10.476\n",
       "        wt.loss    1.713   0.087      3.527\n",
       "        Intercept  7.899 <0.0005     48.337\n",
       "rho_    Intercept  5.442 <0.0005     24.177\n",
       "---\n",
       "Concordance = 0.649\n",
       "AIC = 2265.960\n",
       "log-likelihood ratio test = 36.180 on 8 df\n",
       "-log2(p) of ll-ratio test = 15.907"
      ]
     },
     "metadata": {},
     "output_type": "display_data"
    }
   ],
   "source": [
    "from lifelines import WeibullAFTFitter\n",
    "weibull_aft = WeibullAFTFitter()\n",
    "weibull_aft.fit(data, duration_col='time', event_col='status')\n",
    "\n",
    "weibull_aft.print_summary(3)"
   ]
  },
  {
   "cell_type": "markdown",
   "metadata": {},
   "source": [
    "## Interpretation of the coefficients"
   ]
  },
  {
   "cell_type": "markdown",
   "metadata": {},
   "source": [
    "* A unit increase in $x_i$ means the average/median survival time changes by a factor of $exp(b_i)$.\n",
    "* Suppose $b_i$ was positive, then the factor $exp(b_i)$ is greater than 1, which will decelerate the event time since we divide time by the factor ⇿ increase mean/median survival. Hence, it will be a protective effect.\n",
    "* Likewise, a negative $b_i$ will hasten the event time ⇿ reduce the mean/median survival time.\n",
    "* This interpretation is opposite of how the sign influences event times in the Cox model!"
   ]
  },
  {
   "cell_type": "markdown",
   "metadata": {},
   "source": [
    "## Example \n",
    "\n",
    "* Sex, which contains [0: Male and 1: Female], has a positive coefficient. \n",
    "* This means being a female subject compared to male changes mean/median survival time by exp(0.416) = 1.516,  approximately a 52% increase in mean/median survival time."
   ]
  },
  {
   "cell_type": "code",
   "execution_count": 120,
   "metadata": {
    "ExecuteTime": {
     "end_time": "2021-10-15T19:33:11.342799Z",
     "start_time": "2021-10-15T19:33:11.316867Z"
    }
   },
   "outputs": [
    {
     "name": "stdout",
     "output_type": "stream",
     "text": [
      "419.09746495651643\n",
      "495.9697546642188\n"
     ]
    }
   ],
   "source": [
    "print(weibull_aft.median_survival_time_)\n",
    "print(weibull_aft.mean_survival_time_)"
   ]
  },
  {
   "cell_type": "code",
   "execution_count": 121,
   "metadata": {
    "ExecuteTime": {
     "end_time": "2021-10-15T19:33:21.201719Z",
     "start_time": "2021-10-15T19:33:20.998264Z"
    }
   },
   "outputs": [
    {
     "data": {
      "text/plain": [
       "<AxesSubplot:xlabel='log(accelerated failure rate) (95% CI)'>"
      ]
     },
     "execution_count": 121,
     "metadata": {},
     "output_type": "execute_result"
    },
    {
     "data": {
      "image/png": "[encoded data removed]",
      "text/plain": [
       "<Figure size 720x432 with 1 Axes>"
      ]
     },
     "metadata": {
      "needs_background": "light"
     },
     "output_type": "display_data"
    }
   ],
   "source": [
    "plt.subplots(figsize=(10, 6))\n",
    "weibull_aft.plot()"
   ]
  },
  {
   "cell_type": "code",
   "execution_count": 122,
   "metadata": {
    "ExecuteTime": {
     "end_time": "2021-10-15T19:33:45.876341Z",
     "start_time": "2021-10-15T19:33:45.652833Z"
    }
   },
   "outputs": [
    {
     "data": {
      "text/plain": [
       "<AxesSubplot:>"
      ]
     },
     "execution_count": 122,
     "metadata": {},
     "output_type": "execute_result"
    },
    {
     "data": {
      "image/png": "[encoded data removed]",
      "text/plain": [
       "<Figure size 720x432 with 1 Axes>"
      ]
     },
     "metadata": {
      "needs_background": "light"
     },
     "output_type": "display_data"
    }
   ],
   "source": [
    "plt.subplots(figsize=(10, 6))\n",
    "weibull_aft.plot_partial_effects_on_outcome('age', range(50, 80, 10), cmap='coolwarm')"
   ]
  },
  {
   "cell_type": "markdown",
   "metadata": {},
   "source": [
    "출처\n",
    "\n",
    "1. https://medium.com/the-researchers-guide/survival-analysis-in-python-km-estimate-cox-ph-and-aft-model-5533843c5d5d\n",
    "2. https://www.kdnuggets.com/2020/07/guide-survival-analysis-python-part-3.html"
   ]
  }
 ],
 "metadata": {
  "interpreter": {
   "hash": "e4577f84b0cc49b377bbdd3aebc762ca13cae746c03033f4382fe532931f9c94"
  },
  "kernelspec": {
   "display_name": "Python 3 (ipykernel)",
   "language": "python",
   "name": "python3"
  },
  "language_info": {
   "codemirror_mode": {
    "name": "ipython",
    "version": 3
   },
   "file_extension": ".py",
   "mimetype": "text/x-python",
   "name": "python",
   "nbconvert_exporter": "python",
   "pygments_lexer": "ipython3",
   "version": "3.9.7"
  },
  "varInspector": {
   "cols": {
    "lenName": 16,
    "lenType": 16,
    "lenVar": 40
   },
   "kernels_config": {
    "python": {
     "delete_cmd_postfix": "",
     "delete_cmd_prefix": "del ",
     "library": "var_list.py",
     "varRefreshCmd": "print(var_dic_list())"
    },
    "r": {
     "delete_cmd_postfix": ") ",
     "delete_cmd_prefix": "rm(",
     "library": "var_list.r",
     "varRefreshCmd": "cat(var_dic_list()) "
    }
   },
   "types_to_exclude": [
    "module",
    "function",
    "builtin_function_or_method",
    "instance",
    "_Feature"
   ],
   "window_display": false
  }
 },
 "nbformat": 4,
 "nbformat_minor": 2
}

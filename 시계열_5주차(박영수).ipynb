{
  "nbformat": 4,
  "nbformat_minor": 0,
  "metadata": {
    "colab": {
      "name": "5주차_시계열(박영수).ipynb",
      "private_outputs": true,
      "provenance": [],
      "toc_visible": true
    },
    "kernelspec": {
      "name": "python3",
      "display_name": "Python 3"
    },
    "language_info": {
      "name": "python"
    }
  },
  "cells": [
    {
      "cell_type": "markdown",
      "metadata": {
        "id": "319zxCPEtyaR"
      },
      "source": [
        "## **1. 라이브러리 불러오기**"
      ]
    },
    {
      "cell_type": "code",
      "metadata": {
        "id": "SAVeZ55brNCB"
      },
      "source": [
        "import os\n",
        "\n",
        "import pandas as pd\n",
        "\n",
        "from sklearn.model_selection import train_test_split\n",
        "from sklearn.metrics import r2_score\n",
        "\n",
        "import matplotlib.pyplot as plt\n",
        "import matplotlib\n",
        "plt.style.use('seaborn-whitegrid')\n",
        "\n",
        "import statsmodels.api as sm\n",
        "from statsmodels.graphics.tsaplots import plot_acf, plot_pacf\n",
        "from statsmodels.tsa.stattools import adfuller\n",
        "from statsmodels.tsa.arima.model import ARIMA\n",
        "from statsmodels.tsa.statespace.sarimax import SARIMAX\n",
        "\n",
        "\n",
        "import seaborn as sns\n",
        "\n",
        "%matplotlib inline\n",
        "\n",
        "import itertools"
      ],
      "execution_count": null,
      "outputs": []
    },
    {
      "cell_type": "code",
      "metadata": {
        "id": "1qNkFnRBs-Yf"
      },
      "source": [
        "sm.__version__"
      ],
      "execution_count": null,
      "outputs": []
    },
    {
      "cell_type": "code",
      "metadata": {
        "id": "32mOqbcus_UW"
      },
      "source": [
        "from google.colab import drive\n",
        "drive.mount('/content/gdrive/')\n",
        "os.chdir('/content/gdrive/MyDrive/Colab Notebooks/data/')"
      ],
      "execution_count": null,
      "outputs": []
    },
    {
      "cell_type": "markdown",
      "metadata": {
        "id": "O4Vnmkjet3x3"
      },
      "source": [
        "## **2. 데이터 불러오기**"
      ]
    },
    {
      "cell_type": "code",
      "metadata": {
        "id": "5nPGKHuMtRts"
      },
      "source": [
        "elec_df = pd.read_csv('Electric_Production.csv')\n",
        "elec_df.head(10)"
      ],
      "execution_count": null,
      "outputs": []
    },
    {
      "cell_type": "code",
      "metadata": {
        "id": "Ff94yRGutbdh"
      },
      "source": [
        "elec_df.info()"
      ],
      "execution_count": null,
      "outputs": []
    },
    {
      "cell_type": "code",
      "metadata": {
        "id": "eIDurrZ6tfTM"
      },
      "source": [
        "elec_df.columns=['Date', 'Consumption']\n",
        "elec_df = elec_df.dropna()\n",
        "elec_df['Date'] = pd.to_datetime(elec_df['Date'])\n",
        "elec_df.set_index('Date', inplace=True) #set date as index"
      ],
      "execution_count": null,
      "outputs": []
    },
    {
      "cell_type": "code",
      "metadata": {
        "id": "WagErYGItuEC"
      },
      "source": [
        "elec_df.head(20)"
      ],
      "execution_count": null,
      "outputs": []
    },
    {
      "cell_type": "code",
      "metadata": {
        "id": "3Ksw7X_0uY95"
      },
      "source": [
        "elec_df.info()"
      ],
      "execution_count": null,
      "outputs": []
    },
    {
      "cell_type": "code",
      "metadata": {
        "id": "f6za8v6ntu-9"
      },
      "source": [
        "fig = elec_df.plot()"
      ],
      "execution_count": null,
      "outputs": []
    },
    {
      "cell_type": "code",
      "metadata": {
        "id": "ISgI_HJ3t8cm"
      },
      "source": [
        "# Seasonal decomposition plot : Seasonal decomposition using moving averages.\n",
        "# https://www.statsmodels.org/stable/generated/statsmodels.tsa.seasonal.seasonal_decompose.html\n",
        "\n",
        "#sm.__version__ '0.10.1'\n",
        "#decompostion = sm.tsa.seasonal_decompose(elec_df, model = 'additive', freq = 12)\n",
        "#sm.__version__ '0.13.0'\n",
        "decompostion = sm.tsa.seasonal_decompose(elec_df, model = 'additive', period =1)\n",
        "\n",
        "fig = decompostion.plot()\n",
        "fig.set_size_inches(10,10)\n",
        "plt.show()\n",
        "\n",
        "# 아래 그래프를 데이터로 추출 https://dodonam.tistory.com/89\n",
        "# decompostion.observed\n",
        "# decompostion.trend\n",
        "# decompostion.seasonal\n",
        "# decompostion.resid"
      ],
      "execution_count": null,
      "outputs": []
    },
    {
      "cell_type": "code",
      "metadata": {
        "id": "LaB86gOUut8D"
      },
      "source": [
        "train_data, test_data = train_test_split(elec_df, test_size = 0.3, shuffle = False)"
      ],
      "execution_count": null,
      "outputs": []
    },
    {
      "cell_type": "code",
      "metadata": {
        "id": "cjhgPPrkxHe6"
      },
      "source": [
        "# ACF, PACF\n",
        "\n",
        "import time\n",
        "start = time.time()  # 시작 시간 저장\n",
        "\n",
        "fig, ax = plt.subplots(1, 2, figsize=(10,5))\n",
        "fig.suptitle('Raw data')\n",
        "sm.graphics.tsa.plot_acf(elec_df, lags = 30, ax = ax[0])\n",
        "sm.graphics.tsa.plot_pacf(elec_df, lags = 30, ax = ax[1])\n",
        "print(\"time :\", time.time() - start)"
      ],
      "execution_count": null,
      "outputs": []
    },
    {
      "cell_type": "code",
      "metadata": {
        "id": "2Bfe5t6lxN2L"
      },
      "source": [
        "# Dickey-Fuller test\n",
        "# p-value가 0.05보다 크면 비정상성\n",
        "\n",
        "result = adfuller(elec_df[\"Consumption\"])\n",
        "print('p-value : ', result[1])\n",
        "\n",
        "print('-------------------------------------------------------------------------------------------------------')\n",
        "\n",
        "dfoutput = pd.Series(result[0:4], index=['Test Statistic','p-value','#Lags Used','Number of Observations Used'])\n",
        "for key,value in result[4].items(): \n",
        "    dfoutput['Critical Value (%s)'%key] = value\n",
        "pvalue = result[1]\n",
        "if pvalue < 0.05:\n",
        "    print('p-value = %.4f. The series is likely stationary.' % pvalue)\n",
        "else:\n",
        "    print('p-value = %.4f. The series is likely non-stationary.' % pvalue)\n",
        "    \n",
        "print(dfoutput)"
      ],
      "execution_count": null,
      "outputs": []
    },
    {
      "cell_type": "code",
      "metadata": {
        "id": "_6RXTQRGxRXK"
      },
      "source": [
        "# Differencing 차분\n",
        "\n",
        "diff_train_data = train_data.copy()\n",
        "diff_train_data = diff_train_data['Consumption'].diff() #default가 1차 차분\n",
        "diff_train_data = diff_train_data.dropna() # 차분 하면 마지막 값이 결측치\n",
        "print('------ Raw data -----')\n",
        "print(train_data)\n",
        "print('------ Differenced data -----')\n",
        "print(diff_train_data)"
      ],
      "execution_count": null,
      "outputs": []
    },
    {
      "cell_type": "code",
      "metadata": {
        "id": "NhwOE5FRx1J1"
      },
      "source": [
        "# Differenced data plot\n",
        "\n",
        "plt.figure(figsize = (12,8))\n",
        "plt.subplot(211)\n",
        "plt.plot(train_data['Consumption'])\n",
        "plt.legend(['Raw data (Nonstationary)'])\n",
        "\n",
        "plt.subplot(212)\n",
        "plt.plot(diff_train_data, 'orange')\n",
        "plt.legend(['Differenced data (Stationary)'])\n",
        "\n",
        "plt.show()"
      ],
      "execution_count": null,
      "outputs": []
    },
    {
      "cell_type": "code",
      "metadata": {
        "id": "SC8JI8sKx6RK"
      },
      "source": [
        "# ACF, PACF\n",
        "\n",
        "fig, ax = plt.subplots(1, 2, figsize=(10,5))\n",
        "fig.suptitle('Differenced data')\n",
        "sm.graphics.tsa.plot_acf(diff_train_data, lags = 50, ax = ax[0])\n",
        "sm.graphics.tsa.plot_pacf(diff_train_data, lags = 50, ax = ax[1])"
      ],
      "execution_count": null,
      "outputs": []
    },
    {
      "cell_type": "code",
      "metadata": {
        "id": "ltNS37iUx9Q1"
      },
      "source": [
        "# Dickey-Fuller test\n",
        "# p-value가 0.05보다 크면 비정상성\n",
        "\n",
        "result = adfuller(diff_train_data)\n",
        "print('p-value : ', result[1])\n",
        "\n",
        "print('-------------------------------------------------------------------------------------------------------')\n",
        "\n",
        "dfoutput = pd.Series(result[0:4], index=['Test Statistic','p-value','#Lags Used','Number of Observations Used'])\n",
        "for key,value in result[4].items(): \n",
        "    dfoutput['Critical Value (%s)'%key] = value\n",
        "pvalue = result[1]\n",
        "if pvalue < 0.05:\n",
        "    print('p-value = %.4f. The series is likely stationary.' % pvalue)\n",
        "else:\n",
        "    print('p-value = %.4f. The series is likely non-stationary.' % pvalue)\n",
        "    \n",
        "print(dfoutput)"
      ],
      "execution_count": null,
      "outputs": []
    },
    {
      "cell_type": "code",
      "metadata": {
        "id": "PlWRXL02yG60"
      },
      "source": [
        "# ARIMA model fitiing \n",
        "# The (p, d, q) order of the model for the number of AR parameters, differences, and MA parameters to use.\n",
        "\n",
        "# sm.__version__ '0.13.0'\n",
        "#from statsmodels.tsa.arima.model import ARIMA\n",
        "\n",
        "model = ARIMA(train_data, order=(1,1,0))\n",
        "model_fit = model.fit()\n",
        "model_fit.summary()"
      ],
      "execution_count": null,
      "outputs": []
    },
    {
      "cell_type": "code",
      "metadata": {
        "id": "1svaIJxey-aM"
      },
      "source": [
        "# 0.10.2\n",
        "#model_fit.plot_predict()\n",
        "\n",
        "# 0.13.1\n",
        "plt.plot(train_data)\n",
        "plt.plot(model_fit.fittedvalues, color='red')\n",
        "print('RSS : %f' %sum((model_fit.fittedvalues-diff_train_data)**2))"
      ],
      "execution_count": null,
      "outputs": []
    },
    {
      "cell_type": "code",
      "metadata": {
        "id": "LYJO1zwEzIKU"
      },
      "source": [
        "# Parameter search\n",
        "\n",
        "print('Examples of parameter combinations for Seadonal ARIMA')\n",
        "p = range(0,3)\n",
        "d = range(1,2)\n",
        "q = range(0,3)\n",
        "pdq = list(itertools.product(p, d, q))\n",
        "\n",
        "aic = []\n",
        "for i in pdq:\n",
        "    model = ARIMA(train_data, order=(i))\n",
        "    model_fit = model.fit()\n",
        "    print('ARIMA:', i, '>> AIC :', round(model_fit.aic,2))\n",
        "    aic.append(round(model_fit.aic,2))\n",
        "\n",
        "# 에러 \n",
        "# The computed initial MA coefficients are not invertible\n",
        "# You should induce invertibility, choose a different model order, or you can\n",
        "# pass your own start_params.\n",
        "# SARIMA 쓰던지 12버전 이후의 statsmodels.tsa.arima.model.ARIMA 사용"
      ],
      "execution_count": null,
      "outputs": []
    },
    {
      "cell_type": "code",
      "metadata": {
        "id": "g-Y_A7eQzU77"
      },
      "source": [
        "model_opt = ARIMA(train_data.values, order=(2, 1, 2))\n",
        "\n",
        "model_opt_fit = model_opt.fit()\n",
        "model_opt_fit.summary()"
      ],
      "execution_count": null,
      "outputs": []
    },
    {
      "cell_type": "markdown",
      "metadata": {
        "id": "DjuSbXId0viZ"
      },
      "source": [
        ""
      ]
    },
    {
      "cell_type": "code",
      "metadata": {
        "id": "wTzVH_TZ1rhq"
      },
      "source": [
        "# forcast 대신 get_forcast\n",
        "\n",
        "prediction = model_opt_fit.get_forecast(len(test_data))\n",
        "predicted_value = prediction.predicted_mean\n",
        "print(prediction.conf_int())\n",
        "predicted_ub = prediction.conf_int()[:][0]\n",
        "predicted_lb = prediction.conf_int()[:][1]\n",
        "predict_index = list(test_data.index)\n",
        "r2 = r2_score(test_data, predicted_value)"
      ],
      "execution_count": null,
      "outputs": []
    },
    {
      "cell_type": "code",
      "metadata": {
        "id": "XGNuPbVT8ciV"
      },
      "source": [
        "fig, ax= plt.subplots(figsize=(12,6))\n",
        "ax.plot(elec_df.index, elec_df)\n",
        "ax.vlines(pd.to_datetime('2008-08-01'), 0,200, linestyle ='--', color='r',\n",
        "         label = 'Start of  Forcast')\n",
        "\n",
        "ax.plot(predict_index, predicted_value, label='prediction')\n",
        "ax.fill_between(predict_index, predicted_lb, predicted_ub, color='k', alpha= 0.1, label='0.95 prediction interval')\n",
        "ax.legend(loc='upper left')\n",
        "plt.suptitle(f'ARIMA {optimal[0][0][0]} prediction results (r2score: {round(r2,2)})')\n",
        "plt.show()"
      ],
      "execution_count": null,
      "outputs": []
    },
    {
      "cell_type": "code",
      "metadata": {
        "id": "ecBxCxqr3uWk"
      },
      "source": [
        "print('Examples of parameter combinations of SARIMA...')\n",
        "p = range(0,3)\n",
        "d = range(1,2)\n",
        "q = range(0,3)\n",
        "\n",
        "pdq = list(itertools.product(p,d,q))\n",
        "\n",
        "seasonal_pdq = [(x[0], x[1], x[2], 12) for x in pdq]\n",
        "print(pdq)\n",
        "print(seasonal_pdq)\n",
        "\n",
        "aic = []\n",
        "params = []\n",
        "for i in pdq:\n",
        "    for j in seasonal_pdq:\n",
        "        try: \n",
        "            model = SARIMAX(train_data.values, order=(i), seasonal_order=(j))\n",
        "            model_fit = model.fit()\n",
        "            print(f'SARIMA parameter : {i} {j} >> AIC: {round(model_fit.aic,2)}')\n",
        "            params.append((i,j))\n",
        "            aic.append(round(model_fit.aic,2))\n",
        "        except:\n",
        "            continue\n",
        "        # try, except 구문 , try 중 에러 나면 except 수행"
      ],
      "execution_count": null,
      "outputs": []
    },
    {
      "cell_type": "code",
      "metadata": {
        "id": "5LHzhPCa6tOI"
      },
      "source": [
        "print(min(aic))\n",
        "# ctrl+F SARIMA parameter : (1, 1, 0) (1, 1, 2, 12) >> AIC: 751.15\n",
        "\n",
        "optimal = [(params[i], j) for i, j in enumerate(aic) if j==min(aic)]\n",
        "optimal"
      ],
      "execution_count": null,
      "outputs": []
    },
    {
      "cell_type": "code",
      "metadata": {
        "id": "UsPxUNeJ6v6I"
      },
      "source": [
        "#model_opt = SARIMAX(train_data, order = (1,1,0), seasonal_order = (1,1,2,12))\n",
        "\n",
        "model_opt = SARIMAX(train_data, order = optimal[0][0][0], seasonal_order = optimal[0][0][1])\n",
        "model_opt_fit = model_opt.fit()\n",
        "model_opt_fit.summary()"
      ],
      "execution_count": null,
      "outputs": []
    },
    {
      "cell_type": "code",
      "metadata": {
        "id": "s81jZ0eN6ypZ"
      },
      "source": [
        "# ARIMA와 코드가 살짝 다름(forcast 대신 get_forcast)\n",
        "\n",
        "prediction = model_opt_fit.get_forecast(len(test_data))\n",
        "predicted_value = prediction.predicted_mean\n",
        "predicted_ub = prediction.conf_int().iloc[:,0]\n",
        "predicted_lb = prediction.conf_int().iloc[:,1]\n",
        "predict_index = list(test_data.index)\n",
        "r2 = r2_score(test_data, predicted_value)"
      ],
      "execution_count": null,
      "outputs": []
    },
    {
      "cell_type": "code",
      "metadata": {
        "id": "Ic9FCQ5b60O8"
      },
      "source": [
        "fig, ax= plt.subplots(figsize=(12,6))\n",
        "ax.plot(elec_df.index, elec_df)\n",
        "ax.vlines(pd.to_datetime('2008-08-01'), 0,200, linestyle ='--', color='r',\n",
        "         label = 'Start of  Forcast')\n",
        "\n",
        "ax.plot(predict_index, predicted_value, label='prediction')\n",
        "ax.fill_between(predict_index, predicted_lb, predicted_ub, color='k', alpha= 0.1, label='0.95 prediction interval')\n",
        "ax.legend(loc='upper left')\n",
        "plt.suptitle(f'SARIMA {optimal[0][0][0], optimal[0][0][1]} prediction results (r2score: {round(r2,2)})')\n",
        "plt.show()"
      ],
      "execution_count": null,
      "outputs": []
    },
    {
      "cell_type": "code",
      "metadata": {
        "id": "LD9NMVVP61bh"
      },
      "source": [
        ""
      ],
      "execution_count": null,
      "outputs": []
    }
  ]
}
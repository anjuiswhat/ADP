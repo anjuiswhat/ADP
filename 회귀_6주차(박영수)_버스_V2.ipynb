{
 "cells": [
  {
   "cell_type": "markdown",
   "id": "d456e2b0",
   "metadata": {},
   "source": [
    "id : 해당 데이터에서의 고유한 ID(train, test와의 중복은 없음)\n",
    "date : 버스 운행 날짜\n",
    "route_id : 버스 노선 ID\n",
    "vh_id : 버스 ID\n",
    "route_nm : 버스 노선 실제 번호\n",
    "now_latitude : 현재 정류소 위도\n",
    "now_longitude : 현재 정류소 경도\n",
    "now_station : 현재 정류소 이름   \n",
    "now_arrive_time : 현재 정류장에 도착한 시간\n",
    "distance : 현재 정류장에서 다음 정류장까지 실제 이동한 거리\n",
    "next_station : 다음 정류소 이름\n",
    "next_latitude : 다음 정류소의 위도\n",
    "next_longitude : 다음 정류소의 경도\n",
    "next_arrive_time : 다음 정류장에 도착할 때 까지 걸린 시간(단위:초)으로 답안 제출을 위해서 예측해야 되는 값"
   ]
  },
  {
   "cell_type": "code",
   "execution_count": null,
   "id": "fe3fa802",
   "metadata": {},
   "outputs": [],
   "source": []
  },
  {
   "cell_type": "markdown",
   "id": "hlA_LemlJ-2z",
   "metadata": {
    "id": "hlA_LemlJ-2z"
   },
   "source": [
    "## **1. 라이브러리, 데이터 불러오기**"
   ]
  },
  {
   "cell_type": "code",
   "execution_count": 1,
   "id": "678267ca",
   "metadata": {
    "id": "678267ca"
   },
   "outputs": [],
   "source": [
    "#기본 라이브러리\n",
    "import numpy as np\n",
    "import pandas as pd\n",
    "import os\n",
    "import time\n",
    "\n",
    "#시각화 라이브러리\n",
    "import matplotlib.pyplot as plt\n",
    "%matplotlib inline\n",
    "import seaborn as sns\n",
    "\n",
    "import plotly \n",
    "import plotly.express as px\n",
    "import plotly.graph_objs as go\n",
    "import plotly.offline as py\n",
    "from plotly.offline import iplot\n",
    "from plotly.subplots import make_subplots\n",
    "import plotly.figure_factory as ff\n",
    "import warnings\n",
    "warnings.filterwarnings(\"ignore\", category = FutureWarning)\n",
    "\n",
    "\n",
    "#그래프 스타일 서식 지정\n",
    "plt.style.use('default')\n",
    "#그래프 한글 폰트\n",
    "from matplotlib import font_manager, rc\n",
    "plt.rc(\"font\", family = \"Malgun Gothic\")\n",
    "plt.rc(\"axes\", unicode_minus = False)\n",
    "\n",
    "#사이킷런\n",
    "from sklearn.datasets import *\n",
    "from sklearn.model_selection import train_test_split\n",
    "from sklearn.model_selection import StratifiedKFold\n",
    "from sklearn.model_selection import GridSearchCV, KFold\n",
    "\n",
    "from sklearn.metrics import mean_squared_error\n",
    "from sklearn.metrics import confusion_matrix, accuracy_score, precision_score, recall_score, f1_score\n",
    "from sklearn.metrics import roc_auc_score, precision_recall_curve, roc_curve, RocCurveDisplay\n",
    "from sklearn.metrics import classification_report\n",
    "\n",
    "from sklearn.linear_model import LogisticRegression\n",
    "from sklearn.linear_model import Perceptron\n",
    "from sklearn.linear_model import SGDClassifier\n",
    "\n",
    "from sklearn.tree import DecisionTreeClassifier\n",
    "from sklearn.svm import SVC, LinearSVC\n",
    "from sklearn.ensemble import AdaBoostClassifier, BaggingClassifier, RandomForestClassifier, VotingClassifier\n",
    "from lightgbm import LGBMClassifier\n",
    "from xgboost import XGBClassifier, plot_importance\n",
    "\n",
    "from sklearn.model_selection import KFold # K-validation\n",
    "\n",
    "from sklearn.preprocessing import StandardScaler\n",
    "from sklearn.preprocessing import RobustScaler\n",
    "from sklearn.preprocessing import MinMaxScaler\n",
    "from sklearn.preprocessing import LabelEncoder\n",
    "\n",
    "#차원축소\n",
    "from sklearn.decomposition import PCA\n",
    "\n",
    "#군집\n",
    "from sklearn.cluster import KMeans\n",
    "from sklearn.cluster import AgglomerativeClustering\n",
    "from sklearn.neighbors import KNeighborsClassifier\n",
    "from sklearn.naive_bayes import GaussianNB\n",
    "\n",
    "#회귀\n",
    "from sklearn.linear_model import ElasticNet, Lasso, BayesianRidge, LassoLarsIC\n",
    "from sklearn.ensemble import RandomForestRegressor, GradientBoostingRegressor\n",
    "from sklearn.kernel_ridge import KernelRidge\n",
    "from sklearn.pipeline import make_pipeline\n",
    "from sklearn.base import BaseEstimator, TransformerMixin, RegressorMixin, clone\n",
    "from xgboost import XGBRegressor # XGBoost Regressor 모델\n",
    "from lightgbm import LGBMRegressor # XGBoost Regressor 모델\n",
    "\n",
    "# statsmodels 패키지\n",
    "from statsmodels.api import *\n",
    "from statsmodels.formula.api import *\n",
    "from statsmodels.stats.api import *\n",
    "from statsmodels.stats.proportion import *\n",
    "from statsmodels.stats.diagnostic import *\n",
    "from statsmodels.stats.weightstats import *\n",
    "from statsmodels.stats.outliers_influence import *  # 다중공선성 확인 관련 패키지\n",
    "from statsmodels.multivariate.pca import PCA as stats_PCA  # sklearn 의 PCA와 겹치지 않도록 별칭 지정\n",
    "from statsmodels.multivariate.pca import pca as stats_pca\n",
    "\n",
    "\n"
   ]
  },
  {
   "cell_type": "code",
   "execution_count": 2,
   "id": "0982f254",
   "metadata": {
    "colab": {
     "base_uri": "https://localhost:8080/",
     "height": 383
    },
    "id": "0982f254",
    "outputId": "379bbe57-e875-4f32-c737-7479ccd6e567"
   },
   "outputs": [
    {
     "data": {
      "text/html": [
       "<div>\n",
       "<style scoped>\n",
       "    .dataframe tbody tr th:only-of-type {\n",
       "        vertical-align: middle;\n",
       "    }\n",
       "\n",
       "    .dataframe tbody tr th {\n",
       "        vertical-align: top;\n",
       "    }\n",
       "\n",
       "    .dataframe thead th {\n",
       "        text-align: right;\n",
       "    }\n",
       "</style>\n",
       "<table border=\"1\" class=\"dataframe\">\n",
       "  <thead>\n",
       "    <tr style=\"text-align: right;\">\n",
       "      <th></th>\n",
       "      <th>id</th>\n",
       "      <th>date</th>\n",
       "      <th>route_id</th>\n",
       "      <th>vh_id</th>\n",
       "      <th>route_nm</th>\n",
       "      <th>now_latitude</th>\n",
       "      <th>now_longitude</th>\n",
       "      <th>now_station</th>\n",
       "      <th>now_arrive_time</th>\n",
       "      <th>distance</th>\n",
       "      <th>next_station</th>\n",
       "      <th>next_latitude</th>\n",
       "      <th>next_longitude</th>\n",
       "      <th>next_arrive_time</th>\n",
       "    </tr>\n",
       "  </thead>\n",
       "  <tbody>\n",
       "    <tr>\n",
       "      <th>0</th>\n",
       "      <td>0</td>\n",
       "      <td>2019-10-15</td>\n",
       "      <td>405136001</td>\n",
       "      <td>7997025</td>\n",
       "      <td>360-1</td>\n",
       "      <td>33.456267</td>\n",
       "      <td>126.551750</td>\n",
       "      <td>제주대학교입구</td>\n",
       "      <td>06시</td>\n",
       "      <td>266.0</td>\n",
       "      <td>제대마을</td>\n",
       "      <td>33.457724</td>\n",
       "      <td>126.554014</td>\n",
       "      <td>24</td>\n",
       "    </tr>\n",
       "    <tr>\n",
       "      <th>1</th>\n",
       "      <td>1</td>\n",
       "      <td>2019-10-15</td>\n",
       "      <td>405136001</td>\n",
       "      <td>7997025</td>\n",
       "      <td>360-1</td>\n",
       "      <td>33.457724</td>\n",
       "      <td>126.554014</td>\n",
       "      <td>제대마을</td>\n",
       "      <td>06시</td>\n",
       "      <td>333.0</td>\n",
       "      <td>제대아파트</td>\n",
       "      <td>33.458783</td>\n",
       "      <td>126.557353</td>\n",
       "      <td>36</td>\n",
       "    </tr>\n",
       "    <tr>\n",
       "      <th>2</th>\n",
       "      <td>2</td>\n",
       "      <td>2019-10-15</td>\n",
       "      <td>405136001</td>\n",
       "      <td>7997025</td>\n",
       "      <td>360-1</td>\n",
       "      <td>33.458783</td>\n",
       "      <td>126.557353</td>\n",
       "      <td>제대아파트</td>\n",
       "      <td>06시</td>\n",
       "      <td>415.0</td>\n",
       "      <td>제주대학교</td>\n",
       "      <td>33.459893</td>\n",
       "      <td>126.561624</td>\n",
       "      <td>40</td>\n",
       "    </tr>\n",
       "    <tr>\n",
       "      <th>3</th>\n",
       "      <td>3</td>\n",
       "      <td>2019-10-15</td>\n",
       "      <td>405136001</td>\n",
       "      <td>7997025</td>\n",
       "      <td>360-1</td>\n",
       "      <td>33.479705</td>\n",
       "      <td>126.543811</td>\n",
       "      <td>남국원(아라방면)</td>\n",
       "      <td>06시</td>\n",
       "      <td>578.0</td>\n",
       "      <td>제주여자중고등학교(아라방면)</td>\n",
       "      <td>33.484860</td>\n",
       "      <td>126.542928</td>\n",
       "      <td>42</td>\n",
       "    </tr>\n",
       "    <tr>\n",
       "      <th>4</th>\n",
       "      <td>4</td>\n",
       "      <td>2019-10-15</td>\n",
       "      <td>405136001</td>\n",
       "      <td>7997025</td>\n",
       "      <td>360-1</td>\n",
       "      <td>33.485662</td>\n",
       "      <td>126.494923</td>\n",
       "      <td>도호동</td>\n",
       "      <td>07시</td>\n",
       "      <td>374.0</td>\n",
       "      <td>은남동</td>\n",
       "      <td>33.485822</td>\n",
       "      <td>126.490897</td>\n",
       "      <td>64</td>\n",
       "    </tr>\n",
       "    <tr>\n",
       "      <th>5</th>\n",
       "      <td>5</td>\n",
       "      <td>2019-10-15</td>\n",
       "      <td>405136001</td>\n",
       "      <td>7997025</td>\n",
       "      <td>360-1</td>\n",
       "      <td>33.478867</td>\n",
       "      <td>126.483833</td>\n",
       "      <td>한라중학교/부영아파트</td>\n",
       "      <td>07시</td>\n",
       "      <td>417.0</td>\n",
       "      <td>대림2차아파트</td>\n",
       "      <td>33.478850</td>\n",
       "      <td>126.488350</td>\n",
       "      <td>160</td>\n",
       "    </tr>\n",
       "    <tr>\n",
       "      <th>6</th>\n",
       "      <td>6</td>\n",
       "      <td>2019-10-15</td>\n",
       "      <td>405136001</td>\n",
       "      <td>7997025</td>\n",
       "      <td>360-1</td>\n",
       "      <td>33.478850</td>\n",
       "      <td>126.488350</td>\n",
       "      <td>대림2차아파트</td>\n",
       "      <td>07시</td>\n",
       "      <td>334.0</td>\n",
       "      <td>연동대림1차아파트</td>\n",
       "      <td>33.480700</td>\n",
       "      <td>126.489933</td>\n",
       "      <td>58</td>\n",
       "    </tr>\n",
       "    <tr>\n",
       "      <th>7</th>\n",
       "      <td>7</td>\n",
       "      <td>2019-10-15</td>\n",
       "      <td>405136001</td>\n",
       "      <td>7997025</td>\n",
       "      <td>360-1</td>\n",
       "      <td>33.482142</td>\n",
       "      <td>126.483213</td>\n",
       "      <td>롯데마트</td>\n",
       "      <td>07시</td>\n",
       "      <td>341.0</td>\n",
       "      <td>원노형</td>\n",
       "      <td>33.483446</td>\n",
       "      <td>126.480758</td>\n",
       "      <td>64</td>\n",
       "    </tr>\n",
       "    <tr>\n",
       "      <th>8</th>\n",
       "      <td>8</td>\n",
       "      <td>2019-10-15</td>\n",
       "      <td>405136001</td>\n",
       "      <td>7997025</td>\n",
       "      <td>360-1</td>\n",
       "      <td>33.483446</td>\n",
       "      <td>126.480758</td>\n",
       "      <td>원노형</td>\n",
       "      <td>07시</td>\n",
       "      <td>185.0</td>\n",
       "      <td>노형오거리</td>\n",
       "      <td>33.485854</td>\n",
       "      <td>126.480530</td>\n",
       "      <td>54</td>\n",
       "    </tr>\n",
       "    <tr>\n",
       "      <th>9</th>\n",
       "      <td>9</td>\n",
       "      <td>2019-10-15</td>\n",
       "      <td>405136001</td>\n",
       "      <td>7997025</td>\n",
       "      <td>360-1</td>\n",
       "      <td>33.485854</td>\n",
       "      <td>126.480530</td>\n",
       "      <td>노형오거리</td>\n",
       "      <td>07시</td>\n",
       "      <td>252.0</td>\n",
       "      <td>남녕고등학교</td>\n",
       "      <td>33.488046</td>\n",
       "      <td>126.483112</td>\n",
       "      <td>204</td>\n",
       "    </tr>\n",
       "  </tbody>\n",
       "</table>\n",
       "</div>"
      ],
      "text/plain": [
       "   id        date   route_id    vh_id route_nm  now_latitude  now_longitude  \\\n",
       "0   0  2019-10-15  405136001  7997025    360-1     33.456267     126.551750   \n",
       "1   1  2019-10-15  405136001  7997025    360-1     33.457724     126.554014   \n",
       "2   2  2019-10-15  405136001  7997025    360-1     33.458783     126.557353   \n",
       "3   3  2019-10-15  405136001  7997025    360-1     33.479705     126.543811   \n",
       "4   4  2019-10-15  405136001  7997025    360-1     33.485662     126.494923   \n",
       "5   5  2019-10-15  405136001  7997025    360-1     33.478867     126.483833   \n",
       "6   6  2019-10-15  405136001  7997025    360-1     33.478850     126.488350   \n",
       "7   7  2019-10-15  405136001  7997025    360-1     33.482142     126.483213   \n",
       "8   8  2019-10-15  405136001  7997025    360-1     33.483446     126.480758   \n",
       "9   9  2019-10-15  405136001  7997025    360-1     33.485854     126.480530   \n",
       "\n",
       "   now_station now_arrive_time  distance     next_station  next_latitude  \\\n",
       "0      제주대학교입구             06시     266.0             제대마을      33.457724   \n",
       "1         제대마을             06시     333.0            제대아파트      33.458783   \n",
       "2        제대아파트             06시     415.0            제주대학교      33.459893   \n",
       "3    남국원(아라방면)             06시     578.0  제주여자중고등학교(아라방면)      33.484860   \n",
       "4          도호동             07시     374.0              은남동      33.485822   \n",
       "5  한라중학교/부영아파트             07시     417.0          대림2차아파트      33.478850   \n",
       "6      대림2차아파트             07시     334.0        연동대림1차아파트      33.480700   \n",
       "7         롯데마트             07시     341.0              원노형      33.483446   \n",
       "8          원노형             07시     185.0            노형오거리      33.485854   \n",
       "9        노형오거리             07시     252.0           남녕고등학교      33.488046   \n",
       "\n",
       "   next_longitude  next_arrive_time  \n",
       "0      126.554014                24  \n",
       "1      126.557353                36  \n",
       "2      126.561624                40  \n",
       "3      126.542928                42  \n",
       "4      126.490897                64  \n",
       "5      126.488350               160  \n",
       "6      126.489933                58  \n",
       "7      126.480758                64  \n",
       "8      126.480530                54  \n",
       "9      126.483112               204  "
      ]
     },
     "execution_count": 2,
     "metadata": {},
     "output_type": "execute_result"
    }
   ],
   "source": [
    "bus_df = pd.read_csv('data/6주차/bus_train.csv')\n",
    "bus_df.head(10)"
   ]
  },
  {
   "cell_type": "markdown",
   "id": "mSF5NACCKIkc",
   "metadata": {
    "id": "mSF5NACCKIkc"
   },
   "source": [
    "## **2. EDA**"
   ]
  },
  {
   "cell_type": "code",
   "execution_count": 3,
   "id": "cbb844a3",
   "metadata": {
    "colab": {
     "base_uri": "https://localhost:8080/"
    },
    "id": "cbb844a3",
    "outputId": "97a9b457-b182-4c09-c2c1-fd3e92ebe2d3"
   },
   "outputs": [
    {
     "name": "stdout",
     "output_type": "stream",
     "text": [
      "<class 'pandas.core.frame.DataFrame'>\n",
      "RangeIndex: 210457 entries, 0 to 210456\n",
      "Data columns (total 14 columns):\n",
      " #   Column            Non-Null Count   Dtype  \n",
      "---  ------            --------------   -----  \n",
      " 0   id                210457 non-null  int64  \n",
      " 1   date              210457 non-null  object \n",
      " 2   route_id          210457 non-null  int64  \n",
      " 3   vh_id             210457 non-null  int64  \n",
      " 4   route_nm          210457 non-null  object \n",
      " 5   now_latitude      210457 non-null  float64\n",
      " 6   now_longitude     210457 non-null  float64\n",
      " 7   now_station       210457 non-null  object \n",
      " 8   now_arrive_time   210457 non-null  object \n",
      " 9   distance          210457 non-null  float64\n",
      " 10  next_station      210457 non-null  object \n",
      " 11  next_latitude     210457 non-null  float64\n",
      " 12  next_longitude    210457 non-null  float64\n",
      " 13  next_arrive_time  210457 non-null  int64  \n",
      "dtypes: float64(5), int64(4), object(5)\n",
      "memory usage: 22.5+ MB\n"
     ]
    }
   ],
   "source": [
    "bus_df.info()"
   ]
  },
  {
   "cell_type": "code",
   "execution_count": 4,
   "id": "634b6dc8",
   "metadata": {
    "colab": {
     "base_uri": "https://localhost:8080/",
     "height": 300
    },
    "id": "634b6dc8",
    "outputId": "ac67449b-2637-4655-aebf-96d2f5ed4c34",
    "scrolled": false
   },
   "outputs": [
    {
     "data": {
      "text/html": [
       "<div>\n",
       "<style scoped>\n",
       "    .dataframe tbody tr th:only-of-type {\n",
       "        vertical-align: middle;\n",
       "    }\n",
       "\n",
       "    .dataframe tbody tr th {\n",
       "        vertical-align: top;\n",
       "    }\n",
       "\n",
       "    .dataframe thead th {\n",
       "        text-align: right;\n",
       "    }\n",
       "</style>\n",
       "<table border=\"1\" class=\"dataframe\">\n",
       "  <thead>\n",
       "    <tr style=\"text-align: right;\">\n",
       "      <th></th>\n",
       "      <th>id</th>\n",
       "      <th>route_id</th>\n",
       "      <th>vh_id</th>\n",
       "      <th>now_latitude</th>\n",
       "      <th>now_longitude</th>\n",
       "      <th>distance</th>\n",
       "      <th>next_latitude</th>\n",
       "      <th>next_longitude</th>\n",
       "      <th>next_arrive_time</th>\n",
       "    </tr>\n",
       "  </thead>\n",
       "  <tbody>\n",
       "    <tr>\n",
       "      <th>count</th>\n",
       "      <td>210457.000000</td>\n",
       "      <td>2.104570e+05</td>\n",
       "      <td>2.104570e+05</td>\n",
       "      <td>210457.000000</td>\n",
       "      <td>210457.000000</td>\n",
       "      <td>210457.000000</td>\n",
       "      <td>210457.000000</td>\n",
       "      <td>210457.000000</td>\n",
       "      <td>210457.000000</td>\n",
       "    </tr>\n",
       "    <tr>\n",
       "      <th>mean</th>\n",
       "      <td>105228.000000</td>\n",
       "      <td>4.052491e+08</td>\n",
       "      <td>7.988694e+06</td>\n",
       "      <td>33.434528</td>\n",
       "      <td>126.603451</td>\n",
       "      <td>490.256100</td>\n",
       "      <td>33.434711</td>\n",
       "      <td>126.603687</td>\n",
       "      <td>85.380824</td>\n",
       "    </tr>\n",
       "    <tr>\n",
       "      <th>std</th>\n",
       "      <td>60753.847139</td>\n",
       "      <td>9.132404e+04</td>\n",
       "      <td>6.774077e+03</td>\n",
       "      <td>0.102350</td>\n",
       "      <td>0.123961</td>\n",
       "      <td>520.563932</td>\n",
       "      <td>0.102224</td>\n",
       "      <td>0.123838</td>\n",
       "      <td>85.051170</td>\n",
       "    </tr>\n",
       "    <tr>\n",
       "      <th>min</th>\n",
       "      <td>0.000000</td>\n",
       "      <td>4.051360e+08</td>\n",
       "      <td>7.983000e+06</td>\n",
       "      <td>33.244382</td>\n",
       "      <td>126.473300</td>\n",
       "      <td>97.000000</td>\n",
       "      <td>33.244382</td>\n",
       "      <td>126.473300</td>\n",
       "      <td>6.000000</td>\n",
       "    </tr>\n",
       "    <tr>\n",
       "      <th>25%</th>\n",
       "      <td>52614.000000</td>\n",
       "      <td>4.051365e+08</td>\n",
       "      <td>7.983093e+06</td>\n",
       "      <td>33.325283</td>\n",
       "      <td>126.523900</td>\n",
       "      <td>291.000000</td>\n",
       "      <td>33.325283</td>\n",
       "      <td>126.524550</td>\n",
       "      <td>44.000000</td>\n",
       "    </tr>\n",
       "    <tr>\n",
       "      <th>50%</th>\n",
       "      <td>105228.000000</td>\n",
       "      <td>4.053201e+08</td>\n",
       "      <td>7.983431e+06</td>\n",
       "      <td>33.484667</td>\n",
       "      <td>126.551050</td>\n",
       "      <td>384.000000</td>\n",
       "      <td>33.484860</td>\n",
       "      <td>126.551050</td>\n",
       "      <td>66.000000</td>\n",
       "    </tr>\n",
       "    <tr>\n",
       "      <th>75%</th>\n",
       "      <td>157842.000000</td>\n",
       "      <td>4.053201e+08</td>\n",
       "      <td>7.997041e+06</td>\n",
       "      <td>33.500197</td>\n",
       "      <td>126.650322</td>\n",
       "      <td>542.000000</td>\n",
       "      <td>33.500228</td>\n",
       "      <td>126.650322</td>\n",
       "      <td>102.000000</td>\n",
       "    </tr>\n",
       "    <tr>\n",
       "      <th>max</th>\n",
       "      <td>210456.000000</td>\n",
       "      <td>4.053281e+08</td>\n",
       "      <td>7.997124e+06</td>\n",
       "      <td>33.556167</td>\n",
       "      <td>126.935188</td>\n",
       "      <td>7461.000000</td>\n",
       "      <td>33.556167</td>\n",
       "      <td>126.935188</td>\n",
       "      <td>2996.000000</td>\n",
       "    </tr>\n",
       "  </tbody>\n",
       "</table>\n",
       "</div>"
      ],
      "text/plain": [
       "                  id      route_id         vh_id   now_latitude  \\\n",
       "count  210457.000000  2.104570e+05  2.104570e+05  210457.000000   \n",
       "mean   105228.000000  4.052491e+08  7.988694e+06      33.434528   \n",
       "std     60753.847139  9.132404e+04  6.774077e+03       0.102350   \n",
       "min         0.000000  4.051360e+08  7.983000e+06      33.244382   \n",
       "25%     52614.000000  4.051365e+08  7.983093e+06      33.325283   \n",
       "50%    105228.000000  4.053201e+08  7.983431e+06      33.484667   \n",
       "75%    157842.000000  4.053201e+08  7.997041e+06      33.500197   \n",
       "max    210456.000000  4.053281e+08  7.997124e+06      33.556167   \n",
       "\n",
       "       now_longitude       distance  next_latitude  next_longitude  \\\n",
       "count  210457.000000  210457.000000  210457.000000   210457.000000   \n",
       "mean      126.603451     490.256100      33.434711      126.603687   \n",
       "std         0.123961     520.563932       0.102224        0.123838   \n",
       "min       126.473300      97.000000      33.244382      126.473300   \n",
       "25%       126.523900     291.000000      33.325283      126.524550   \n",
       "50%       126.551050     384.000000      33.484860      126.551050   \n",
       "75%       126.650322     542.000000      33.500228      126.650322   \n",
       "max       126.935188    7461.000000      33.556167      126.935188   \n",
       "\n",
       "       next_arrive_time  \n",
       "count     210457.000000  \n",
       "mean          85.380824  \n",
       "std           85.051170  \n",
       "min            6.000000  \n",
       "25%           44.000000  \n",
       "50%           66.000000  \n",
       "75%          102.000000  \n",
       "max         2996.000000  "
      ]
     },
     "execution_count": 4,
     "metadata": {},
     "output_type": "execute_result"
    }
   ],
   "source": [
    "bus_df.describe()"
   ]
  },
  {
   "cell_type": "code",
   "execution_count": 5,
   "id": "4dc5f4bc",
   "metadata": {
    "scrolled": true
   },
   "outputs": [
    {
     "name": "stdout",
     "output_type": "stream",
     "text": [
      "id : 210457\n",
      "date : 14\n",
      "route_id : 21\n",
      "vh_id : 104\n",
      "route_nm : 21\n",
      "now_latitude : 562\n",
      "now_longitude : 567\n",
      "now_station : 348\n",
      "now_arrive_time : 20\n",
      "distance : 414\n",
      "next_station : 351\n",
      "next_latitude : 564\n",
      "next_longitude : 569\n",
      "next_arrive_time : 596\n"
     ]
    }
   ],
   "source": [
    "for i in bus_df:\n",
    "    print(i, ':',bus_df[i].value_counts().count())"
   ]
  },
  {
   "cell_type": "code",
   "execution_count": 6,
   "id": "d1620616",
   "metadata": {},
   "outputs": [
    {
     "data": {
      "text/plain": [
       "<AxesSubplot:>"
      ]
     },
     "execution_count": 6,
     "metadata": {},
     "output_type": "execute_result"
    },
    {
     "data": {
      "image/png": "[encoded data removed]",
      "text/plain": [
       "<Figure size 1200x800 with 2 Axes>"
      ]
     },
     "metadata": {},
     "output_type": "display_data"
    }
   ],
   "source": [
    "plt.figure(figsize=(12,8))\n",
    "\n",
    "#plot heat map\n",
    "sns.heatmap(bus_df.corr(), annot=True)"
   ]
  },
  {
   "cell_type": "markdown",
   "id": "236213fb",
   "metadata": {},
   "source": [
    "1. 이동 거리 ↔ 예상 시간\n",
    "2. 현재 시간\n",
    "3. 버스 노선 ID\n",
    "4. 버스 운행 날짜\n",
    "5. 현재 정류소 이름"
   ]
  },
  {
   "cell_type": "code",
   "execution_count": 7,
   "id": "2672d1f1",
   "metadata": {},
   "outputs": [],
   "source": [
    "bus_df = bus_df.drop([\"id\"], axis = 1)\n",
    "bus_df = bus_df.drop([\"vh_id\"], axis = 1)\n",
    "bus_df = bus_df.drop([\"route_nm\"], axis = 1)\n",
    "bus_df = bus_df.drop([\"now_latitude\"], axis = 1)\n",
    "bus_df = bus_df.drop([\"now_longitude\"], axis = 1)\n",
    "bus_df = bus_df.drop([\"next_latitude\"], axis = 1)\n",
    "bus_df = bus_df.drop([\"next_longitude\"], axis = 1)"
   ]
  },
  {
   "cell_type": "markdown",
   "id": "d4ab6193",
   "metadata": {},
   "source": [
    "## **3. Data Preprocess**"
   ]
  },
  {
   "cell_type": "markdown",
   "id": "260b2325",
   "metadata": {},
   "source": [
    "### **3-1. Date**"
   ]
  },
  {
   "cell_type": "code",
   "execution_count": 8,
   "id": "4cb8ec90",
   "metadata": {},
   "outputs": [],
   "source": [
    "df = bus_df.copy()"
   ]
  },
  {
   "cell_type": "code",
   "execution_count": 9,
   "id": "29b45304",
   "metadata": {},
   "outputs": [
    {
     "data": {
      "text/html": [
       "<div>\n",
       "<style scoped>\n",
       "    .dataframe tbody tr th:only-of-type {\n",
       "        vertical-align: middle;\n",
       "    }\n",
       "\n",
       "    .dataframe tbody tr th {\n",
       "        vertical-align: top;\n",
       "    }\n",
       "\n",
       "    .dataframe thead th {\n",
       "        text-align: right;\n",
       "    }\n",
       "</style>\n",
       "<table border=\"1\" class=\"dataframe\">\n",
       "  <thead>\n",
       "    <tr style=\"text-align: right;\">\n",
       "      <th></th>\n",
       "      <th>date</th>\n",
       "      <th>route_id</th>\n",
       "      <th>now_station</th>\n",
       "      <th>now_arrive_time</th>\n",
       "      <th>distance</th>\n",
       "      <th>next_station</th>\n",
       "      <th>next_arrive_time</th>\n",
       "    </tr>\n",
       "  </thead>\n",
       "  <tbody>\n",
       "    <tr>\n",
       "      <th>0</th>\n",
       "      <td>2019-10-15</td>\n",
       "      <td>405136001</td>\n",
       "      <td>제주대학교입구</td>\n",
       "      <td>06시</td>\n",
       "      <td>266.0</td>\n",
       "      <td>제대마을</td>\n",
       "      <td>24</td>\n",
       "    </tr>\n",
       "    <tr>\n",
       "      <th>1</th>\n",
       "      <td>2019-10-15</td>\n",
       "      <td>405136001</td>\n",
       "      <td>제대마을</td>\n",
       "      <td>06시</td>\n",
       "      <td>333.0</td>\n",
       "      <td>제대아파트</td>\n",
       "      <td>36</td>\n",
       "    </tr>\n",
       "    <tr>\n",
       "      <th>2</th>\n",
       "      <td>2019-10-15</td>\n",
       "      <td>405136001</td>\n",
       "      <td>제대아파트</td>\n",
       "      <td>06시</td>\n",
       "      <td>415.0</td>\n",
       "      <td>제주대학교</td>\n",
       "      <td>40</td>\n",
       "    </tr>\n",
       "    <tr>\n",
       "      <th>3</th>\n",
       "      <td>2019-10-15</td>\n",
       "      <td>405136001</td>\n",
       "      <td>남국원(아라방면)</td>\n",
       "      <td>06시</td>\n",
       "      <td>578.0</td>\n",
       "      <td>제주여자중고등학교(아라방면)</td>\n",
       "      <td>42</td>\n",
       "    </tr>\n",
       "    <tr>\n",
       "      <th>4</th>\n",
       "      <td>2019-10-15</td>\n",
       "      <td>405136001</td>\n",
       "      <td>도호동</td>\n",
       "      <td>07시</td>\n",
       "      <td>374.0</td>\n",
       "      <td>은남동</td>\n",
       "      <td>64</td>\n",
       "    </tr>\n",
       "    <tr>\n",
       "      <th>...</th>\n",
       "      <td>...</td>\n",
       "      <td>...</td>\n",
       "      <td>...</td>\n",
       "      <td>...</td>\n",
       "      <td>...</td>\n",
       "      <td>...</td>\n",
       "      <td>...</td>\n",
       "    </tr>\n",
       "    <tr>\n",
       "      <th>210452</th>\n",
       "      <td>2019-10-28</td>\n",
       "      <td>405328102</td>\n",
       "      <td>비석거리</td>\n",
       "      <td>21시</td>\n",
       "      <td>528.0</td>\n",
       "      <td>삼아아파트</td>\n",
       "      <td>96</td>\n",
       "    </tr>\n",
       "    <tr>\n",
       "      <th>210453</th>\n",
       "      <td>2019-10-28</td>\n",
       "      <td>405328102</td>\n",
       "      <td>동문로터리</td>\n",
       "      <td>21시</td>\n",
       "      <td>280.0</td>\n",
       "      <td>매일올레시장 7번입구</td>\n",
       "      <td>50</td>\n",
       "    </tr>\n",
       "    <tr>\n",
       "      <th>210454</th>\n",
       "      <td>2019-10-28</td>\n",
       "      <td>405328102</td>\n",
       "      <td>서귀포시 구 버스터미널</td>\n",
       "      <td>21시</td>\n",
       "      <td>114.0</td>\n",
       "      <td>아랑조을거리 입구</td>\n",
       "      <td>16</td>\n",
       "    </tr>\n",
       "    <tr>\n",
       "      <th>210455</th>\n",
       "      <td>2019-10-28</td>\n",
       "      <td>405328102</td>\n",
       "      <td>아랑조을거리 입구</td>\n",
       "      <td>21시</td>\n",
       "      <td>223.0</td>\n",
       "      <td>평생학습관</td>\n",
       "      <td>38</td>\n",
       "    </tr>\n",
       "    <tr>\n",
       "      <th>210456</th>\n",
       "      <td>2019-10-28</td>\n",
       "      <td>405328102</td>\n",
       "      <td>대륜동주민센터</td>\n",
       "      <td>21시</td>\n",
       "      <td>189.0</td>\n",
       "      <td>서귀포버스터미널(가상정류소)</td>\n",
       "      <td>24</td>\n",
       "    </tr>\n",
       "  </tbody>\n",
       "</table>\n",
       "<p>210457 rows × 7 columns</p>\n",
       "</div>"
      ],
      "text/plain": [
       "              date   route_id   now_station now_arrive_time  distance  \\\n",
       "0       2019-10-15  405136001       제주대학교입구             06시     266.0   \n",
       "1       2019-10-15  405136001          제대마을             06시     333.0   \n",
       "2       2019-10-15  405136001         제대아파트             06시     415.0   \n",
       "3       2019-10-15  405136001     남국원(아라방면)             06시     578.0   \n",
       "4       2019-10-15  405136001           도호동             07시     374.0   \n",
       "...            ...        ...           ...             ...       ...   \n",
       "210452  2019-10-28  405328102          비석거리             21시     528.0   \n",
       "210453  2019-10-28  405328102         동문로터리             21시     280.0   \n",
       "210454  2019-10-28  405328102  서귀포시 구 버스터미널             21시     114.0   \n",
       "210455  2019-10-28  405328102     아랑조을거리 입구             21시     223.0   \n",
       "210456  2019-10-28  405328102       대륜동주민센터             21시     189.0   \n",
       "\n",
       "           next_station  next_arrive_time  \n",
       "0                  제대마을                24  \n",
       "1                 제대아파트                36  \n",
       "2                 제주대학교                40  \n",
       "3       제주여자중고등학교(아라방면)                42  \n",
       "4                   은남동                64  \n",
       "...                 ...               ...  \n",
       "210452            삼아아파트                96  \n",
       "210453      매일올레시장 7번입구                50  \n",
       "210454        아랑조을거리 입구                16  \n",
       "210455            평생학습관                38  \n",
       "210456  서귀포버스터미널(가상정류소)                24  \n",
       "\n",
       "[210457 rows x 7 columns]"
      ]
     },
     "execution_count": 9,
     "metadata": {},
     "output_type": "execute_result"
    }
   ],
   "source": [
    "df"
   ]
  },
  {
   "cell_type": "code",
   "execution_count": 10,
   "id": "cb739708",
   "metadata": {},
   "outputs": [],
   "source": [
    "df_date = df[\"date\"].unique()"
   ]
  },
  {
   "cell_type": "code",
   "execution_count": 11,
   "id": "6405cb23",
   "metadata": {},
   "outputs": [
    {
     "data": {
      "text/plain": [
       "array(['2019-10-15', '2019-10-16', '2019-10-17', '2019-10-18',\n",
       "       '2019-10-19', '2019-10-20', '2019-10-21', '2019-10-22',\n",
       "       '2019-10-23', '2019-10-24', '2019-10-25', '2019-10-26',\n",
       "       '2019-10-27', '2019-10-28'], dtype=object)"
      ]
     },
     "execution_count": 11,
     "metadata": {},
     "output_type": "execute_result"
    }
   ],
   "source": [
    "df_date"
   ]
  },
  {
   "cell_type": "markdown",
   "id": "016980bb",
   "metadata": {},
   "source": [
    "- 2019-10-15 : 화요일\n",
    "-2019-10-16 : 수요일\n",
    "-2019-10-17 : 목요일\n",
    "-2019-10-18 : 금요일 → 금요일 저녁\n",
    "-2019-10-19 : 토요일 → 주말\n",
    "-2019-10-20 : 일요일 → 주말\n",
    "-2019-10-21 : 월요일\n",
    "-2019-10-22 : 화요일\n",
    "-2019-10-23 : 수요일\n",
    "-2019-10-24 : 목요일\n",
    "-2019-10-25 : 금요일 → 금요일 저녁\n",
    "-2019-10-26 : 토요일 → 주말\n",
    "-2019-10-27 : 일요일 → 주말\n",
    "-2019-10-28 : 월요일\n",
    "\n",
    "-평일 :0, 금요일: 1, 주말: 2"
   ]
  },
  {
   "cell_type": "code",
   "execution_count": 12,
   "id": "c3ba30f6",
   "metadata": {
    "scrolled": false
   },
   "outputs": [
    {
     "data": {
      "text/plain": [
       "'2019-10-24'"
      ]
     },
     "execution_count": 12,
     "metadata": {},
     "output_type": "execute_result"
    }
   ],
   "source": [
    "df_date[9]"
   ]
  },
  {
   "cell_type": "code",
   "execution_count": 13,
   "id": "01a99eba",
   "metadata": {
    "scrolled": false
   },
   "outputs": [
    {
     "data": {
      "text/plain": [
       "153380    2019-10-25\n",
       "153381    2019-10-25\n",
       "153382    2019-10-25\n",
       "153383    2019-10-25\n",
       "153384    2019-10-25\n",
       "             ...    \n",
       "168294    2019-10-25\n",
       "168295    2019-10-25\n",
       "168296    2019-10-25\n",
       "168297    2019-10-25\n",
       "168298    2019-10-25\n",
       "Name: date, Length: 14919, dtype: object"
      ]
     },
     "execution_count": 13,
     "metadata": {},
     "output_type": "execute_result"
    }
   ],
   "source": [
    "df.loc[df[\"date\"] == df[\"date\"].unique()[10], \"date\"]"
   ]
  },
  {
   "cell_type": "code",
   "execution_count": 14,
   "id": "1e3a34c5",
   "metadata": {},
   "outputs": [
    {
     "data": {
      "text/plain": [
       "array(['2019-10-15', '2019-10-16', '2019-10-17', '2019-10-18',\n",
       "       '2019-10-19', '2019-10-20', '2019-10-21', '2019-10-22',\n",
       "       '2019-10-23', '2019-10-24', '2019-10-25', '2019-10-26',\n",
       "       '2019-10-27', '2019-10-28'], dtype=object)"
      ]
     },
     "execution_count": 14,
     "metadata": {},
     "output_type": "execute_result"
    }
   ],
   "source": [
    "df[\"date\"].unique()"
   ]
  },
  {
   "cell_type": "code",
   "execution_count": 15,
   "id": "0526fc53",
   "metadata": {},
   "outputs": [],
   "source": [
    "df.loc[df[\"date\"] == df_date[0], \"date\"] = 0\n",
    "df.loc[df[\"date\"] == df_date[1], \"date\"] = 0\n",
    "df.loc[df[\"date\"] == df_date[2], \"date\"] = 0\n",
    "df.loc[df[\"date\"] == df_date[3], \"date\"] = 1\n",
    "df.loc[df[\"date\"] == df_date[4], \"date\"] = 2\n",
    "df.loc[df[\"date\"] == df_date[5], \"date\"] = 2\n",
    "\n",
    "df.loc[df[\"date\"] == df_date[6], \"date\"] = 0\n",
    "df.loc[df[\"date\"] == df_date[7], \"date\"] = 0\n",
    "df.loc[df[\"date\"] == df_date[8], \"date\"] = 0\n",
    "df.loc[df[\"date\"] == df_date[9], \"date\"] = 0\n",
    "df.loc[df[\"date\"] == df_date[10], \"date\"] = 1\n",
    "df.loc[df[\"date\"] == df_date[11], \"date\"] = 2\n",
    "df.loc[df[\"date\"] == df_date[12], \"date\"] = 2\n",
    "\n",
    "df.loc[df[\"date\"] == df_date[13], \"date\"] = 0"
   ]
  },
  {
   "cell_type": "code",
   "execution_count": 16,
   "id": "1e5f8abf",
   "metadata": {},
   "outputs": [
    {
     "data": {
      "text/plain": [
       "0    123450\n",
       "2     57004\n",
       "1     30003\n",
       "Name: date, dtype: int64"
      ]
     },
     "execution_count": 16,
     "metadata": {},
     "output_type": "execute_result"
    }
   ],
   "source": [
    "df[\"date\"].value_counts()"
   ]
  },
  {
   "cell_type": "code",
   "execution_count": 17,
   "id": "ec8c4bd1",
   "metadata": {},
   "outputs": [
    {
     "data": {
      "text/plain": [
       "08시    13838\n",
       "09시    13700\n",
       "07시    13581\n",
       "16시    13476\n",
       "12시    13433\n",
       "19시    13275\n",
       "13시    13197\n",
       "17시    13090\n",
       "10시    13011\n",
       "18시    12987\n",
       "15시    12846\n",
       "14시    12592\n",
       "11시    12524\n",
       "20시    11852\n",
       "21시    11230\n",
       "06시     8409\n",
       "22시     6470\n",
       "05시      487\n",
       "23시      454\n",
       "00시        5\n",
       "Name: now_arrive_time, dtype: int64"
      ]
     },
     "execution_count": 17,
     "metadata": {},
     "output_type": "execute_result"
    }
   ],
   "source": [
    "df[\"now_arrive_time\"].value_counts()"
   ]
  },
  {
   "cell_type": "code",
   "execution_count": 18,
   "id": "86763288",
   "metadata": {},
   "outputs": [
    {
     "data": {
      "text/plain": [
       "array(['06시', '07시', '08시', '09시', '10시', '11시', '13시', '14시', '16시',\n",
       "       '17시', '18시', '19시', '20시', '21시', '12시', '15시', '22시', '05시',\n",
       "       '23시', '00시'], dtype=object)"
      ]
     },
     "execution_count": 18,
     "metadata": {},
     "output_type": "execute_result"
    }
   ],
   "source": [
    "df[\"now_arrive_time\"].unique()"
   ]
  },
  {
   "cell_type": "code",
   "execution_count": 19,
   "id": "4fbdddb4",
   "metadata": {},
   "outputs": [],
   "source": [
    "df.loc[df[\"now_arrive_time\"] == \"05시\", \"now_arrive_time\"] = 0\n",
    "df.loc[df[\"now_arrive_time\"] == \"06시\", \"now_arrive_time\"] = 0\n",
    "df.loc[df[\"now_arrive_time\"] == \"07시\", \"now_arrive_time\"] = 0\n",
    "df.loc[df[\"now_arrive_time\"] == \"08시\", \"now_arrive_time\"] = 0\n",
    "df.loc[df[\"now_arrive_time\"] == \"09시\", \"now_arrive_time\"] = 1\n",
    "df.loc[df[\"now_arrive_time\"] == \"10시\", \"now_arrive_time\"] = 1\n",
    "df.loc[df[\"now_arrive_time\"] == \"11시\", \"now_arrive_time\"] = 1\n",
    "df.loc[df[\"now_arrive_time\"] == \"12시\", \"now_arrive_time\"] = 1\n",
    "df.loc[df[\"now_arrive_time\"] == \"13시\", \"now_arrive_time\"] = 2\n",
    "df.loc[df[\"now_arrive_time\"] == \"14시\", \"now_arrive_time\"] = 2\n",
    "df.loc[df[\"now_arrive_time\"] == \"15시\", \"now_arrive_time\"] = 2\n",
    "df.loc[df[\"now_arrive_time\"] == \"16시\", \"now_arrive_time\"] = 2\n",
    "df.loc[df[\"now_arrive_time\"] == \"17시\", \"now_arrive_time\"] = 2\n",
    "df.loc[df[\"now_arrive_time\"] == \"18시\", \"now_arrive_time\"] = 3\n",
    "df.loc[df[\"now_arrive_time\"] == \"19시\", \"now_arrive_time\"] = 3\n",
    "df.loc[df[\"now_arrive_time\"] == \"20시\", \"now_arrive_time\"] = 3\n",
    "df.loc[df[\"now_arrive_time\"] == \"21시\", \"now_arrive_time\"] = 3\n",
    "df.loc[df[\"now_arrive_time\"] == \"22시\", \"now_arrive_time\"] = 4\n",
    "df.loc[df[\"now_arrive_time\"] == \"23시\", \"now_arrive_time\"] = 4\n",
    "df.loc[df[\"now_arrive_time\"] == \"00시\", \"now_arrive_time\"] = 4"
   ]
  },
  {
   "cell_type": "code",
   "execution_count": 20,
   "id": "8862cd90",
   "metadata": {},
   "outputs": [
    {
     "data": {
      "text/plain": [
       "array([0, 1, 2, 3, 4], dtype=object)"
      ]
     },
     "execution_count": 20,
     "metadata": {},
     "output_type": "execute_result"
    }
   ],
   "source": [
    "df[\"now_arrive_time\"].unique()"
   ]
  },
  {
   "cell_type": "code",
   "execution_count": 21,
   "id": "c039b63f",
   "metadata": {},
   "outputs": [
    {
     "data": {
      "text/plain": [
       "2    65201\n",
       "1    52668\n",
       "3    49344\n",
       "0    36315\n",
       "4     6929\n",
       "Name: now_arrive_time, dtype: int64"
      ]
     },
     "execution_count": 21,
     "metadata": {},
     "output_type": "execute_result"
    }
   ],
   "source": [
    "df[\"now_arrive_time\"].value_counts()"
   ]
  },
  {
   "cell_type": "markdown",
   "id": "63452e63",
   "metadata": {},
   "source": [
    "### **3-2. Label encoder**"
   ]
  },
  {
   "cell_type": "code",
   "execution_count": 22,
   "id": "57558210",
   "metadata": {
    "scrolled": true
   },
   "outputs": [
    {
     "name": "stdout",
     "output_type": "stream",
     "text": [
      "<class 'pandas.core.frame.DataFrame'>\n",
      "RangeIndex: 210457 entries, 0 to 210456\n",
      "Data columns (total 7 columns):\n",
      " #   Column            Non-Null Count   Dtype  \n",
      "---  ------            --------------   -----  \n",
      " 0   date              210457 non-null  object \n",
      " 1   route_id          210457 non-null  int64  \n",
      " 2   now_station       210457 non-null  object \n",
      " 3   now_arrive_time   210457 non-null  object \n",
      " 4   distance          210457 non-null  float64\n",
      " 5   next_station      210457 non-null  object \n",
      " 6   next_arrive_time  210457 non-null  int64  \n",
      "dtypes: float64(1), int64(2), object(4)\n",
      "memory usage: 11.2+ MB\n"
     ]
    }
   ],
   "source": [
    "df.info()"
   ]
  },
  {
   "cell_type": "code",
   "execution_count": 23,
   "id": "f1aed238",
   "metadata": {},
   "outputs": [],
   "source": [
    "df['route_id'] = df['route_id'].astype(str)"
   ]
  },
  {
   "cell_type": "code",
   "execution_count": 24,
   "id": "7233087b",
   "metadata": {},
   "outputs": [
    {
     "name": "stdout",
     "output_type": "stream",
     "text": [
      "<class 'pandas.core.frame.DataFrame'>\n",
      "RangeIndex: 210457 entries, 0 to 210456\n",
      "Data columns (total 7 columns):\n",
      " #   Column            Non-Null Count   Dtype  \n",
      "---  ------            --------------   -----  \n",
      " 0   date              210457 non-null  object \n",
      " 1   route_id          210457 non-null  object \n",
      " 2   now_station       210457 non-null  object \n",
      " 3   now_arrive_time   210457 non-null  object \n",
      " 4   distance          210457 non-null  float64\n",
      " 5   next_station      210457 non-null  object \n",
      " 6   next_arrive_time  210457 non-null  int64  \n",
      "dtypes: float64(1), int64(1), object(5)\n",
      "memory usage: 11.2+ MB\n"
     ]
    }
   ],
   "source": [
    "df.info()"
   ]
  },
  {
   "cell_type": "code",
   "execution_count": null,
   "id": "b396280a",
   "metadata": {},
   "outputs": [],
   "source": []
  },
  {
   "cell_type": "code",
   "execution_count": 25,
   "id": "cecc739e",
   "metadata": {},
   "outputs": [],
   "source": [
    "numeric_col = [col for col in df if df[col].dtype != \"object\" ]\n",
    "object_col = [col for col in df if df[col].dtype == \"object\" ]"
   ]
  },
  {
   "cell_type": "code",
   "execution_count": 26,
   "id": "708cd9aa",
   "metadata": {},
   "outputs": [
    {
     "data": {
      "text/html": [
       "<div>\n",
       "<style scoped>\n",
       "    .dataframe tbody tr th:only-of-type {\n",
       "        vertical-align: middle;\n",
       "    }\n",
       "\n",
       "    .dataframe tbody tr th {\n",
       "        vertical-align: top;\n",
       "    }\n",
       "\n",
       "    .dataframe thead th {\n",
       "        text-align: right;\n",
       "    }\n",
       "</style>\n",
       "<table border=\"1\" class=\"dataframe\">\n",
       "  <thead>\n",
       "    <tr style=\"text-align: right;\">\n",
       "      <th></th>\n",
       "      <th>date</th>\n",
       "      <th>route_id</th>\n",
       "      <th>now_station</th>\n",
       "      <th>now_arrive_time</th>\n",
       "      <th>next_station</th>\n",
       "    </tr>\n",
       "  </thead>\n",
       "  <tbody>\n",
       "    <tr>\n",
       "      <th>0</th>\n",
       "      <td>0</td>\n",
       "      <td>0</td>\n",
       "      <td>238</td>\n",
       "      <td>0</td>\n",
       "      <td>227</td>\n",
       "    </tr>\n",
       "    <tr>\n",
       "      <th>1</th>\n",
       "      <td>0</td>\n",
       "      <td>0</td>\n",
       "      <td>226</td>\n",
       "      <td>0</td>\n",
       "      <td>228</td>\n",
       "    </tr>\n",
       "    <tr>\n",
       "      <th>2</th>\n",
       "      <td>0</td>\n",
       "      <td>0</td>\n",
       "      <td>227</td>\n",
       "      <td>0</td>\n",
       "      <td>235</td>\n",
       "    </tr>\n",
       "    <tr>\n",
       "      <th>3</th>\n",
       "      <td>0</td>\n",
       "      <td>0</td>\n",
       "      <td>41</td>\n",
       "      <td>0</td>\n",
       "      <td>249</td>\n",
       "    </tr>\n",
       "    <tr>\n",
       "      <th>4</th>\n",
       "      <td>0</td>\n",
       "      <td>0</td>\n",
       "      <td>63</td>\n",
       "      <td>0</td>\n",
       "      <td>221</td>\n",
       "    </tr>\n",
       "  </tbody>\n",
       "</table>\n",
       "</div>"
      ],
      "text/plain": [
       "   date  route_id  now_station  now_arrive_time  next_station\n",
       "0     0         0          238                0           227\n",
       "1     0         0          226                0           228\n",
       "2     0         0          227                0           235\n",
       "3     0         0           41                0           249\n",
       "4     0         0           63                0           221"
      ]
     },
     "execution_count": 26,
     "metadata": {},
     "output_type": "execute_result"
    }
   ],
   "source": [
    "label = LabelEncoder()\n",
    "\n",
    "for col in object_col:\n",
    "    df[col] = pd.DataFrame(label.fit_transform(df[col]))\n",
    "df[object_col].head()"
   ]
  },
  {
   "cell_type": "markdown",
   "id": "81eb1bd0",
   "metadata": {},
   "source": [
    "### **3-3. 이상치**"
   ]
  },
  {
   "cell_type": "code",
   "execution_count": 27,
   "id": "8f374f12",
   "metadata": {},
   "outputs": [
    {
     "data": {
      "text/plain": [
       "210457"
      ]
     },
     "execution_count": 27,
     "metadata": {},
     "output_type": "execute_result"
    }
   ],
   "source": [
    "len(df)"
   ]
  },
  {
   "cell_type": "code",
   "execution_count": 28,
   "id": "4e68eb46",
   "metadata": {
    "scrolled": true
   },
   "outputs": [
    {
     "data": {
      "image/png": "[encoded data removed]",
      "text/plain": [
       "<Figure size 1500x500 with 7 Axes>"
      ]
     },
     "metadata": {},
     "output_type": "display_data"
    }
   ],
   "source": [
    "# boxplot을 사용한 이상치 확인\n",
    "\n",
    "plt.figure(figsize=(15,5), constrained_layout = True )\n",
    "\n",
    "for i in range(0, len(df.columns)):\n",
    "    plt.subplot(2, 4, i+1) # 그래프 배열 4행 8열\n",
    "    sns.boxplot(df.iloc[:, i])"
   ]
  },
  {
   "cell_type": "code",
   "execution_count": 29,
   "id": "db436ef2",
   "metadata": {},
   "outputs": [
    {
     "name": "stdout",
     "output_type": "stream",
     "text": [
      "(210457, 7)\n",
      "11834\n",
      "(198623, 7)\n"
     ]
    },
    {
     "ename": "KeyError",
     "evalue": "'[  2991   3006   3007 ... 210428 210429 210431] not found in axis'",
     "output_type": "error",
     "traceback": [
      "\u001b[1;31m---------------------------------------------------------------------------\u001b[0m",
      "\u001b[1;31mKeyError\u001b[0m                                  Traceback (most recent call last)",
      "\u001b[1;32m~\\AppData\\Local\\Temp/ipykernel_28188/57012280.py\u001b[0m in \u001b[0;36m<module>\u001b[1;34m\u001b[0m\n\u001b[0;32m     17\u001b[0m \u001b[1;31m#for col in numeric_col:\u001b[0m\u001b[1;33m\u001b[0m\u001b[1;33m\u001b[0m\u001b[0m\n\u001b[0;32m     18\u001b[0m \u001b[0moutlier_index\u001b[0m \u001b[1;33m=\u001b[0m \u001b[0mget_outlier\u001b[0m\u001b[1;33m(\u001b[0m\u001b[0mdf\u001b[0m\u001b[1;33m,\u001b[0m \u001b[1;34m\"distance\"\u001b[0m\u001b[1;33m)\u001b[0m\u001b[1;33m\u001b[0m\u001b[1;33m\u001b[0m\u001b[0m\n\u001b[1;32m---> 19\u001b[1;33m \u001b[0mdf\u001b[0m \u001b[1;33m=\u001b[0m \u001b[0mdf\u001b[0m\u001b[1;33m.\u001b[0m\u001b[0mdrop\u001b[0m\u001b[1;33m(\u001b[0m\u001b[0moutlier_index\u001b[0m\u001b[1;33m,\u001b[0m \u001b[0maxis\u001b[0m\u001b[1;33m=\u001b[0m\u001b[1;36m0\u001b[0m\u001b[1;33m,\u001b[0m \u001b[0minplace\u001b[0m \u001b[1;33m=\u001b[0m \u001b[1;32mTrue\u001b[0m\u001b[1;33m)\u001b[0m\u001b[1;33m\u001b[0m\u001b[1;33m\u001b[0m\u001b[0m\n\u001b[0m",
      "\u001b[1;32m~\\anaconda3\\lib\\site-packages\\pandas\\util\\_decorators.py\u001b[0m in \u001b[0;36mwrapper\u001b[1;34m(*args, **kwargs)\u001b[0m\n\u001b[0;32m    309\u001b[0m                     \u001b[0mstacklevel\u001b[0m\u001b[1;33m=\u001b[0m\u001b[0mstacklevel\u001b[0m\u001b[1;33m,\u001b[0m\u001b[1;33m\u001b[0m\u001b[1;33m\u001b[0m\u001b[0m\n\u001b[0;32m    310\u001b[0m                 )\n\u001b[1;32m--> 311\u001b[1;33m             \u001b[1;32mreturn\u001b[0m \u001b[0mfunc\u001b[0m\u001b[1;33m(\u001b[0m\u001b[1;33m*\u001b[0m\u001b[0margs\u001b[0m\u001b[1;33m,\u001b[0m \u001b[1;33m**\u001b[0m\u001b[0mkwargs\u001b[0m\u001b[1;33m)\u001b[0m\u001b[1;33m\u001b[0m\u001b[1;33m\u001b[0m\u001b[0m\n\u001b[0m\u001b[0;32m    312\u001b[0m \u001b[1;33m\u001b[0m\u001b[0m\n\u001b[0;32m    313\u001b[0m         \u001b[1;32mreturn\u001b[0m \u001b[0mwrapper\u001b[0m\u001b[1;33m\u001b[0m\u001b[1;33m\u001b[0m\u001b[0m\n",
      "\u001b[1;32m~\\anaconda3\\lib\\site-packages\\pandas\\core\\frame.py\u001b[0m in \u001b[0;36mdrop\u001b[1;34m(self, labels, axis, index, columns, level, inplace, errors)\u001b[0m\n\u001b[0;32m   4904\u001b[0m                 \u001b[0mweight\u001b[0m  \u001b[1;36m1.0\u001b[0m     \u001b[1;36m0.8\u001b[0m\u001b[1;33m\u001b[0m\u001b[1;33m\u001b[0m\u001b[0m\n\u001b[0;32m   4905\u001b[0m         \"\"\"\n\u001b[1;32m-> 4906\u001b[1;33m         return super().drop(\n\u001b[0m\u001b[0;32m   4907\u001b[0m             \u001b[0mlabels\u001b[0m\u001b[1;33m=\u001b[0m\u001b[0mlabels\u001b[0m\u001b[1;33m,\u001b[0m\u001b[1;33m\u001b[0m\u001b[1;33m\u001b[0m\u001b[0m\n\u001b[0;32m   4908\u001b[0m             \u001b[0maxis\u001b[0m\u001b[1;33m=\u001b[0m\u001b[0maxis\u001b[0m\u001b[1;33m,\u001b[0m\u001b[1;33m\u001b[0m\u001b[1;33m\u001b[0m\u001b[0m\n",
      "\u001b[1;32m~\\anaconda3\\lib\\site-packages\\pandas\\core\\generic.py\u001b[0m in \u001b[0;36mdrop\u001b[1;34m(self, labels, axis, index, columns, level, inplace, errors)\u001b[0m\n\u001b[0;32m   4148\u001b[0m         \u001b[1;32mfor\u001b[0m \u001b[0maxis\u001b[0m\u001b[1;33m,\u001b[0m \u001b[0mlabels\u001b[0m \u001b[1;32min\u001b[0m \u001b[0maxes\u001b[0m\u001b[1;33m.\u001b[0m\u001b[0mitems\u001b[0m\u001b[1;33m(\u001b[0m\u001b[1;33m)\u001b[0m\u001b[1;33m:\u001b[0m\u001b[1;33m\u001b[0m\u001b[1;33m\u001b[0m\u001b[0m\n\u001b[0;32m   4149\u001b[0m             \u001b[1;32mif\u001b[0m \u001b[0mlabels\u001b[0m \u001b[1;32mis\u001b[0m \u001b[1;32mnot\u001b[0m \u001b[1;32mNone\u001b[0m\u001b[1;33m:\u001b[0m\u001b[1;33m\u001b[0m\u001b[1;33m\u001b[0m\u001b[0m\n\u001b[1;32m-> 4150\u001b[1;33m                 \u001b[0mobj\u001b[0m \u001b[1;33m=\u001b[0m \u001b[0mobj\u001b[0m\u001b[1;33m.\u001b[0m\u001b[0m_drop_axis\u001b[0m\u001b[1;33m(\u001b[0m\u001b[0mlabels\u001b[0m\u001b[1;33m,\u001b[0m \u001b[0maxis\u001b[0m\u001b[1;33m,\u001b[0m \u001b[0mlevel\u001b[0m\u001b[1;33m=\u001b[0m\u001b[0mlevel\u001b[0m\u001b[1;33m,\u001b[0m \u001b[0merrors\u001b[0m\u001b[1;33m=\u001b[0m\u001b[0merrors\u001b[0m\u001b[1;33m)\u001b[0m\u001b[1;33m\u001b[0m\u001b[1;33m\u001b[0m\u001b[0m\n\u001b[0m\u001b[0;32m   4151\u001b[0m \u001b[1;33m\u001b[0m\u001b[0m\n\u001b[0;32m   4152\u001b[0m         \u001b[1;32mif\u001b[0m \u001b[0minplace\u001b[0m\u001b[1;33m:\u001b[0m\u001b[1;33m\u001b[0m\u001b[1;33m\u001b[0m\u001b[0m\n",
      "\u001b[1;32m~\\anaconda3\\lib\\site-packages\\pandas\\core\\generic.py\u001b[0m in \u001b[0;36m_drop_axis\u001b[1;34m(self, labels, axis, level, errors)\u001b[0m\n\u001b[0;32m   4183\u001b[0m                 \u001b[0mnew_axis\u001b[0m \u001b[1;33m=\u001b[0m \u001b[0maxis\u001b[0m\u001b[1;33m.\u001b[0m\u001b[0mdrop\u001b[0m\u001b[1;33m(\u001b[0m\u001b[0mlabels\u001b[0m\u001b[1;33m,\u001b[0m \u001b[0mlevel\u001b[0m\u001b[1;33m=\u001b[0m\u001b[0mlevel\u001b[0m\u001b[1;33m,\u001b[0m \u001b[0merrors\u001b[0m\u001b[1;33m=\u001b[0m\u001b[0merrors\u001b[0m\u001b[1;33m)\u001b[0m\u001b[1;33m\u001b[0m\u001b[1;33m\u001b[0m\u001b[0m\n\u001b[0;32m   4184\u001b[0m             \u001b[1;32melse\u001b[0m\u001b[1;33m:\u001b[0m\u001b[1;33m\u001b[0m\u001b[1;33m\u001b[0m\u001b[0m\n\u001b[1;32m-> 4185\u001b[1;33m                 \u001b[0mnew_axis\u001b[0m \u001b[1;33m=\u001b[0m \u001b[0maxis\u001b[0m\u001b[1;33m.\u001b[0m\u001b[0mdrop\u001b[0m\u001b[1;33m(\u001b[0m\u001b[0mlabels\u001b[0m\u001b[1;33m,\u001b[0m \u001b[0merrors\u001b[0m\u001b[1;33m=\u001b[0m\u001b[0merrors\u001b[0m\u001b[1;33m)\u001b[0m\u001b[1;33m\u001b[0m\u001b[1;33m\u001b[0m\u001b[0m\n\u001b[0m\u001b[0;32m   4186\u001b[0m             \u001b[0mresult\u001b[0m \u001b[1;33m=\u001b[0m \u001b[0mself\u001b[0m\u001b[1;33m.\u001b[0m\u001b[0mreindex\u001b[0m\u001b[1;33m(\u001b[0m\u001b[1;33m**\u001b[0m\u001b[1;33m{\u001b[0m\u001b[0maxis_name\u001b[0m\u001b[1;33m:\u001b[0m \u001b[0mnew_axis\u001b[0m\u001b[1;33m}\u001b[0m\u001b[1;33m)\u001b[0m\u001b[1;33m\u001b[0m\u001b[1;33m\u001b[0m\u001b[0m\n\u001b[0;32m   4187\u001b[0m \u001b[1;33m\u001b[0m\u001b[0m\n",
      "\u001b[1;32m~\\anaconda3\\lib\\site-packages\\pandas\\core\\indexes\\base.py\u001b[0m in \u001b[0;36mdrop\u001b[1;34m(self, labels, errors)\u001b[0m\n\u001b[0;32m   6015\u001b[0m         \u001b[1;32mif\u001b[0m \u001b[0mmask\u001b[0m\u001b[1;33m.\u001b[0m\u001b[0many\u001b[0m\u001b[1;33m(\u001b[0m\u001b[1;33m)\u001b[0m\u001b[1;33m:\u001b[0m\u001b[1;33m\u001b[0m\u001b[1;33m\u001b[0m\u001b[0m\n\u001b[0;32m   6016\u001b[0m             \u001b[1;32mif\u001b[0m \u001b[0merrors\u001b[0m \u001b[1;33m!=\u001b[0m \u001b[1;34m\"ignore\"\u001b[0m\u001b[1;33m:\u001b[0m\u001b[1;33m\u001b[0m\u001b[1;33m\u001b[0m\u001b[0m\n\u001b[1;32m-> 6017\u001b[1;33m                 \u001b[1;32mraise\u001b[0m \u001b[0mKeyError\u001b[0m\u001b[1;33m(\u001b[0m\u001b[1;34mf\"{labels[mask]} not found in axis\"\u001b[0m\u001b[1;33m)\u001b[0m\u001b[1;33m\u001b[0m\u001b[1;33m\u001b[0m\u001b[0m\n\u001b[0m\u001b[0;32m   6018\u001b[0m             \u001b[0mindexer\u001b[0m \u001b[1;33m=\u001b[0m \u001b[0mindexer\u001b[0m\u001b[1;33m[\u001b[0m\u001b[1;33m~\u001b[0m\u001b[0mmask\u001b[0m\u001b[1;33m]\u001b[0m\u001b[1;33m\u001b[0m\u001b[1;33m\u001b[0m\u001b[0m\n\u001b[0;32m   6019\u001b[0m         \u001b[1;32mreturn\u001b[0m \u001b[0mself\u001b[0m\u001b[1;33m.\u001b[0m\u001b[0mdelete\u001b[0m\u001b[1;33m(\u001b[0m\u001b[0mindexer\u001b[0m\u001b[1;33m)\u001b[0m\u001b[1;33m\u001b[0m\u001b[1;33m\u001b[0m\u001b[0m\n",
      "\u001b[1;31mKeyError\u001b[0m: '[  2991   3006   3007 ... 210428 210429 210431] not found in axis'"
     ]
    }
   ],
   "source": [
    "def get_outlier(data, col_name):\n",
    "    # fraud에 해당하는 column 데이터만 추출, 1/4 분위와 3/4 분위 지점을 np.percentile로 구함. \n",
    "    q1, q3 = np.percentile(data[col_name], [25, 75])\n",
    "    iqr = q3-q1\n",
    "    lowest_val = q1 - iqr*1.5\n",
    "    highest_val = q3 + iqr*1.5\n",
    "\n",
    "    # 최대값 보다 크거나, 최소값 보다 작은 값을 아웃라이어로 설정하고 DataFrame index 반환. \n",
    "    outlier_index = data[col_name][(data[col_name] < lowest_val) | (data[col_name] > highest_val)].index\n",
    "    print(len(outlier_index))\n",
    "    data.drop(outlier_index, axis=0, inplace=True)\n",
    "    print(data.shape)\n",
    "\n",
    "    return outlier_index\n",
    "print(df.shape)\n",
    "\n",
    "#for col in numeric_col:\n",
    "outlier_index = get_outlier(df, \"distance\")\n",
    "df = df.drop(outlier_index, axis=0, inplace = True)"
   ]
  },
  {
   "cell_type": "code",
   "execution_count": 30,
   "id": "5cdde123",
   "metadata": {},
   "outputs": [
    {
     "name": "stdout",
     "output_type": "stream",
     "text": [
      "8697\n",
      "(189926, 7)\n"
     ]
    },
    {
     "ename": "KeyError",
     "evalue": "'[     9     15     40 ... 210418 210441 210449] not found in axis'",
     "output_type": "error",
     "traceback": [
      "\u001b[1;31m---------------------------------------------------------------------------\u001b[0m",
      "\u001b[1;31mKeyError\u001b[0m                                  Traceback (most recent call last)",
      "\u001b[1;32m~\\AppData\\Local\\Temp/ipykernel_28188/2760381770.py\u001b[0m in \u001b[0;36m<module>\u001b[1;34m\u001b[0m\n\u001b[0;32m      1\u001b[0m \u001b[0moutlier_index\u001b[0m \u001b[1;33m=\u001b[0m \u001b[0mget_outlier\u001b[0m\u001b[1;33m(\u001b[0m\u001b[0mdf\u001b[0m\u001b[1;33m,\u001b[0m \u001b[1;34m\"next_arrive_time\"\u001b[0m\u001b[1;33m)\u001b[0m\u001b[1;33m\u001b[0m\u001b[1;33m\u001b[0m\u001b[0m\n\u001b[1;32m----> 2\u001b[1;33m \u001b[0mdf\u001b[0m \u001b[1;33m=\u001b[0m \u001b[0mdf\u001b[0m\u001b[1;33m.\u001b[0m\u001b[0mdrop\u001b[0m\u001b[1;33m(\u001b[0m\u001b[0moutlier_index\u001b[0m\u001b[1;33m,\u001b[0m \u001b[0maxis\u001b[0m\u001b[1;33m=\u001b[0m\u001b[1;36m0\u001b[0m\u001b[1;33m,\u001b[0m \u001b[0minplace\u001b[0m \u001b[1;33m=\u001b[0m \u001b[1;32mTrue\u001b[0m\u001b[1;33m)\u001b[0m\u001b[1;33m\u001b[0m\u001b[1;33m\u001b[0m\u001b[0m\n\u001b[0m",
      "\u001b[1;32m~\\anaconda3\\lib\\site-packages\\pandas\\util\\_decorators.py\u001b[0m in \u001b[0;36mwrapper\u001b[1;34m(*args, **kwargs)\u001b[0m\n\u001b[0;32m    309\u001b[0m                     \u001b[0mstacklevel\u001b[0m\u001b[1;33m=\u001b[0m\u001b[0mstacklevel\u001b[0m\u001b[1;33m,\u001b[0m\u001b[1;33m\u001b[0m\u001b[1;33m\u001b[0m\u001b[0m\n\u001b[0;32m    310\u001b[0m                 )\n\u001b[1;32m--> 311\u001b[1;33m             \u001b[1;32mreturn\u001b[0m \u001b[0mfunc\u001b[0m\u001b[1;33m(\u001b[0m\u001b[1;33m*\u001b[0m\u001b[0margs\u001b[0m\u001b[1;33m,\u001b[0m \u001b[1;33m**\u001b[0m\u001b[0mkwargs\u001b[0m\u001b[1;33m)\u001b[0m\u001b[1;33m\u001b[0m\u001b[1;33m\u001b[0m\u001b[0m\n\u001b[0m\u001b[0;32m    312\u001b[0m \u001b[1;33m\u001b[0m\u001b[0m\n\u001b[0;32m    313\u001b[0m         \u001b[1;32mreturn\u001b[0m \u001b[0mwrapper\u001b[0m\u001b[1;33m\u001b[0m\u001b[1;33m\u001b[0m\u001b[0m\n",
      "\u001b[1;32m~\\anaconda3\\lib\\site-packages\\pandas\\core\\frame.py\u001b[0m in \u001b[0;36mdrop\u001b[1;34m(self, labels, axis, index, columns, level, inplace, errors)\u001b[0m\n\u001b[0;32m   4904\u001b[0m                 \u001b[0mweight\u001b[0m  \u001b[1;36m1.0\u001b[0m     \u001b[1;36m0.8\u001b[0m\u001b[1;33m\u001b[0m\u001b[1;33m\u001b[0m\u001b[0m\n\u001b[0;32m   4905\u001b[0m         \"\"\"\n\u001b[1;32m-> 4906\u001b[1;33m         return super().drop(\n\u001b[0m\u001b[0;32m   4907\u001b[0m             \u001b[0mlabels\u001b[0m\u001b[1;33m=\u001b[0m\u001b[0mlabels\u001b[0m\u001b[1;33m,\u001b[0m\u001b[1;33m\u001b[0m\u001b[1;33m\u001b[0m\u001b[0m\n\u001b[0;32m   4908\u001b[0m             \u001b[0maxis\u001b[0m\u001b[1;33m=\u001b[0m\u001b[0maxis\u001b[0m\u001b[1;33m,\u001b[0m\u001b[1;33m\u001b[0m\u001b[1;33m\u001b[0m\u001b[0m\n",
      "\u001b[1;32m~\\anaconda3\\lib\\site-packages\\pandas\\core\\generic.py\u001b[0m in \u001b[0;36mdrop\u001b[1;34m(self, labels, axis, index, columns, level, inplace, errors)\u001b[0m\n\u001b[0;32m   4148\u001b[0m         \u001b[1;32mfor\u001b[0m \u001b[0maxis\u001b[0m\u001b[1;33m,\u001b[0m \u001b[0mlabels\u001b[0m \u001b[1;32min\u001b[0m \u001b[0maxes\u001b[0m\u001b[1;33m.\u001b[0m\u001b[0mitems\u001b[0m\u001b[1;33m(\u001b[0m\u001b[1;33m)\u001b[0m\u001b[1;33m:\u001b[0m\u001b[1;33m\u001b[0m\u001b[1;33m\u001b[0m\u001b[0m\n\u001b[0;32m   4149\u001b[0m             \u001b[1;32mif\u001b[0m \u001b[0mlabels\u001b[0m \u001b[1;32mis\u001b[0m \u001b[1;32mnot\u001b[0m \u001b[1;32mNone\u001b[0m\u001b[1;33m:\u001b[0m\u001b[1;33m\u001b[0m\u001b[1;33m\u001b[0m\u001b[0m\n\u001b[1;32m-> 4150\u001b[1;33m                 \u001b[0mobj\u001b[0m \u001b[1;33m=\u001b[0m \u001b[0mobj\u001b[0m\u001b[1;33m.\u001b[0m\u001b[0m_drop_axis\u001b[0m\u001b[1;33m(\u001b[0m\u001b[0mlabels\u001b[0m\u001b[1;33m,\u001b[0m \u001b[0maxis\u001b[0m\u001b[1;33m,\u001b[0m \u001b[0mlevel\u001b[0m\u001b[1;33m=\u001b[0m\u001b[0mlevel\u001b[0m\u001b[1;33m,\u001b[0m \u001b[0merrors\u001b[0m\u001b[1;33m=\u001b[0m\u001b[0merrors\u001b[0m\u001b[1;33m)\u001b[0m\u001b[1;33m\u001b[0m\u001b[1;33m\u001b[0m\u001b[0m\n\u001b[0m\u001b[0;32m   4151\u001b[0m \u001b[1;33m\u001b[0m\u001b[0m\n\u001b[0;32m   4152\u001b[0m         \u001b[1;32mif\u001b[0m \u001b[0minplace\u001b[0m\u001b[1;33m:\u001b[0m\u001b[1;33m\u001b[0m\u001b[1;33m\u001b[0m\u001b[0m\n",
      "\u001b[1;32m~\\anaconda3\\lib\\site-packages\\pandas\\core\\generic.py\u001b[0m in \u001b[0;36m_drop_axis\u001b[1;34m(self, labels, axis, level, errors)\u001b[0m\n\u001b[0;32m   4183\u001b[0m                 \u001b[0mnew_axis\u001b[0m \u001b[1;33m=\u001b[0m \u001b[0maxis\u001b[0m\u001b[1;33m.\u001b[0m\u001b[0mdrop\u001b[0m\u001b[1;33m(\u001b[0m\u001b[0mlabels\u001b[0m\u001b[1;33m,\u001b[0m \u001b[0mlevel\u001b[0m\u001b[1;33m=\u001b[0m\u001b[0mlevel\u001b[0m\u001b[1;33m,\u001b[0m \u001b[0merrors\u001b[0m\u001b[1;33m=\u001b[0m\u001b[0merrors\u001b[0m\u001b[1;33m)\u001b[0m\u001b[1;33m\u001b[0m\u001b[1;33m\u001b[0m\u001b[0m\n\u001b[0;32m   4184\u001b[0m             \u001b[1;32melse\u001b[0m\u001b[1;33m:\u001b[0m\u001b[1;33m\u001b[0m\u001b[1;33m\u001b[0m\u001b[0m\n\u001b[1;32m-> 4185\u001b[1;33m                 \u001b[0mnew_axis\u001b[0m \u001b[1;33m=\u001b[0m \u001b[0maxis\u001b[0m\u001b[1;33m.\u001b[0m\u001b[0mdrop\u001b[0m\u001b[1;33m(\u001b[0m\u001b[0mlabels\u001b[0m\u001b[1;33m,\u001b[0m \u001b[0merrors\u001b[0m\u001b[1;33m=\u001b[0m\u001b[0merrors\u001b[0m\u001b[1;33m)\u001b[0m\u001b[1;33m\u001b[0m\u001b[1;33m\u001b[0m\u001b[0m\n\u001b[0m\u001b[0;32m   4186\u001b[0m             \u001b[0mresult\u001b[0m \u001b[1;33m=\u001b[0m \u001b[0mself\u001b[0m\u001b[1;33m.\u001b[0m\u001b[0mreindex\u001b[0m\u001b[1;33m(\u001b[0m\u001b[1;33m**\u001b[0m\u001b[1;33m{\u001b[0m\u001b[0maxis_name\u001b[0m\u001b[1;33m:\u001b[0m \u001b[0mnew_axis\u001b[0m\u001b[1;33m}\u001b[0m\u001b[1;33m)\u001b[0m\u001b[1;33m\u001b[0m\u001b[1;33m\u001b[0m\u001b[0m\n\u001b[0;32m   4187\u001b[0m \u001b[1;33m\u001b[0m\u001b[0m\n",
      "\u001b[1;32m~\\anaconda3\\lib\\site-packages\\pandas\\core\\indexes\\base.py\u001b[0m in \u001b[0;36mdrop\u001b[1;34m(self, labels, errors)\u001b[0m\n\u001b[0;32m   6015\u001b[0m         \u001b[1;32mif\u001b[0m \u001b[0mmask\u001b[0m\u001b[1;33m.\u001b[0m\u001b[0many\u001b[0m\u001b[1;33m(\u001b[0m\u001b[1;33m)\u001b[0m\u001b[1;33m:\u001b[0m\u001b[1;33m\u001b[0m\u001b[1;33m\u001b[0m\u001b[0m\n\u001b[0;32m   6016\u001b[0m             \u001b[1;32mif\u001b[0m \u001b[0merrors\u001b[0m \u001b[1;33m!=\u001b[0m \u001b[1;34m\"ignore\"\u001b[0m\u001b[1;33m:\u001b[0m\u001b[1;33m\u001b[0m\u001b[1;33m\u001b[0m\u001b[0m\n\u001b[1;32m-> 6017\u001b[1;33m                 \u001b[1;32mraise\u001b[0m \u001b[0mKeyError\u001b[0m\u001b[1;33m(\u001b[0m\u001b[1;34mf\"{labels[mask]} not found in axis\"\u001b[0m\u001b[1;33m)\u001b[0m\u001b[1;33m\u001b[0m\u001b[1;33m\u001b[0m\u001b[0m\n\u001b[0m\u001b[0;32m   6018\u001b[0m             \u001b[0mindexer\u001b[0m \u001b[1;33m=\u001b[0m \u001b[0mindexer\u001b[0m\u001b[1;33m[\u001b[0m\u001b[1;33m~\u001b[0m\u001b[0mmask\u001b[0m\u001b[1;33m]\u001b[0m\u001b[1;33m\u001b[0m\u001b[1;33m\u001b[0m\u001b[0m\n\u001b[0;32m   6019\u001b[0m         \u001b[1;32mreturn\u001b[0m \u001b[0mself\u001b[0m\u001b[1;33m.\u001b[0m\u001b[0mdelete\u001b[0m\u001b[1;33m(\u001b[0m\u001b[0mindexer\u001b[0m\u001b[1;33m)\u001b[0m\u001b[1;33m\u001b[0m\u001b[1;33m\u001b[0m\u001b[0m\n",
      "\u001b[1;31mKeyError\u001b[0m: '[     9     15     40 ... 210418 210441 210449] not found in axis'"
     ]
    }
   ],
   "source": [
    "outlier_index = get_outlier(df, \"next_arrive_time\")\n",
    "df = df.drop(outlier_index, axis=0, inplace = True)"
   ]
  },
  {
   "cell_type": "code",
   "execution_count": null,
   "id": "de1018fe",
   "metadata": {},
   "outputs": [],
   "source": [
    "# boxplot을 사용한 이상치 확인\n",
    "\n",
    "plt.figure(figsize=(15,5), constrained_layout = True )\n",
    "\n",
    "for i in range(0, len(df.columns)):\n",
    "    plt.subplot(2, 4, i+1) # 그래프 배열 4행 8열\n",
    "    sns.boxplot(df.iloc[:, i])"
   ]
  },
  {
   "cell_type": "code",
   "execution_count": 32,
   "id": "646bf468",
   "metadata": {},
   "outputs": [],
   "source": [
    "df_scaled = df\n",
    "\n",
    "#rs = RobustScaler()\n",
    "\n",
    "#df_scaled = pd.DataFrame(rs.fit_transform(df), columns=df.columns, index=df.index)"
   ]
  },
  {
   "cell_type": "code",
   "execution_count": null,
   "id": "c09bae33",
   "metadata": {
    "scrolled": true
   },
   "outputs": [],
   "source": [
    "# boxplot을 사용한 이상치 확인\n",
    "\n",
    "plt.figure(figsize=(15,5), constrained_layout = True )\n",
    "\n",
    "for i in range(0, len(df_scaled.columns)):\n",
    "    plt.subplot(2, 4, i+1) # 그래프 배열 4행 8열\n",
    "    sns.boxplot(df_scaled.iloc[:, i])"
   ]
  },
  {
   "cell_type": "code",
   "execution_count": null,
   "id": "b327492a",
   "metadata": {},
   "outputs": [],
   "source": [
    "from scipy.stats import norm, skew\n",
    "\n",
    "numeric_col = [col for col in df_scaled if df_scaled[col].dtype != \"object\" ]\n",
    "\n",
    "# 수치형 데이터에서 skewness 체크\n",
    "skewed_feats = df_scaled[numeric_col].apply(lambda x : skew(x.dropna())).sort_values(ascending=False)\n",
    "\n",
    "print(\"\\nSkew in numerical features: \\n\")\n",
    "skewness = pd.DataFrame({'Skew' :skewed_feats})\n",
    "skewness.head(10)"
   ]
  },
  {
   "cell_type": "code",
   "execution_count": null,
   "id": "040c58d9",
   "metadata": {},
   "outputs": [],
   "source": [
    "df_scew = df_scaled"
   ]
  },
  {
   "cell_type": "code",
   "execution_count": null,
   "id": "71632b00",
   "metadata": {},
   "outputs": [],
   "source": [
    "skewness = skewness[abs(skewness) > 0.75]\n",
    "print(\"There are {} skewed numerical features to Box Cox transform\".format(skewness.shape[0]))\n",
    "\n",
    "from scipy.special import boxcox1p\n",
    "\n",
    "skewed_features = skewness.index\n",
    "lam = 0.15\n",
    "for feat in skewed_features:\n",
    "    df_scew[feat] = boxcox1p(df_scaled[feat], lam)"
   ]
  },
  {
   "cell_type": "code",
   "execution_count": null,
   "id": "7adca0ef",
   "metadata": {},
   "outputs": [],
   "source": [
    "# boxplot을 사용한 이상치 확인\n",
    "\n",
    "plt.figure(figsize=(15,5), constrained_layout = True )\n",
    "\n",
    "for i in range(0, len(df_scew.columns)):\n",
    "    plt.subplot(2, 4, i+1) # 그래프 배열 4행 8열\n",
    "    sns.boxplot(df_scew.iloc[:, i])"
   ]
  },
  {
   "cell_type": "code",
   "execution_count": null,
   "id": "de039b8c",
   "metadata": {},
   "outputs": [],
   "source": []
  },
  {
   "cell_type": "code",
   "execution_count": 33,
   "id": "6e61d0c5",
   "metadata": {},
   "outputs": [
    {
     "data": {
      "text/plain": [
       "date                0\n",
       "route_id            0\n",
       "now_station         0\n",
       "now_arrive_time     0\n",
       "distance            0\n",
       "next_station        0\n",
       "next_arrive_time    0\n",
       "dtype: int64"
      ]
     },
     "execution_count": 33,
     "metadata": {},
     "output_type": "execute_result"
    }
   ],
   "source": [
    "df_scaled.isnull().sum()"
   ]
  },
  {
   "cell_type": "code",
   "execution_count": 34,
   "id": "6668056d",
   "metadata": {},
   "outputs": [],
   "source": [
    "df_scaled = df_scaled.dropna(axis=0)"
   ]
  },
  {
   "cell_type": "code",
   "execution_count": 35,
   "id": "3f15ff3e",
   "metadata": {},
   "outputs": [
    {
     "data": {
      "text/plain": [
       "date                0\n",
       "route_id            0\n",
       "now_station         0\n",
       "now_arrive_time     0\n",
       "distance            0\n",
       "next_station        0\n",
       "next_arrive_time    0\n",
       "dtype: int64"
      ]
     },
     "execution_count": 35,
     "metadata": {},
     "output_type": "execute_result"
    }
   ],
   "source": [
    "df_scaled.isnull().sum()"
   ]
  },
  {
   "cell_type": "code",
   "execution_count": null,
   "id": "607bde3e",
   "metadata": {},
   "outputs": [],
   "source": []
  },
  {
   "cell_type": "markdown",
   "id": "eedd6e14",
   "metadata": {},
   "source": [
    "### **3-4. 상관관계**"
   ]
  },
  {
   "cell_type": "code",
   "execution_count": 36,
   "id": "7d604e17",
   "metadata": {},
   "outputs": [
    {
     "data": {
      "text/plain": [
       "<AxesSubplot:>"
      ]
     },
     "execution_count": 36,
     "metadata": {},
     "output_type": "execute_result"
    },
    {
     "data": {
      "image/png": "[encoded data removed]",
      "text/plain": [
       "<Figure size 1200x800 with 2 Axes>"
      ]
     },
     "metadata": {},
     "output_type": "display_data"
    }
   ],
   "source": [
    "plt.figure(figsize=(12,8))\n",
    "\n",
    "#plot heat map\n",
    "sns.heatmap(df_scaled.corr(), annot=True)"
   ]
  },
  {
   "cell_type": "markdown",
   "id": "77a269ee",
   "metadata": {},
   "source": [
    "### **3-5. 데이터 분리**"
   ]
  },
  {
   "cell_type": "code",
   "execution_count": 37,
   "id": "c2a229c2",
   "metadata": {},
   "outputs": [
    {
     "data": {
      "text/html": [
       "<div>\n",
       "<style scoped>\n",
       "    .dataframe tbody tr th:only-of-type {\n",
       "        vertical-align: middle;\n",
       "    }\n",
       "\n",
       "    .dataframe tbody tr th {\n",
       "        vertical-align: top;\n",
       "    }\n",
       "\n",
       "    .dataframe thead th {\n",
       "        text-align: right;\n",
       "    }\n",
       "</style>\n",
       "<table border=\"1\" class=\"dataframe\">\n",
       "  <thead>\n",
       "    <tr style=\"text-align: right;\">\n",
       "      <th></th>\n",
       "      <th>date</th>\n",
       "      <th>route_id</th>\n",
       "      <th>now_station</th>\n",
       "      <th>now_arrive_time</th>\n",
       "      <th>distance</th>\n",
       "      <th>next_station</th>\n",
       "      <th>next_arrive_time</th>\n",
       "    </tr>\n",
       "  </thead>\n",
       "  <tbody>\n",
       "    <tr>\n",
       "      <th>0</th>\n",
       "      <td>0</td>\n",
       "      <td>0</td>\n",
       "      <td>238</td>\n",
       "      <td>0</td>\n",
       "      <td>266.0</td>\n",
       "      <td>227</td>\n",
       "      <td>24</td>\n",
       "    </tr>\n",
       "    <tr>\n",
       "      <th>1</th>\n",
       "      <td>0</td>\n",
       "      <td>0</td>\n",
       "      <td>226</td>\n",
       "      <td>0</td>\n",
       "      <td>333.0</td>\n",
       "      <td>228</td>\n",
       "      <td>36</td>\n",
       "    </tr>\n",
       "    <tr>\n",
       "      <th>2</th>\n",
       "      <td>0</td>\n",
       "      <td>0</td>\n",
       "      <td>227</td>\n",
       "      <td>0</td>\n",
       "      <td>415.0</td>\n",
       "      <td>235</td>\n",
       "      <td>40</td>\n",
       "    </tr>\n",
       "    <tr>\n",
       "      <th>3</th>\n",
       "      <td>0</td>\n",
       "      <td>0</td>\n",
       "      <td>41</td>\n",
       "      <td>0</td>\n",
       "      <td>578.0</td>\n",
       "      <td>249</td>\n",
       "      <td>42</td>\n",
       "    </tr>\n",
       "    <tr>\n",
       "      <th>4</th>\n",
       "      <td>0</td>\n",
       "      <td>0</td>\n",
       "      <td>63</td>\n",
       "      <td>0</td>\n",
       "      <td>374.0</td>\n",
       "      <td>221</td>\n",
       "      <td>64</td>\n",
       "    </tr>\n",
       "    <tr>\n",
       "      <th>...</th>\n",
       "      <td>...</td>\n",
       "      <td>...</td>\n",
       "      <td>...</td>\n",
       "      <td>...</td>\n",
       "      <td>...</td>\n",
       "      <td>...</td>\n",
       "      <td>...</td>\n",
       "    </tr>\n",
       "    <tr>\n",
       "      <th>210452</th>\n",
       "      <td>0</td>\n",
       "      <td>20</td>\n",
       "      <td>95</td>\n",
       "      <td>3</td>\n",
       "      <td>528.0</td>\n",
       "      <td>108</td>\n",
       "      <td>96</td>\n",
       "    </tr>\n",
       "    <tr>\n",
       "      <th>210453</th>\n",
       "      <td>0</td>\n",
       "      <td>20</td>\n",
       "      <td>65</td>\n",
       "      <td>3</td>\n",
       "      <td>280.0</td>\n",
       "      <td>81</td>\n",
       "      <td>50</td>\n",
       "    </tr>\n",
       "    <tr>\n",
       "      <th>210454</th>\n",
       "      <td>0</td>\n",
       "      <td>20</td>\n",
       "      <td>121</td>\n",
       "      <td>3</td>\n",
       "      <td>114.0</td>\n",
       "      <td>178</td>\n",
       "      <td>16</td>\n",
       "    </tr>\n",
       "    <tr>\n",
       "      <th>210455</th>\n",
       "      <td>0</td>\n",
       "      <td>20</td>\n",
       "      <td>177</td>\n",
       "      <td>3</td>\n",
       "      <td>223.0</td>\n",
       "      <td>298</td>\n",
       "      <td>38</td>\n",
       "    </tr>\n",
       "    <tr>\n",
       "      <th>210456</th>\n",
       "      <td>0</td>\n",
       "      <td>20</td>\n",
       "      <td>58</td>\n",
       "      <td>3</td>\n",
       "      <td>189.0</td>\n",
       "      <td>120</td>\n",
       "      <td>24</td>\n",
       "    </tr>\n",
       "  </tbody>\n",
       "</table>\n",
       "<p>189926 rows × 7 columns</p>\n",
       "</div>"
      ],
      "text/plain": [
       "        date  route_id  now_station  now_arrive_time  distance  next_station  \\\n",
       "0          0         0          238                0     266.0           227   \n",
       "1          0         0          226                0     333.0           228   \n",
       "2          0         0          227                0     415.0           235   \n",
       "3          0         0           41                0     578.0           249   \n",
       "4          0         0           63                0     374.0           221   \n",
       "...      ...       ...          ...              ...       ...           ...   \n",
       "210452     0        20           95                3     528.0           108   \n",
       "210453     0        20           65                3     280.0            81   \n",
       "210454     0        20          121                3     114.0           178   \n",
       "210455     0        20          177                3     223.0           298   \n",
       "210456     0        20           58                3     189.0           120   \n",
       "\n",
       "        next_arrive_time  \n",
       "0                     24  \n",
       "1                     36  \n",
       "2                     40  \n",
       "3                     42  \n",
       "4                     64  \n",
       "...                  ...  \n",
       "210452                96  \n",
       "210453                50  \n",
       "210454                16  \n",
       "210455                38  \n",
       "210456                24  \n",
       "\n",
       "[189926 rows x 7 columns]"
      ]
     },
     "execution_count": 37,
     "metadata": {},
     "output_type": "execute_result"
    }
   ],
   "source": [
    "df_scaled"
   ]
  },
  {
   "cell_type": "code",
   "execution_count": 38,
   "id": "d9a5eb87",
   "metadata": {},
   "outputs": [],
   "source": [
    "# 목표변수와 나머지 변수들을 따로 저장\n",
    "x = df_scaled.drop([\"next_arrive_time\"], axis = 1)\n",
    "y = df_scaled.iloc[:, -1]"
   ]
  },
  {
   "cell_type": "code",
   "execution_count": 39,
   "id": "53584946",
   "metadata": {
    "scrolled": false
   },
   "outputs": [
    {
     "data": {
      "text/plain": [
       "date               0\n",
       "route_id           0\n",
       "now_station        0\n",
       "now_arrive_time    0\n",
       "distance           0\n",
       "next_station       0\n",
       "dtype: int64"
      ]
     },
     "execution_count": 39,
     "metadata": {},
     "output_type": "execute_result"
    }
   ],
   "source": [
    "x.isnull().sum()"
   ]
  },
  {
   "cell_type": "code",
   "execution_count": 40,
   "id": "735387c6",
   "metadata": {},
   "outputs": [],
   "source": [
    "x_train, x_test, y_train, y_test  = train_test_split( x, y,\n",
    "                                                      test_size = 0.3,\n",
    "                                                      random_state = 0 )"
   ]
  },
  {
   "cell_type": "markdown",
   "id": "ddfdad33",
   "metadata": {},
   "source": [
    "## **4. 모델 학습하기**"
   ]
  },
  {
   "cell_type": "markdown",
   "id": "1c5c1381",
   "metadata": {},
   "source": [
    "### **4-1. 회귀 - 사이킷런**"
   ]
  },
  {
   "cell_type": "code",
   "execution_count": 41,
   "id": "47a51ca0",
   "metadata": {},
   "outputs": [
    {
     "data": {
      "text/html": [
       "<div>\n",
       "<style scoped>\n",
       "    .dataframe tbody tr th:only-of-type {\n",
       "        vertical-align: middle;\n",
       "    }\n",
       "\n",
       "    .dataframe tbody tr th {\n",
       "        vertical-align: top;\n",
       "    }\n",
       "\n",
       "    .dataframe thead th {\n",
       "        text-align: right;\n",
       "    }\n",
       "</style>\n",
       "<table border=\"1\" class=\"dataframe\">\n",
       "  <thead>\n",
       "    <tr style=\"text-align: right;\">\n",
       "      <th></th>\n",
       "      <th>date</th>\n",
       "      <th>route_id</th>\n",
       "      <th>now_station</th>\n",
       "      <th>now_arrive_time</th>\n",
       "      <th>distance</th>\n",
       "      <th>next_station</th>\n",
       "    </tr>\n",
       "  </thead>\n",
       "  <tbody>\n",
       "    <tr>\n",
       "      <th>199756</th>\n",
       "      <td>0</td>\n",
       "      <td>5</td>\n",
       "      <td>198</td>\n",
       "      <td>1</td>\n",
       "      <td>257.0</td>\n",
       "      <td>254</td>\n",
       "    </tr>\n",
       "    <tr>\n",
       "      <th>66254</th>\n",
       "      <td>2</td>\n",
       "      <td>5</td>\n",
       "      <td>21</td>\n",
       "      <td>1</td>\n",
       "      <td>253.0</td>\n",
       "      <td>107</td>\n",
       "    </tr>\n",
       "    <tr>\n",
       "      <th>166094</th>\n",
       "      <td>1</td>\n",
       "      <td>19</td>\n",
       "      <td>248</td>\n",
       "      <td>4</td>\n",
       "      <td>364.0</td>\n",
       "      <td>100</td>\n",
       "    </tr>\n",
       "    <tr>\n",
       "      <th>29419</th>\n",
       "      <td>0</td>\n",
       "      <td>19</td>\n",
       "      <td>41</td>\n",
       "      <td>0</td>\n",
       "      <td>355.0</td>\n",
       "      <td>177</td>\n",
       "    </tr>\n",
       "    <tr>\n",
       "      <th>163298</th>\n",
       "      <td>1</td>\n",
       "      <td>12</td>\n",
       "      <td>193</td>\n",
       "      <td>1</td>\n",
       "      <td>683.0</td>\n",
       "      <td>138</td>\n",
       "    </tr>\n",
       "    <tr>\n",
       "      <th>...</th>\n",
       "      <td>...</td>\n",
       "      <td>...</td>\n",
       "      <td>...</td>\n",
       "      <td>...</td>\n",
       "      <td>...</td>\n",
       "      <td>...</td>\n",
       "    </tr>\n",
       "    <tr>\n",
       "      <th>168829</th>\n",
       "      <td>2</td>\n",
       "      <td>0</td>\n",
       "      <td>184</td>\n",
       "      <td>3</td>\n",
       "      <td>455.0</td>\n",
       "      <td>240</td>\n",
       "    </tr>\n",
       "    <tr>\n",
       "      <th>196050</th>\n",
       "      <td>0</td>\n",
       "      <td>0</td>\n",
       "      <td>43</td>\n",
       "      <td>0</td>\n",
       "      <td>193.0</td>\n",
       "      <td>287</td>\n",
       "    </tr>\n",
       "    <tr>\n",
       "      <th>130726</th>\n",
       "      <td>0</td>\n",
       "      <td>9</td>\n",
       "      <td>217</td>\n",
       "      <td>2</td>\n",
       "      <td>346.0</td>\n",
       "      <td>115</td>\n",
       "    </tr>\n",
       "    <tr>\n",
       "      <th>192405</th>\n",
       "      <td>2</td>\n",
       "      <td>15</td>\n",
       "      <td>145</td>\n",
       "      <td>3</td>\n",
       "      <td>397.0</td>\n",
       "      <td>148</td>\n",
       "    </tr>\n",
       "    <tr>\n",
       "      <th>48309</th>\n",
       "      <td>1</td>\n",
       "      <td>0</td>\n",
       "      <td>228</td>\n",
       "      <td>2</td>\n",
       "      <td>267.0</td>\n",
       "      <td>221</td>\n",
       "    </tr>\n",
       "  </tbody>\n",
       "</table>\n",
       "<p>132948 rows × 6 columns</p>\n",
       "</div>"
      ],
      "text/plain": [
       "        date  route_id  now_station  now_arrive_time  distance  next_station\n",
       "199756     0         5          198                1     257.0           254\n",
       "66254      2         5           21                1     253.0           107\n",
       "166094     1        19          248                4     364.0           100\n",
       "29419      0        19           41                0     355.0           177\n",
       "163298     1        12          193                1     683.0           138\n",
       "...      ...       ...          ...              ...       ...           ...\n",
       "168829     2         0          184                3     455.0           240\n",
       "196050     0         0           43                0     193.0           287\n",
       "130726     0         9          217                2     346.0           115\n",
       "192405     2        15          145                3     397.0           148\n",
       "48309      1         0          228                2     267.0           221\n",
       "\n",
       "[132948 rows x 6 columns]"
      ]
     },
     "execution_count": 41,
     "metadata": {},
     "output_type": "execute_result"
    }
   ],
   "source": [
    "x_train"
   ]
  },
  {
   "cell_type": "code",
   "execution_count": 42,
   "id": "6ec8ead8",
   "metadata": {},
   "outputs": [],
   "source": [
    "from sklearn.metrics import mean_squared_error, mean_absolute_error\n",
    "\n",
    "# log 값 변환 시 언더플로우 영향으로 log() 가 아닌 log1p() 를 이용하여 RMSLE 계산\n",
    "def rmsle(y, pred):\n",
    "    log_y = np.log1p(y)\n",
    "    log_pred = np.log1p(pred)\n",
    "    squared_error = (log_y - log_pred) ** 2\n",
    "    rmsle = np.sqrt(np.mean(squared_error))\n",
    "    return rmsle\n",
    "\n",
    "# 사이킷런의 mean_square_error() 를 이용하여 RMSE 계산\n",
    "def rmse(y,pred):\n",
    "    return np.sqrt(mean_squared_error(y,pred))\n",
    "\n",
    "# 책에서는 mean_absolute_error()를 MSE로 잘못 기재함. \n",
    "# MAE, RMSE, RMSLE 를 모두 계산 \n",
    "def evaluate_regr(y,pred):\n",
    "    rmsle_val = rmsle(y,pred)\n",
    "    rmse_val = rmse(y,pred)\n",
    "    # MAE 는 scikit learn의 mean_absolute_error() 로 계산\n",
    "    mae_val = mean_absolute_error(y,pred)\n",
    "    print('RMSLE: {0:.3f}, RMSE: {1:.3F}, MAE: {2:.3F}'.format(rmsle_val, rmse_val, mae_val))\n",
    "\n",
    "def get_model_predict(model, x_train, x_test, y_train, y_test):\n",
    "    \n",
    "    # 시작 시간 측정\n",
    "    start = time.time() \n",
    "        \n",
    "    model.fit(x_train, y_train)\n",
    "    pred = model.predict(x_test)\n",
    "\n",
    "    print('###',model.__class__.__name__,'###')\n",
    "    evaluate_regr(y_test, pred)\n",
    "    \n",
    "    # 끝 시간 측정\n",
    "    end = time.time() \n",
    "\n",
    "    # 끝-시작 시간 print\n",
    "    print('시간 :',end-start,'sec') \n",
    "# end of function get_model_predict    "
   ]
  },
  {
   "cell_type": "code",
   "execution_count": 43,
   "id": "90146f90",
   "metadata": {
    "colab": {
     "base_uri": "https://localhost:8080/",
     "height": 1000
    },
    "id": "uPDu2SLTki8-",
    "outputId": "f6421902-81b5-426d-84a0-e0787351676c"
   },
   "outputs": [
    {
     "name": "stdout",
     "output_type": "stream",
     "text": [
      "### Lasso ###\n",
      "RMSLE: 0.483, RMSE: 34.352, MAE: 27.403\n",
      "시간 : 0.020004749298095703 sec\n",
      "### ElasticNet ###\n",
      "RMSLE: 0.483, RMSE: 34.359, MAE: 27.412\n",
      "시간 : 0.022005319595336914 sec\n",
      "### GradientBoostingRegressor ###\n",
      "RMSLE: 0.384, RMSE: 27.838, MAE: 21.367\n",
      "시간 : 6.62449312210083 sec\n",
      "### XGBRegressor ###\n",
      "RMSLE: 0.306, RMSE: 22.747, MAE: 16.062\n",
      "시간 : 13.011930704116821 sec\n",
      "### LGBMRegressor ###\n",
      "RMSLE: 0.367, RMSE: 26.504, MAE: 20.103\n",
      "시간 : 1.5473487377166748 sec\n"
     ]
    }
   ],
   "source": [
    "# 모델 한꺼번에 돌리기\n",
    "\n",
    "lasso = Lasso(alpha=0.001)\n",
    "enet = ElasticNet()\n",
    "krr = KernelRidge()\n",
    "gboost = GradientBoostingRegressor()\n",
    "xgb = XGBRegressor(random_state=110, verbosity=0, nthread=23, n_estimators=980, max_depth=4)\n",
    "lgb = LGBMRegressor(n_estimators=1000, learning_rate=0.05, num_leaves=4, \n",
    "                         subsample=0.6, colsample_bytree=0.4, reg_lambda=10, n_jobs=-1)\n",
    "\n",
    "\n",
    "models = [lasso, enet, gboost, xgb, lgb]\n",
    "\n",
    "for i, model in enumerate(models):\n",
    "    get_model_predict(model, x_train, x_test, y_train, y_test)"
   ]
  },
  {
   "cell_type": "code",
   "execution_count": 44,
   "id": "ebdfd62e",
   "metadata": {},
   "outputs": [
    {
     "data": {
      "image/png": "[encoded data removed]",
      "text/plain": [
       "<Figure size 640x480 with 1 Axes>"
      ]
     },
     "metadata": {},
     "output_type": "display_data"
    }
   ],
   "source": [
    "## 변수별 중요도 확인 ##\n",
    "plot_importance(xgb)\n",
    "plt.show()"
   ]
  },
  {
   "cell_type": "markdown",
   "id": "63d7e8cc",
   "metadata": {},
   "source": [
    "### **4-2. 회귀 - statsmodel**"
   ]
  },
  {
   "cell_type": "code",
   "execution_count": 45,
   "id": "1260c81d",
   "metadata": {},
   "outputs": [],
   "source": [
    "# `statsmodels.api.OLS()` 사용 시, fomula 형식의 파라미터 입력 불가. X, Y 를 따로 설정하여 입력\n",
    "# 상수항을 따로 추가시켜주는 작업 필요.\n",
    "\n",
    "# x_train에 상수항 추가\n",
    "x_train_c = add_constant(x_train)\n",
    "\n",
    "# 모델 생성\n",
    "model = OLS(y_train, x_train_c)\n",
    "\n",
    "# 모델 적합\n",
    "fit_model = model.fit()"
   ]
  },
  {
   "cell_type": "code",
   "execution_count": 46,
   "id": "54458937",
   "metadata": {},
   "outputs": [
    {
     "name": "stdout",
     "output_type": "stream",
     "text": [
      "                            OLS Regression Results                            \n",
      "==============================================================================\n",
      "Dep. Variable:       next_arrive_time   R-squared:                       0.130\n",
      "Model:                            OLS   Adj. R-squared:                  0.130\n",
      "Method:                 Least Squares   F-statistic:                     3324.\n",
      "Date:                Sun, 05 Dec 2021   Prob (F-statistic):               0.00\n",
      "Time:                        03:13:15   Log-Likelihood:            -6.5891e+05\n",
      "No. Observations:              132948   AIC:                         1.318e+06\n",
      "Df Residuals:                  132941   BIC:                         1.318e+06\n",
      "Df Model:                           6                                         \n",
      "Covariance Type:            nonrobust                                         \n",
      "===================================================================================\n",
      "                      coef    std err          t      P>|t|      [0.025      0.975]\n",
      "-----------------------------------------------------------------------------------\n",
      "const              51.0191      0.409    124.873      0.000      50.218      51.820\n",
      "date               -0.6264      0.108     -5.790      0.000      -0.838      -0.414\n",
      "route_id           -1.0167      0.014    -73.173      0.000      -1.044      -0.990\n",
      "now_station        -0.0002      0.001     -0.238      0.812      -0.002       0.002\n",
      "now_arrive_time    -0.1284      0.085     -1.508      0.131      -0.295       0.038\n",
      "distance            0.0749      0.001    125.842      0.000       0.074       0.076\n",
      "next_station       -0.0026      0.001     -2.685      0.007      -0.005      -0.001\n",
      "==============================================================================\n",
      "Omnibus:                    15908.389   Durbin-Watson:                   1.999\n",
      "Prob(Omnibus):                  0.000   Jarque-Bera (JB):            22306.885\n",
      "Skew:                           0.994   Prob(JB):                         0.00\n",
      "Kurtosis:                       3.276   Cond. No.                     2.15e+03\n",
      "==============================================================================\n",
      "\n",
      "Notes:\n",
      "[1] Standard Errors assume that the covariance matrix of the errors is correctly specified.\n",
      "[2] The condition number is large, 2.15e+03. This might indicate that there are\n",
      "strong multicollinearity or other numerical problems.\n"
     ]
    }
   ],
   "source": [
    "print( fit_model.summary(alpha = 0.05))"
   ]
  },
  {
   "cell_type": "markdown",
   "id": "032ca6d6",
   "metadata": {},
   "source": [
    "결과해석 : https://ysyblog.tistory.com/119"
   ]
  },
  {
   "cell_type": "code",
   "execution_count": 47,
   "id": "5a7f5652",
   "metadata": {},
   "outputs": [
    {
     "name": "stdout",
     "output_type": "stream",
     "text": [
      "< 훈련 데이터로 예측한 결과 >\n"
     ]
    },
    {
     "data": {
      "text/html": [
       "<div>\n",
       "<style scoped>\n",
       "    .dataframe tbody tr th:only-of-type {\n",
       "        vertical-align: middle;\n",
       "    }\n",
       "\n",
       "    .dataframe tbody tr th {\n",
       "        vertical-align: top;\n",
       "    }\n",
       "\n",
       "    .dataframe thead th {\n",
       "        text-align: right;\n",
       "    }\n",
       "</style>\n",
       "<table border=\"1\" class=\"dataframe\">\n",
       "  <thead>\n",
       "    <tr style=\"text-align: right;\">\n",
       "      <th></th>\n",
       "      <th>y_Test</th>\n",
       "      <th>Predict_Test</th>\n",
       "      <th>resid</th>\n",
       "    </tr>\n",
       "  </thead>\n",
       "  <tbody>\n",
       "    <tr>\n",
       "      <th>199756</th>\n",
       "      <td>90</td>\n",
       "      <td>64.342658</td>\n",
       "      <td>25.657342</td>\n",
       "    </tr>\n",
       "    <tr>\n",
       "      <th>66254</th>\n",
       "      <td>160</td>\n",
       "      <td>63.215647</td>\n",
       "      <td>96.784353</td>\n",
       "    </tr>\n",
       "    <tr>\n",
       "      <th>166094</th>\n",
       "      <td>46</td>\n",
       "      <td>57.500269</td>\n",
       "      <td>-11.500269</td>\n",
       "    </tr>\n",
       "    <tr>\n",
       "      <th>29419</th>\n",
       "      <td>50</td>\n",
       "      <td>57.813270</td>\n",
       "      <td>-7.813270</td>\n",
       "    </tr>\n",
       "    <tr>\n",
       "      <th>163298</th>\n",
       "      <td>86</td>\n",
       "      <td>88.804657</td>\n",
       "      <td>-2.804657</td>\n",
       "    </tr>\n",
       "    <tr>\n",
       "      <th>...</th>\n",
       "      <td>...</td>\n",
       "      <td>...</td>\n",
       "      <td>...</td>\n",
       "    </tr>\n",
       "    <tr>\n",
       "      <th>168829</th>\n",
       "      <td>84</td>\n",
       "      <td>82.783889</td>\n",
       "      <td>1.216111</td>\n",
       "    </tr>\n",
       "    <tr>\n",
       "      <th>196050</th>\n",
       "      <td>34</td>\n",
       "      <td>64.711898</td>\n",
       "      <td>-30.711898</td>\n",
       "    </tr>\n",
       "    <tr>\n",
       "      <th>130726</th>\n",
       "      <td>52</td>\n",
       "      <td>67.170970</td>\n",
       "      <td>-15.170970</td>\n",
       "    </tr>\n",
       "    <tr>\n",
       "      <th>192405</th>\n",
       "      <td>60</td>\n",
       "      <td>63.438955</td>\n",
       "      <td>-3.438955</td>\n",
       "    </tr>\n",
       "    <tr>\n",
       "      <th>48309</th>\n",
       "      <td>68</td>\n",
       "      <td>69.499651</td>\n",
       "      <td>-1.499651</td>\n",
       "    </tr>\n",
       "  </tbody>\n",
       "</table>\n",
       "<p>132948 rows × 3 columns</p>\n",
       "</div>"
      ],
      "text/plain": [
       "        y_Test  Predict_Test      resid\n",
       "199756      90     64.342658  25.657342\n",
       "66254      160     63.215647  96.784353\n",
       "166094      46     57.500269 -11.500269\n",
       "29419       50     57.813270  -7.813270\n",
       "163298      86     88.804657  -2.804657\n",
       "...        ...           ...        ...\n",
       "168829      84     82.783889   1.216111\n",
       "196050      34     64.711898 -30.711898\n",
       "130726      52     67.170970 -15.170970\n",
       "192405      60     63.438955  -3.438955\n",
       "48309       68     69.499651  -1.499651\n",
       "\n",
       "[132948 rows x 3 columns]"
      ]
     },
     "metadata": {},
     "output_type": "display_data"
    },
    {
     "name": "stdout",
     "output_type": "stream",
     "text": [
      "\n",
      "< 테스트 데이터로 예측한 결과 >\n"
     ]
    },
    {
     "data": {
      "text/html": [
       "<div>\n",
       "<style scoped>\n",
       "    .dataframe tbody tr th:only-of-type {\n",
       "        vertical-align: middle;\n",
       "    }\n",
       "\n",
       "    .dataframe tbody tr th {\n",
       "        vertical-align: top;\n",
       "    }\n",
       "\n",
       "    .dataframe thead th {\n",
       "        text-align: right;\n",
       "    }\n",
       "</style>\n",
       "<table border=\"1\" class=\"dataframe\">\n",
       "  <thead>\n",
       "    <tr style=\"text-align: right;\">\n",
       "      <th></th>\n",
       "      <th>y_Test</th>\n",
       "      <th>Predict_Test</th>\n",
       "      <th>resid</th>\n",
       "    </tr>\n",
       "  </thead>\n",
       "  <tbody>\n",
       "    <tr>\n",
       "      <th>131725</th>\n",
       "      <td>56</td>\n",
       "      <td>92.848926</td>\n",
       "      <td>-36.848926</td>\n",
       "    </tr>\n",
       "    <tr>\n",
       "      <th>129326</th>\n",
       "      <td>34</td>\n",
       "      <td>61.646126</td>\n",
       "      <td>-27.646126</td>\n",
       "    </tr>\n",
       "    <tr>\n",
       "      <th>81165</th>\n",
       "      <td>128</td>\n",
       "      <td>74.756721</td>\n",
       "      <td>53.243279</td>\n",
       "    </tr>\n",
       "    <tr>\n",
       "      <th>169640</th>\n",
       "      <td>152</td>\n",
       "      <td>68.373294</td>\n",
       "      <td>83.626706</td>\n",
       "    </tr>\n",
       "    <tr>\n",
       "      <th>155137</th>\n",
       "      <td>154</td>\n",
       "      <td>80.853973</td>\n",
       "      <td>73.146027</td>\n",
       "    </tr>\n",
       "    <tr>\n",
       "      <th>...</th>\n",
       "      <td>...</td>\n",
       "      <td>...</td>\n",
       "      <td>...</td>\n",
       "    </tr>\n",
       "    <tr>\n",
       "      <th>24123</th>\n",
       "      <td>64</td>\n",
       "      <td>103.913337</td>\n",
       "      <td>-39.913337</td>\n",
       "    </tr>\n",
       "    <tr>\n",
       "      <th>174184</th>\n",
       "      <td>46</td>\n",
       "      <td>81.560236</td>\n",
       "      <td>-35.560236</td>\n",
       "    </tr>\n",
       "    <tr>\n",
       "      <th>92343</th>\n",
       "      <td>90</td>\n",
       "      <td>78.670727</td>\n",
       "      <td>11.329273</td>\n",
       "    </tr>\n",
       "    <tr>\n",
       "      <th>13993</th>\n",
       "      <td>44</td>\n",
       "      <td>67.506689</td>\n",
       "      <td>-23.506689</td>\n",
       "    </tr>\n",
       "    <tr>\n",
       "      <th>197128</th>\n",
       "      <td>118</td>\n",
       "      <td>74.302358</td>\n",
       "      <td>43.697642</td>\n",
       "    </tr>\n",
       "  </tbody>\n",
       "</table>\n",
       "<p>56978 rows × 3 columns</p>\n",
       "</div>"
      ],
      "text/plain": [
       "        y_Test  Predict_Test      resid\n",
       "131725      56     92.848926 -36.848926\n",
       "129326      34     61.646126 -27.646126\n",
       "81165      128     74.756721  53.243279\n",
       "169640     152     68.373294  83.626706\n",
       "155137     154     80.853973  73.146027\n",
       "...        ...           ...        ...\n",
       "24123       64    103.913337 -39.913337\n",
       "174184      46     81.560236 -35.560236\n",
       "92343       90     78.670727  11.329273\n",
       "13993       44     67.506689 -23.506689\n",
       "197128     118     74.302358  43.697642\n",
       "\n",
       "[56978 rows x 3 columns]"
      ]
     },
     "metadata": {},
     "output_type": "display_data"
    }
   ],
   "source": [
    "# x_test에 상수항 추가 (x_train 은 모델 생성할 때 이미 추가한 상태)\n",
    "x_test_c = add_constant( x_test )\n",
    "\n",
    "# 예측\n",
    "pred_train = fit_model.fittedvalues  # 또는 fit_model.predict( x_train_c )\n",
    "pred_test = fit_model.predict( x_test_c )\n",
    "\n",
    "# 잔차 계산\n",
    "resid_train = fit_model.resid  # ( y_train - pred_train )도 가능\n",
    "resid_test = y_test - pred_test\n",
    "\n",
    "# 데이터프레임으로 출력\n",
    "result_train = pd.DataFrame( {'y_Test' : y_train,\n",
    "                              'Predict_Test' : pred_train,\n",
    "                              'resid' : resid_train} )\n",
    "\n",
    "result_test = pd.DataFrame( {'y_Test' : y_test,\n",
    "                              'Predict_Test' : pred_test,\n",
    "                              'resid' : resid_test} )\n",
    "\n",
    "print('< 훈련 데이터로 예측한 결과 >')\n",
    "display( result_train )\n",
    "print()\n",
    "print('< 테스트 데이터로 예측한 결과 >')\n",
    "display( result_test )"
   ]
  },
  {
   "cell_type": "code",
   "execution_count": 48,
   "id": "af7c28d7",
   "metadata": {},
   "outputs": [
    {
     "name": "stdout",
     "output_type": "stream",
     "text": [
      "Durbin-Watson 통계량: 1.9993801462092453\n",
      "\n"
     ]
    }
   ],
   "source": [
    "# 더빈-왓슨 통계량\n",
    "print( 'Durbin-Watson 통계량:', durbin_watson( resid_train ) )\n",
    "print()"
   ]
  },
  {
   "cell_type": "code",
   "execution_count": 49,
   "id": "6d0d934b",
   "metadata": {},
   "outputs": [
    {
     "data": {
      "text/plain": [
       "<AxesSubplot:>"
      ]
     },
     "execution_count": 49,
     "metadata": {},
     "output_type": "execute_result"
    },
    {
     "data": {
      "image/png": "[encoded data removed]",
      "text/plain": [
       "<Figure size 640x480 with 1 Axes>"
      ]
     },
     "metadata": {},
     "output_type": "display_data"
    }
   ],
   "source": [
    "## Train Resid 분석\n",
    "resid_train = y_train - pred_train\n",
    "sns.residplot(pred_train, resid_train)"
   ]
  },
  {
   "cell_type": "code",
   "execution_count": 50,
   "id": "275ca25d",
   "metadata": {},
   "outputs": [
    {
     "data": {
      "text/plain": [
       "<AxesSubplot:>"
      ]
     },
     "execution_count": 50,
     "metadata": {},
     "output_type": "execute_result"
    },
    {
     "data": {
      "image/png": "[encoded data removed]",
      "text/plain": [
       "<Figure size 640x480 with 1 Axes>"
      ]
     },
     "metadata": {},
     "output_type": "display_data"
    }
   ],
   "source": [
    "resid_test = y_test - pred_test\n",
    "sns.residplot(pred_test, resid_test)"
   ]
  },
  {
   "cell_type": "code",
   "execution_count": 51,
   "id": "27bdaa77",
   "metadata": {},
   "outputs": [
    {
     "data": {
      "image/png": "[encoded data removed]",
      "text/plain": [
       "<Figure size 640x480 with 1 Axes>"
      ]
     },
     "metadata": {},
     "output_type": "display_data"
    }
   ],
   "source": [
    "sns.distplot( resid_train )\n",
    "plt.show()"
   ]
  },
  {
   "cell_type": "code",
   "execution_count": 52,
   "id": "aaf6c815",
   "metadata": {},
   "outputs": [
    {
     "data": {
      "image/png": "[encoded data removed]",
      "text/plain": [
       "<Figure size 640x480 with 1 Axes>"
      ]
     },
     "metadata": {},
     "output_type": "display_data"
    },
    {
     "name": "stdout",
     "output_type": "stream",
     "text": [
      "\n"
     ]
    }
   ],
   "source": [
    "# Q-Q plot\n",
    "stats.probplot( resid_train, plot = plt )\n",
    "plt.show()\n",
    "print()"
   ]
  },
  {
   "cell_type": "markdown",
   "id": "532a1ade",
   "metadata": {},
   "source": [
    "참고\n",
    "\n",
    "1. https://www.kaggle.com/subinium/subinium-tutorial-house-prices-advanced\n",
    "2. https://colab.research.google.com/drive/13e3fuiAIIDJghpjWCCXmoTzVRjRqqYyt#scrollTo=9MvEYZx7Hn6Z\n",
    "3. https://ysyblog.tistory.com/119"
   ]
  },
  {
   "cell_type": "code",
   "execution_count": null,
   "id": "f64bf36e",
   "metadata": {},
   "outputs": [],
   "source": []
  },
  {
   "cell_type": "code",
   "execution_count": null,
   "id": "1ebf24e8",
   "metadata": {},
   "outputs": [],
   "source": []
  },
  {
   "cell_type": "code",
   "execution_count": null,
   "id": "8a8d84f3",
   "metadata": {},
   "outputs": [],
   "source": []
  },
  {
   "cell_type": "code",
   "execution_count": null,
   "id": "005ba2d4",
   "metadata": {},
   "outputs": [],
   "source": []
  }
 ],
 "metadata": {
  "colab": {
   "name": "5주차_분류(박영수).ipynb",
   "provenance": [],
   "toc_visible": true
  },
  "kernelspec": {
   "display_name": "Python 3 (ipykernel)",
   "language": "python",
   "name": "python3"
  },
  "language_info": {
   "codemirror_mode": {
    "name": "ipython",
    "version": 3
   },
   "file_extension": ".py",
   "mimetype": "text/x-python",
   "name": "python",
   "nbconvert_exporter": "python",
   "pygments_lexer": "ipython3",
   "version": "3.9.7"
  }
 },
 "nbformat": 4,
 "nbformat_minor": 5
}

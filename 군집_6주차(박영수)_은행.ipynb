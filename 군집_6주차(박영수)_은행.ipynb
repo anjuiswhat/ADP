{
 "cells": [
  {
   "cell_type": "markdown",
   "id": "e3fc0f1b",
   "metadata": {},
   "source": [
    "Bank Customer Segmentation\n",
    "Most banks have a large customer base - with different characteristics in terms of age, income, values, lifestyle, and more. Customer segmentation is the process of dividing a customer dataset into specific groups based on shared traits.\n",
    "\n",
    "According to a report from Ernst & Young, “A more granular understanding of consumers is no longer a nice-to-have item, but a strategic and competitive imperative for banking providers. Customer understanding should be a living, breathing part of everyday business, with insights underpinning the full range of banking operations.\n",
    "\n",
    "About this Dataset\n",
    "This dataset consists of 1 Million+ transaction by over 800K customers for a bank in India. The data contains information such as - customer age (DOB), location, gender, account balance at the time of the transaction, transaction details, transaction amount, etc.\n",
    "\n",
    "Interesting Analysis Ideas\n",
    "The dataset can be used for different analysis, example -\n",
    "\n",
    "Perform Clustering / Segmentation on the dataset and identify popular customer groups along with their definitions/rules\n",
    "Perform Location-wise analysis to identify regional trends in India\n",
    "Perform transaction-related analysis to identify interesting trends that can be used by a bank to improve / optimi their user experiences\n",
    "Customer Recency, Frequency, Monetary analysis\n",
    "Network analysis or Graph analysis of customer data."
   ]
  },
  {
   "cell_type": "markdown",
   "id": "7630533c",
   "metadata": {},
   "source": [
    "## **1. 라이브러리, 데이터 불러오기**"
   ]
  },
  {
   "cell_type": "code",
   "execution_count": 61,
   "id": "7d020ff1",
   "metadata": {},
   "outputs": [],
   "source": [
    "#기본 라이브러리\n",
    "import numpy as np\n",
    "import pandas as pd\n",
    "import os\n",
    "import time\n",
    "\n",
    "#시각화 라이브러리\n",
    "import matplotlib.pyplot as plt\n",
    "%matplotlib inline\n",
    "import seaborn as sns\n",
    "\n",
    "import plotly \n",
    "import plotly.express as px\n",
    "import plotly.graph_objs as go\n",
    "import plotly.offline as py\n",
    "from plotly.offline import iplot\n",
    "from plotly.subplots import make_subplots\n",
    "import plotly.figure_factory as ff\n",
    "import warnings\n",
    "warnings.filterwarnings(\"ignore\", category = FutureWarning)\n",
    "\n",
    "\n",
    "#그래프 스타일 서식 지정\n",
    "plt.style.use('default')\n",
    "#그래프 한글 폰트\n",
    "from matplotlib import font_manager, rc\n",
    "plt.rc(\"font\", family = \"Malgun Gothic\")\n",
    "plt.rc(\"axes\", unicode_minus = False)\n",
    "\n",
    "#사이킷런\n",
    "from sklearn.datasets import *\n",
    "from sklearn.model_selection import train_test_split\n",
    "from sklearn.model_selection import StratifiedKFold\n",
    "from sklearn.model_selection import GridSearchCV, KFold\n",
    "\n",
    "from sklearn.metrics import mean_squared_error\n",
    "from sklearn.metrics import confusion_matrix, accuracy_score, precision_score, recall_score, f1_score\n",
    "from sklearn.metrics import roc_auc_score, precision_recall_curve, roc_curve, RocCurveDisplay\n",
    "from sklearn.metrics import classification_report\n",
    "\n",
    "from sklearn.linear_model import LogisticRegression\n",
    "from sklearn.linear_model import Perceptron\n",
    "from sklearn.linear_model import SGDClassifier\n",
    "\n",
    "from sklearn.tree import DecisionTreeClassifier\n",
    "from sklearn.svm import SVC, LinearSVC\n",
    "from sklearn.ensemble import AdaBoostClassifier, BaggingClassifier, RandomForestClassifier, VotingClassifier\n",
    "from lightgbm import LGBMClassifier\n",
    "from xgboost import XGBClassifier, plot_importance\n",
    "\n",
    "from sklearn.model_selection import KFold # K-validation\n",
    "\n",
    "from sklearn.preprocessing import StandardScaler\n",
    "from sklearn.preprocessing import RobustScaler\n",
    "from sklearn.preprocessing import MinMaxScaler\n",
    "from sklearn.preprocessing import LabelEncoder\n",
    "\n",
    "#차원축소\n",
    "from sklearn.decomposition import PCA\n",
    "\n",
    "#군집\n",
    "from sklearn.cluster import KMeans\n",
    "from sklearn.cluster import AgglomerativeClustering\n",
    "from sklearn.neighbors import KNeighborsClassifier\n",
    "from sklearn.naive_bayes import GaussianNB\n",
    "\n",
    "#회귀\n",
    "from sklearn.linear_model import ElasticNet, Lasso, BayesianRidge, LassoLarsIC\n",
    "from sklearn.ensemble import RandomForestRegressor, GradientBoostingRegressor\n",
    "from sklearn.kernel_ridge import KernelRidge\n",
    "from sklearn.pipeline import make_pipeline\n",
    "from sklearn.base import BaseEstimator, TransformerMixin, RegressorMixin, clone\n",
    "from xgboost import XGBRegressor # XGBoost Regressor 모델\n",
    "from lightgbm import LGBMRegressor # XGBoost Regressor 모델\n",
    "\n",
    "# statsmodels 패키지\n",
    "from statsmodels.api import *\n",
    "from statsmodels.formula.api import *\n",
    "from statsmodels.stats.api import *\n",
    "from statsmodels.stats.proportion import *\n",
    "from statsmodels.stats.diagnostic import *\n",
    "from statsmodels.stats.weightstats import *\n",
    "from statsmodels.stats.outliers_influence import *  # 다중공선성 확인 관련 패키지\n",
    "#from statsmodels.multivariate.pca import PCA as stats_PCA  # sklearn 의 PCA와 겹치지 않도록 별칭 지정\n",
    "#from statsmodels.multivariate.pca import pca as stats_pca\n",
    "\n",
    "\n"
   ]
  },
  {
   "cell_type": "code",
   "execution_count": 62,
   "id": "0dd801f7",
   "metadata": {},
   "outputs": [
    {
     "data": {
      "text/html": [
       "<div>\n",
       "<style scoped>\n",
       "    .dataframe tbody tr th:only-of-type {\n",
       "        vertical-align: middle;\n",
       "    }\n",
       "\n",
       "    .dataframe tbody tr th {\n",
       "        vertical-align: top;\n",
       "    }\n",
       "\n",
       "    .dataframe thead th {\n",
       "        text-align: right;\n",
       "    }\n",
       "</style>\n",
       "<table border=\"1\" class=\"dataframe\">\n",
       "  <thead>\n",
       "    <tr style=\"text-align: right;\">\n",
       "      <th></th>\n",
       "      <th>TransactionID</th>\n",
       "      <th>CustomerID</th>\n",
       "      <th>CustomerDOB</th>\n",
       "      <th>CustGender</th>\n",
       "      <th>CustLocation</th>\n",
       "      <th>CustAccountBalance</th>\n",
       "      <th>TransactionDate</th>\n",
       "      <th>TransactionTime</th>\n",
       "      <th>TransactionAmount (INR)</th>\n",
       "    </tr>\n",
       "  </thead>\n",
       "  <tbody>\n",
       "    <tr>\n",
       "      <th>0</th>\n",
       "      <td>T1</td>\n",
       "      <td>C5841053</td>\n",
       "      <td>10/1/94</td>\n",
       "      <td>F</td>\n",
       "      <td>JAMSHEDPUR</td>\n",
       "      <td>17819.05</td>\n",
       "      <td>2/8/16</td>\n",
       "      <td>143207</td>\n",
       "      <td>25.00</td>\n",
       "    </tr>\n",
       "    <tr>\n",
       "      <th>1</th>\n",
       "      <td>T2</td>\n",
       "      <td>C2142763</td>\n",
       "      <td>4/4/57</td>\n",
       "      <td>M</td>\n",
       "      <td>JHAJJAR</td>\n",
       "      <td>2270.69</td>\n",
       "      <td>2/8/16</td>\n",
       "      <td>141858</td>\n",
       "      <td>27999.00</td>\n",
       "    </tr>\n",
       "    <tr>\n",
       "      <th>2</th>\n",
       "      <td>T3</td>\n",
       "      <td>C4417068</td>\n",
       "      <td>26/11/96</td>\n",
       "      <td>F</td>\n",
       "      <td>MUMBAI</td>\n",
       "      <td>17874.44</td>\n",
       "      <td>2/8/16</td>\n",
       "      <td>142712</td>\n",
       "      <td>459.00</td>\n",
       "    </tr>\n",
       "    <tr>\n",
       "      <th>3</th>\n",
       "      <td>T4</td>\n",
       "      <td>C5342380</td>\n",
       "      <td>14/9/73</td>\n",
       "      <td>F</td>\n",
       "      <td>MUMBAI</td>\n",
       "      <td>866503.21</td>\n",
       "      <td>2/8/16</td>\n",
       "      <td>142714</td>\n",
       "      <td>2060.00</td>\n",
       "    </tr>\n",
       "    <tr>\n",
       "      <th>4</th>\n",
       "      <td>T5</td>\n",
       "      <td>C9031234</td>\n",
       "      <td>24/3/88</td>\n",
       "      <td>F</td>\n",
       "      <td>NAVI MUMBAI</td>\n",
       "      <td>6714.43</td>\n",
       "      <td>2/8/16</td>\n",
       "      <td>181156</td>\n",
       "      <td>1762.50</td>\n",
       "    </tr>\n",
       "    <tr>\n",
       "      <th>5</th>\n",
       "      <td>T6</td>\n",
       "      <td>C1536588</td>\n",
       "      <td>8/10/72</td>\n",
       "      <td>F</td>\n",
       "      <td>ITANAGAR</td>\n",
       "      <td>53609.20</td>\n",
       "      <td>2/8/16</td>\n",
       "      <td>173940</td>\n",
       "      <td>676.00</td>\n",
       "    </tr>\n",
       "    <tr>\n",
       "      <th>6</th>\n",
       "      <td>T7</td>\n",
       "      <td>C7126560</td>\n",
       "      <td>26/1/92</td>\n",
       "      <td>F</td>\n",
       "      <td>MUMBAI</td>\n",
       "      <td>973.46</td>\n",
       "      <td>2/8/16</td>\n",
       "      <td>173806</td>\n",
       "      <td>566.00</td>\n",
       "    </tr>\n",
       "    <tr>\n",
       "      <th>7</th>\n",
       "      <td>T8</td>\n",
       "      <td>C1220223</td>\n",
       "      <td>27/1/82</td>\n",
       "      <td>M</td>\n",
       "      <td>MUMBAI</td>\n",
       "      <td>95075.54</td>\n",
       "      <td>2/8/16</td>\n",
       "      <td>170537</td>\n",
       "      <td>148.00</td>\n",
       "    </tr>\n",
       "    <tr>\n",
       "      <th>8</th>\n",
       "      <td>T9</td>\n",
       "      <td>C8536061</td>\n",
       "      <td>19/4/88</td>\n",
       "      <td>F</td>\n",
       "      <td>GURGAON</td>\n",
       "      <td>14906.96</td>\n",
       "      <td>2/8/16</td>\n",
       "      <td>192825</td>\n",
       "      <td>833.00</td>\n",
       "    </tr>\n",
       "    <tr>\n",
       "      <th>9</th>\n",
       "      <td>T10</td>\n",
       "      <td>C6638934</td>\n",
       "      <td>22/6/84</td>\n",
       "      <td>M</td>\n",
       "      <td>MUMBAI</td>\n",
       "      <td>4279.22</td>\n",
       "      <td>2/8/16</td>\n",
       "      <td>192446</td>\n",
       "      <td>289.11</td>\n",
       "    </tr>\n",
       "    <tr>\n",
       "      <th>10</th>\n",
       "      <td>T11</td>\n",
       "      <td>C5430833</td>\n",
       "      <td>22/7/82</td>\n",
       "      <td>M</td>\n",
       "      <td>MOHALI</td>\n",
       "      <td>48429.49</td>\n",
       "      <td>2/8/16</td>\n",
       "      <td>204133</td>\n",
       "      <td>259.00</td>\n",
       "    </tr>\n",
       "    <tr>\n",
       "      <th>11</th>\n",
       "      <td>T12</td>\n",
       "      <td>C6939838</td>\n",
       "      <td>7/7/88</td>\n",
       "      <td>M</td>\n",
       "      <td>GUNTUR</td>\n",
       "      <td>14613.46</td>\n",
       "      <td>2/8/16</td>\n",
       "      <td>205108</td>\n",
       "      <td>202.00</td>\n",
       "    </tr>\n",
       "    <tr>\n",
       "      <th>12</th>\n",
       "      <td>T13</td>\n",
       "      <td>C6339347</td>\n",
       "      <td>13/6/78</td>\n",
       "      <td>M</td>\n",
       "      <td>AHMEDABAD</td>\n",
       "      <td>32274.78</td>\n",
       "      <td>2/8/16</td>\n",
       "      <td>203834</td>\n",
       "      <td>12300.00</td>\n",
       "    </tr>\n",
       "    <tr>\n",
       "      <th>13</th>\n",
       "      <td>T14</td>\n",
       "      <td>C8327851</td>\n",
       "      <td>5/1/92</td>\n",
       "      <td>F</td>\n",
       "      <td>THANE</td>\n",
       "      <td>59950.44</td>\n",
       "      <td>1/8/16</td>\n",
       "      <td>84706</td>\n",
       "      <td>50.00</td>\n",
       "    </tr>\n",
       "    <tr>\n",
       "      <th>14</th>\n",
       "      <td>T15</td>\n",
       "      <td>C7917151</td>\n",
       "      <td>24/3/78</td>\n",
       "      <td>M</td>\n",
       "      <td>PUNE</td>\n",
       "      <td>10100.84</td>\n",
       "      <td>1/8/16</td>\n",
       "      <td>82253</td>\n",
       "      <td>338.00</td>\n",
       "    </tr>\n",
       "    <tr>\n",
       "      <th>15</th>\n",
       "      <td>T16</td>\n",
       "      <td>C8334633</td>\n",
       "      <td>10/7/68</td>\n",
       "      <td>F</td>\n",
       "      <td>NEW DELHI</td>\n",
       "      <td>1283.12</td>\n",
       "      <td>1/8/16</td>\n",
       "      <td>125725</td>\n",
       "      <td>250.00</td>\n",
       "    </tr>\n",
       "    <tr>\n",
       "      <th>16</th>\n",
       "      <td>T17</td>\n",
       "      <td>C1376215</td>\n",
       "      <td>1/1/1800</td>\n",
       "      <td>M</td>\n",
       "      <td>MUMBAI</td>\n",
       "      <td>77495.15</td>\n",
       "      <td>1/8/16</td>\n",
       "      <td>124727</td>\n",
       "      <td>1423.11</td>\n",
       "    </tr>\n",
       "    <tr>\n",
       "      <th>17</th>\n",
       "      <td>T18</td>\n",
       "      <td>C8967349</td>\n",
       "      <td>16/7/89</td>\n",
       "      <td>M</td>\n",
       "      <td>MUMBAI</td>\n",
       "      <td>2177.85</td>\n",
       "      <td>1/8/16</td>\n",
       "      <td>124734</td>\n",
       "      <td>54.00</td>\n",
       "    </tr>\n",
       "    <tr>\n",
       "      <th>18</th>\n",
       "      <td>T19</td>\n",
       "      <td>C3732016</td>\n",
       "      <td>11/1/91</td>\n",
       "      <td>M</td>\n",
       "      <td>MUMBAI</td>\n",
       "      <td>32816.17</td>\n",
       "      <td>1/8/16</td>\n",
       "      <td>122135</td>\n",
       "      <td>315.00</td>\n",
       "    </tr>\n",
       "    <tr>\n",
       "      <th>19</th>\n",
       "      <td>T20</td>\n",
       "      <td>C8999019</td>\n",
       "      <td>24/6/85</td>\n",
       "      <td>M</td>\n",
       "      <td>PUNE</td>\n",
       "      <td>10643.50</td>\n",
       "      <td>1/8/16</td>\n",
       "      <td>152821</td>\n",
       "      <td>945.00</td>\n",
       "    </tr>\n",
       "    <tr>\n",
       "      <th>20</th>\n",
       "      <td>T21</td>\n",
       "      <td>C6121429</td>\n",
       "      <td>20/4/93</td>\n",
       "      <td>M</td>\n",
       "      <td>NO 3 KALYANI NAGAR PUNE</td>\n",
       "      <td>2934.22</td>\n",
       "      <td>1/8/16</td>\n",
       "      <td>152824</td>\n",
       "      <td>36.00</td>\n",
       "    </tr>\n",
       "    <tr>\n",
       "      <th>21</th>\n",
       "      <td>T22</td>\n",
       "      <td>C4511244</td>\n",
       "      <td>31/8/89</td>\n",
       "      <td>F</td>\n",
       "      <td>SECUNDERABAD</td>\n",
       "      <td>4470.15</td>\n",
       "      <td>3/8/16</td>\n",
       "      <td>105329</td>\n",
       "      <td>27.00</td>\n",
       "    </tr>\n",
       "    <tr>\n",
       "      <th>22</th>\n",
       "      <td>T23</td>\n",
       "      <td>C7018081</td>\n",
       "      <td>1/1/1800</td>\n",
       "      <td>M</td>\n",
       "      <td>WAYS PANCHKUVA AHMEDABAD</td>\n",
       "      <td>143.07</td>\n",
       "      <td>3/8/16</td>\n",
       "      <td>104718</td>\n",
       "      <td>110.00</td>\n",
       "    </tr>\n",
       "    <tr>\n",
       "      <th>23</th>\n",
       "      <td>T24</td>\n",
       "      <td>C5830215</td>\n",
       "      <td>1/10/86</td>\n",
       "      <td>M</td>\n",
       "      <td>LUCKNOW</td>\n",
       "      <td>12868.42</td>\n",
       "      <td>3/8/16</td>\n",
       "      <td>125629</td>\n",
       "      <td>291.00</td>\n",
       "    </tr>\n",
       "    <tr>\n",
       "      <th>24</th>\n",
       "      <td>T25</td>\n",
       "      <td>C1219943</td>\n",
       "      <td>17/5/91</td>\n",
       "      <td>F</td>\n",
       "      <td>GURGAON</td>\n",
       "      <td>2951.10</td>\n",
       "      <td>3/8/16</td>\n",
       "      <td>124834</td>\n",
       "      <td>1892.00</td>\n",
       "    </tr>\n",
       "    <tr>\n",
       "      <th>25</th>\n",
       "      <td>T26</td>\n",
       "      <td>C5521085</td>\n",
       "      <td>24/2/93</td>\n",
       "      <td>M</td>\n",
       "      <td>GURGAON</td>\n",
       "      <td>3297.74</td>\n",
       "      <td>3/8/16</td>\n",
       "      <td>160533</td>\n",
       "      <td>242.00</td>\n",
       "    </tr>\n",
       "    <tr>\n",
       "      <th>26</th>\n",
       "      <td>T27</td>\n",
       "      <td>C5430368</td>\n",
       "      <td>1/2/86</td>\n",
       "      <td>M</td>\n",
       "      <td>DELHI</td>\n",
       "      <td>285.76</td>\n",
       "      <td>3/8/16</td>\n",
       "      <td>160537</td>\n",
       "      <td>5500.00</td>\n",
       "    </tr>\n",
       "    <tr>\n",
       "      <th>27</th>\n",
       "      <td>T28</td>\n",
       "      <td>C2416848</td>\n",
       "      <td>1/4/93</td>\n",
       "      <td>M</td>\n",
       "      <td>CHENNAI</td>\n",
       "      <td>20986.66</td>\n",
       "      <td>3/8/16</td>\n",
       "      <td>160544</td>\n",
       "      <td>2235.00</td>\n",
       "    </tr>\n",
       "    <tr>\n",
       "      <th>28</th>\n",
       "      <td>T29</td>\n",
       "      <td>C7935438</td>\n",
       "      <td>1/1/1800</td>\n",
       "      <td>M</td>\n",
       "      <td>MOHALI</td>\n",
       "      <td>969436.12</td>\n",
       "      <td>3/8/16</td>\n",
       "      <td>183634</td>\n",
       "      <td>36.90</td>\n",
       "    </tr>\n",
       "    <tr>\n",
       "      <th>29</th>\n",
       "      <td>T30</td>\n",
       "      <td>C8736958</td>\n",
       "      <td>19/12/86</td>\n",
       "      <td>M</td>\n",
       "      <td>GRAM PANCHAYTH HYDERABAD</td>\n",
       "      <td>NaN</td>\n",
       "      <td>3/8/16</td>\n",
       "      <td>160636</td>\n",
       "      <td>2600.00</td>\n",
       "    </tr>\n",
       "    <tr>\n",
       "      <th>30</th>\n",
       "      <td>T31</td>\n",
       "      <td>C7648712</td>\n",
       "      <td>21/1/67</td>\n",
       "      <td>F</td>\n",
       "      <td>NEW DELHI</td>\n",
       "      <td>298461.05</td>\n",
       "      <td>3/8/16</td>\n",
       "      <td>160642</td>\n",
       "      <td>500.00</td>\n",
       "    </tr>\n",
       "    <tr>\n",
       "      <th>31</th>\n",
       "      <td>T32</td>\n",
       "      <td>C5652115</td>\n",
       "      <td>26/6/91</td>\n",
       "      <td>F</td>\n",
       "      <td>GHAZIABAD</td>\n",
       "      <td>6384.54</td>\n",
       "      <td>3/8/16</td>\n",
       "      <td>160558</td>\n",
       "      <td>10.00</td>\n",
       "    </tr>\n",
       "    <tr>\n",
       "      <th>32</th>\n",
       "      <td>T33</td>\n",
       "      <td>C1889073</td>\n",
       "      <td>25/2/85</td>\n",
       "      <td>F</td>\n",
       "      <td>BANGALORE</td>\n",
       "      <td>57791.69</td>\n",
       "      <td>3/8/16</td>\n",
       "      <td>160750</td>\n",
       "      <td>760.00</td>\n",
       "    </tr>\n",
       "    <tr>\n",
       "      <th>33</th>\n",
       "      <td>T34</td>\n",
       "      <td>C2043652</td>\n",
       "      <td>25/7/79</td>\n",
       "      <td>F</td>\n",
       "      <td>MUMBAI</td>\n",
       "      <td>123781.90</td>\n",
       "      <td>3/8/16</td>\n",
       "      <td>182714</td>\n",
       "      <td>6800.00</td>\n",
       "    </tr>\n",
       "    <tr>\n",
       "      <th>34</th>\n",
       "      <td>T35</td>\n",
       "      <td>C7017047</td>\n",
       "      <td>23/4/77</td>\n",
       "      <td>M</td>\n",
       "      <td>GURGAON</td>\n",
       "      <td>39.73</td>\n",
       "      <td>3/8/16</td>\n",
       "      <td>182715</td>\n",
       "      <td>110.00</td>\n",
       "    </tr>\n",
       "    <tr>\n",
       "      <th>35</th>\n",
       "      <td>T36</td>\n",
       "      <td>C1211387</td>\n",
       "      <td>1/1/1800</td>\n",
       "      <td>M</td>\n",
       "      <td>AHMEDABAD</td>\n",
       "      <td>11791.25</td>\n",
       "      <td>3/8/16</td>\n",
       "      <td>125915</td>\n",
       "      <td>1075.00</td>\n",
       "    </tr>\n",
       "    <tr>\n",
       "      <th>36</th>\n",
       "      <td>T37</td>\n",
       "      <td>C4320949</td>\n",
       "      <td>25/10/84</td>\n",
       "      <td>F</td>\n",
       "      <td>CHENNAI</td>\n",
       "      <td>213.06</td>\n",
       "      <td>3/8/16</td>\n",
       "      <td>182915</td>\n",
       "      <td>1081.00</td>\n",
       "    </tr>\n",
       "    <tr>\n",
       "      <th>37</th>\n",
       "      <td>T38</td>\n",
       "      <td>C2331533</td>\n",
       "      <td>30/12/97</td>\n",
       "      <td>F</td>\n",
       "      <td>GUWAHATI</td>\n",
       "      <td>44627.73</td>\n",
       "      <td>3/8/16</td>\n",
       "      <td>182918</td>\n",
       "      <td>2999.00</td>\n",
       "    </tr>\n",
       "    <tr>\n",
       "      <th>38</th>\n",
       "      <td>T39</td>\n",
       "      <td>C5338459</td>\n",
       "      <td>3/1/84</td>\n",
       "      <td>M</td>\n",
       "      <td>DHANBAD</td>\n",
       "      <td>113238.74</td>\n",
       "      <td>3/8/16</td>\n",
       "      <td>180948</td>\n",
       "      <td>1350.00</td>\n",
       "    </tr>\n",
       "    <tr>\n",
       "      <th>39</th>\n",
       "      <td>T40</td>\n",
       "      <td>C5120181</td>\n",
       "      <td>25/6/85</td>\n",
       "      <td>M</td>\n",
       "      <td>MUKTSAR</td>\n",
       "      <td>2477.42</td>\n",
       "      <td>3/8/16</td>\n",
       "      <td>183614</td>\n",
       "      <td>683.00</td>\n",
       "    </tr>\n",
       "    <tr>\n",
       "      <th>40</th>\n",
       "      <td>T41</td>\n",
       "      <td>C5838935</td>\n",
       "      <td>13/4/83</td>\n",
       "      <td>M</td>\n",
       "      <td>SOCORRO</td>\n",
       "      <td>58406.70</td>\n",
       "      <td>3/8/16</td>\n",
       "      <td>132517</td>\n",
       "      <td>50.00</td>\n",
       "    </tr>\n",
       "    <tr>\n",
       "      <th>41</th>\n",
       "      <td>T42</td>\n",
       "      <td>C7923455</td>\n",
       "      <td>6/10/92</td>\n",
       "      <td>M</td>\n",
       "      <td>ANDHERI (EAST) MUMBAI</td>\n",
       "      <td>5810.82</td>\n",
       "      <td>3/8/16</td>\n",
       "      <td>221111</td>\n",
       "      <td>12.00</td>\n",
       "    </tr>\n",
       "    <tr>\n",
       "      <th>42</th>\n",
       "      <td>T43</td>\n",
       "      <td>C2733968</td>\n",
       "      <td>6/12/92</td>\n",
       "      <td>F</td>\n",
       "      <td>AURANGABAD</td>\n",
       "      <td>12545.18</td>\n",
       "      <td>3/8/16</td>\n",
       "      <td>220926</td>\n",
       "      <td>179.00</td>\n",
       "    </tr>\n",
       "    <tr>\n",
       "      <th>43</th>\n",
       "      <td>T44</td>\n",
       "      <td>C2023055</td>\n",
       "      <td>30/7/93</td>\n",
       "      <td>M</td>\n",
       "      <td>MUMBAI</td>\n",
       "      <td>10630.88</td>\n",
       "      <td>3/8/16</td>\n",
       "      <td>222006</td>\n",
       "      <td>421.80</td>\n",
       "    </tr>\n",
       "    <tr>\n",
       "      <th>44</th>\n",
       "      <td>T45</td>\n",
       "      <td>C1289591</td>\n",
       "      <td>28/10/90</td>\n",
       "      <td>M</td>\n",
       "      <td>KOTA</td>\n",
       "      <td>282455.64</td>\n",
       "      <td>3/8/16</td>\n",
       "      <td>222008</td>\n",
       "      <td>900.00</td>\n",
       "    </tr>\n",
       "    <tr>\n",
       "      <th>45</th>\n",
       "      <td>T46</td>\n",
       "      <td>C3526781</td>\n",
       "      <td>2/11/80</td>\n",
       "      <td>M</td>\n",
       "      <td>CHENNAI</td>\n",
       "      <td>1589.43</td>\n",
       "      <td>3/8/16</td>\n",
       "      <td>222609</td>\n",
       "      <td>90.00</td>\n",
       "    </tr>\n",
       "    <tr>\n",
       "      <th>46</th>\n",
       "      <td>T47</td>\n",
       "      <td>C8934588</td>\n",
       "      <td>23/10/81</td>\n",
       "      <td>M</td>\n",
       "      <td>JAIPUR</td>\n",
       "      <td>5055.18</td>\n",
       "      <td>3/8/16</td>\n",
       "      <td>223146</td>\n",
       "      <td>13846.00</td>\n",
       "    </tr>\n",
       "    <tr>\n",
       "      <th>47</th>\n",
       "      <td>T48</td>\n",
       "      <td>C7542443</td>\n",
       "      <td>29/12/89</td>\n",
       "      <td>M</td>\n",
       "      <td>K V RANGAREDDY</td>\n",
       "      <td>25222.91</td>\n",
       "      <td>3/8/16</td>\n",
       "      <td>223149</td>\n",
       "      <td>59.47</td>\n",
       "    </tr>\n",
       "    <tr>\n",
       "      <th>48</th>\n",
       "      <td>T49</td>\n",
       "      <td>C6427687</td>\n",
       "      <td>4/7/81</td>\n",
       "      <td>M</td>\n",
       "      <td>MUZAFFARNAGAR</td>\n",
       "      <td>2162.36</td>\n",
       "      <td>2/8/16</td>\n",
       "      <td>100019</td>\n",
       "      <td>55.00</td>\n",
       "    </tr>\n",
       "    <tr>\n",
       "      <th>49</th>\n",
       "      <td>T50</td>\n",
       "      <td>C5242591</td>\n",
       "      <td>1/12/82</td>\n",
       "      <td>M</td>\n",
       "      <td>BURDWAN</td>\n",
       "      <td>22525.66</td>\n",
       "      <td>5/8/16</td>\n",
       "      <td>133136</td>\n",
       "      <td>27990.00</td>\n",
       "    </tr>\n",
       "  </tbody>\n",
       "</table>\n",
       "</div>"
      ],
      "text/plain": [
       "   TransactionID CustomerID CustomerDOB CustGender              CustLocation  \\\n",
       "0             T1   C5841053     10/1/94          F                JAMSHEDPUR   \n",
       "1             T2   C2142763      4/4/57          M                   JHAJJAR   \n",
       "2             T3   C4417068    26/11/96          F                    MUMBAI   \n",
       "3             T4   C5342380     14/9/73          F                    MUMBAI   \n",
       "4             T5   C9031234     24/3/88          F               NAVI MUMBAI   \n",
       "5             T6   C1536588     8/10/72          F                  ITANAGAR   \n",
       "6             T7   C7126560     26/1/92          F                    MUMBAI   \n",
       "7             T8   C1220223     27/1/82          M                    MUMBAI   \n",
       "8             T9   C8536061     19/4/88          F                   GURGAON   \n",
       "9            T10   C6638934     22/6/84          M                    MUMBAI   \n",
       "10           T11   C5430833     22/7/82          M                    MOHALI   \n",
       "11           T12   C6939838      7/7/88          M                    GUNTUR   \n",
       "12           T13   C6339347     13/6/78          M                 AHMEDABAD   \n",
       "13           T14   C8327851      5/1/92          F                     THANE   \n",
       "14           T15   C7917151     24/3/78          M                      PUNE   \n",
       "15           T16   C8334633     10/7/68          F                 NEW DELHI   \n",
       "16           T17   C1376215    1/1/1800          M                    MUMBAI   \n",
       "17           T18   C8967349     16/7/89          M                    MUMBAI   \n",
       "18           T19   C3732016     11/1/91          M                    MUMBAI   \n",
       "19           T20   C8999019     24/6/85          M                      PUNE   \n",
       "20           T21   C6121429     20/4/93          M   NO 3 KALYANI NAGAR PUNE   \n",
       "21           T22   C4511244     31/8/89          F              SECUNDERABAD   \n",
       "22           T23   C7018081    1/1/1800          M  WAYS PANCHKUVA AHMEDABAD   \n",
       "23           T24   C5830215     1/10/86          M                   LUCKNOW   \n",
       "24           T25   C1219943     17/5/91          F                   GURGAON   \n",
       "25           T26   C5521085     24/2/93          M                   GURGAON   \n",
       "26           T27   C5430368      1/2/86          M                     DELHI   \n",
       "27           T28   C2416848      1/4/93          M                   CHENNAI   \n",
       "28           T29   C7935438    1/1/1800          M                    MOHALI   \n",
       "29           T30   C8736958    19/12/86          M  GRAM PANCHAYTH HYDERABAD   \n",
       "30           T31   C7648712     21/1/67          F                 NEW DELHI   \n",
       "31           T32   C5652115     26/6/91          F                 GHAZIABAD   \n",
       "32           T33   C1889073     25/2/85          F                 BANGALORE   \n",
       "33           T34   C2043652     25/7/79          F                    MUMBAI   \n",
       "34           T35   C7017047     23/4/77          M                   GURGAON   \n",
       "35           T36   C1211387    1/1/1800          M                 AHMEDABAD   \n",
       "36           T37   C4320949    25/10/84          F                   CHENNAI   \n",
       "37           T38   C2331533    30/12/97          F                  GUWAHATI   \n",
       "38           T39   C5338459      3/1/84          M                   DHANBAD   \n",
       "39           T40   C5120181     25/6/85          M                   MUKTSAR   \n",
       "40           T41   C5838935     13/4/83          M                   SOCORRO   \n",
       "41           T42   C7923455     6/10/92          M     ANDHERI (EAST) MUMBAI   \n",
       "42           T43   C2733968     6/12/92          F                AURANGABAD   \n",
       "43           T44   C2023055     30/7/93          M                    MUMBAI   \n",
       "44           T45   C1289591    28/10/90          M                      KOTA   \n",
       "45           T46   C3526781     2/11/80          M                   CHENNAI   \n",
       "46           T47   C8934588    23/10/81          M                    JAIPUR   \n",
       "47           T48   C7542443    29/12/89          M            K V RANGAREDDY   \n",
       "48           T49   C6427687      4/7/81          M             MUZAFFARNAGAR   \n",
       "49           T50   C5242591     1/12/82          M                   BURDWAN   \n",
       "\n",
       "    CustAccountBalance TransactionDate  TransactionTime  \\\n",
       "0             17819.05          2/8/16           143207   \n",
       "1              2270.69          2/8/16           141858   \n",
       "2             17874.44          2/8/16           142712   \n",
       "3            866503.21          2/8/16           142714   \n",
       "4              6714.43          2/8/16           181156   \n",
       "5             53609.20          2/8/16           173940   \n",
       "6               973.46          2/8/16           173806   \n",
       "7             95075.54          2/8/16           170537   \n",
       "8             14906.96          2/8/16           192825   \n",
       "9              4279.22          2/8/16           192446   \n",
       "10            48429.49          2/8/16           204133   \n",
       "11            14613.46          2/8/16           205108   \n",
       "12            32274.78          2/8/16           203834   \n",
       "13            59950.44          1/8/16            84706   \n",
       "14            10100.84          1/8/16            82253   \n",
       "15             1283.12          1/8/16           125725   \n",
       "16            77495.15          1/8/16           124727   \n",
       "17             2177.85          1/8/16           124734   \n",
       "18            32816.17          1/8/16           122135   \n",
       "19            10643.50          1/8/16           152821   \n",
       "20             2934.22          1/8/16           152824   \n",
       "21             4470.15          3/8/16           105329   \n",
       "22              143.07          3/8/16           104718   \n",
       "23            12868.42          3/8/16           125629   \n",
       "24             2951.10          3/8/16           124834   \n",
       "25             3297.74          3/8/16           160533   \n",
       "26              285.76          3/8/16           160537   \n",
       "27            20986.66          3/8/16           160544   \n",
       "28           969436.12          3/8/16           183634   \n",
       "29                 NaN          3/8/16           160636   \n",
       "30           298461.05          3/8/16           160642   \n",
       "31             6384.54          3/8/16           160558   \n",
       "32            57791.69          3/8/16           160750   \n",
       "33           123781.90          3/8/16           182714   \n",
       "34               39.73          3/8/16           182715   \n",
       "35            11791.25          3/8/16           125915   \n",
       "36              213.06          3/8/16           182915   \n",
       "37            44627.73          3/8/16           182918   \n",
       "38           113238.74          3/8/16           180948   \n",
       "39             2477.42          3/8/16           183614   \n",
       "40            58406.70          3/8/16           132517   \n",
       "41             5810.82          3/8/16           221111   \n",
       "42            12545.18          3/8/16           220926   \n",
       "43            10630.88          3/8/16           222006   \n",
       "44           282455.64          3/8/16           222008   \n",
       "45             1589.43          3/8/16           222609   \n",
       "46             5055.18          3/8/16           223146   \n",
       "47            25222.91          3/8/16           223149   \n",
       "48             2162.36          2/8/16           100019   \n",
       "49            22525.66          5/8/16           133136   \n",
       "\n",
       "    TransactionAmount (INR)  \n",
       "0                     25.00  \n",
       "1                  27999.00  \n",
       "2                    459.00  \n",
       "3                   2060.00  \n",
       "4                   1762.50  \n",
       "5                    676.00  \n",
       "6                    566.00  \n",
       "7                    148.00  \n",
       "8                    833.00  \n",
       "9                    289.11  \n",
       "10                   259.00  \n",
       "11                   202.00  \n",
       "12                 12300.00  \n",
       "13                    50.00  \n",
       "14                   338.00  \n",
       "15                   250.00  \n",
       "16                  1423.11  \n",
       "17                    54.00  \n",
       "18                   315.00  \n",
       "19                   945.00  \n",
       "20                    36.00  \n",
       "21                    27.00  \n",
       "22                   110.00  \n",
       "23                   291.00  \n",
       "24                  1892.00  \n",
       "25                   242.00  \n",
       "26                  5500.00  \n",
       "27                  2235.00  \n",
       "28                    36.90  \n",
       "29                  2600.00  \n",
       "30                   500.00  \n",
       "31                    10.00  \n",
       "32                   760.00  \n",
       "33                  6800.00  \n",
       "34                   110.00  \n",
       "35                  1075.00  \n",
       "36                  1081.00  \n",
       "37                  2999.00  \n",
       "38                  1350.00  \n",
       "39                   683.00  \n",
       "40                    50.00  \n",
       "41                    12.00  \n",
       "42                   179.00  \n",
       "43                   421.80  \n",
       "44                   900.00  \n",
       "45                    90.00  \n",
       "46                 13846.00  \n",
       "47                    59.47  \n",
       "48                    55.00  \n",
       "49                 27990.00  "
      ]
     },
     "execution_count": 62,
     "metadata": {},
     "output_type": "execute_result"
    }
   ],
   "source": [
    "bank_df = pd.read_csv('data/6주차/bank_transactions.csv')\n",
    "bank_df.head(50)"
   ]
  },
  {
   "cell_type": "markdown",
   "id": "71084b53",
   "metadata": {},
   "source": [
    "## **2. EDA**"
   ]
  },
  {
   "cell_type": "code",
   "execution_count": 63,
   "id": "673bbc43",
   "metadata": {},
   "outputs": [
    {
     "name": "stdout",
     "output_type": "stream",
     "text": [
      "<class 'pandas.core.frame.DataFrame'>\n",
      "RangeIndex: 1048567 entries, 0 to 1048566\n",
      "Data columns (total 9 columns):\n",
      " #   Column                   Non-Null Count    Dtype  \n",
      "---  ------                   --------------    -----  \n",
      " 0   TransactionID            1048567 non-null  object \n",
      " 1   CustomerID               1048567 non-null  object \n",
      " 2   CustomerDOB              1045170 non-null  object \n",
      " 3   CustGender               1047467 non-null  object \n",
      " 4   CustLocation             1048416 non-null  object \n",
      " 5   CustAccountBalance       1046198 non-null  float64\n",
      " 6   TransactionDate          1048567 non-null  object \n",
      " 7   TransactionTime          1048567 non-null  int64  \n",
      " 8   TransactionAmount (INR)  1048567 non-null  float64\n",
      "dtypes: float64(2), int64(1), object(6)\n",
      "memory usage: 72.0+ MB\n"
     ]
    }
   ],
   "source": [
    "bank_df.info()"
   ]
  },
  {
   "cell_type": "markdown",
   "id": "b6e3545a",
   "metadata": {},
   "source": [
    "### **2-1. 결측치 제거**"
   ]
  },
  {
   "cell_type": "code",
   "execution_count": 64,
   "id": "4b672700",
   "metadata": {},
   "outputs": [],
   "source": [
    "df = bank_df.copy()"
   ]
  },
  {
   "cell_type": "code",
   "execution_count": 65,
   "id": "6c2e1e9a",
   "metadata": {
    "scrolled": true
   },
   "outputs": [
    {
     "data": {
      "text/plain": [
       "TransactionID                 0\n",
       "CustomerID                    0\n",
       "CustomerDOB                3397\n",
       "CustGender                 1100\n",
       "CustLocation                151\n",
       "CustAccountBalance         2369\n",
       "TransactionDate               0\n",
       "TransactionTime               0\n",
       "TransactionAmount (INR)       0\n",
       "dtype: int64"
      ]
     },
     "execution_count": 65,
     "metadata": {},
     "output_type": "execute_result"
    }
   ],
   "source": [
    "# 컬럼별 결측치 개수\n",
    "df.isnull().sum()"
   ]
  },
  {
   "cell_type": "code",
   "execution_count": 66,
   "id": "036a5fad",
   "metadata": {},
   "outputs": [
    {
     "data": {
      "text/plain": [
       "TransactionID              0\n",
       "CustomerID                 0\n",
       "CustomerDOB                0\n",
       "CustGender                 0\n",
       "CustLocation               0\n",
       "CustAccountBalance         0\n",
       "TransactionDate            0\n",
       "TransactionTime            0\n",
       "TransactionAmount (INR)    0\n",
       "dtype: int64"
      ]
     },
     "execution_count": 66,
     "metadata": {},
     "output_type": "execute_result"
    }
   ],
   "source": [
    "df = df.dropna(axis=0)\n",
    "\n",
    "# 컬럼별 결측치 개수\n",
    "df.isnull().sum()"
   ]
  },
  {
   "cell_type": "code",
   "execution_count": 67,
   "id": "1f9233ec",
   "metadata": {},
   "outputs": [
    {
     "name": "stdout",
     "output_type": "stream",
     "text": [
      "<class 'pandas.core.frame.DataFrame'>\n",
      "Int64Index: 1041614 entries, 0 to 1048566\n",
      "Data columns (total 9 columns):\n",
      " #   Column                   Non-Null Count    Dtype  \n",
      "---  ------                   --------------    -----  \n",
      " 0   TransactionID            1041614 non-null  object \n",
      " 1   CustomerID               1041614 non-null  object \n",
      " 2   CustomerDOB              1041614 non-null  object \n",
      " 3   CustGender               1041614 non-null  object \n",
      " 4   CustLocation             1041614 non-null  object \n",
      " 5   CustAccountBalance       1041614 non-null  float64\n",
      " 6   TransactionDate          1041614 non-null  object \n",
      " 7   TransactionTime          1041614 non-null  int64  \n",
      " 8   TransactionAmount (INR)  1041614 non-null  float64\n",
      "dtypes: float64(2), int64(1), object(6)\n",
      "memory usage: 79.5+ MB\n"
     ]
    }
   ],
   "source": [
    "df.info()"
   ]
  },
  {
   "cell_type": "code",
   "execution_count": 68,
   "id": "d53ffe64",
   "metadata": {},
   "outputs": [],
   "source": [
    "numeric_col = [col for col in df if df[col].dtype != \"object\" ]\n",
    "object_col = [col for col in df if df[col].dtype == \"object\" ]"
   ]
  },
  {
   "cell_type": "markdown",
   "id": "9396f730",
   "metadata": {},
   "source": [
    "### **2-3. Object data EDA**"
   ]
  },
  {
   "cell_type": "code",
   "execution_count": 69,
   "id": "27a21dcb",
   "metadata": {
    "scrolled": true
   },
   "outputs": [
    {
     "data": {
      "text/plain": [
       "['TransactionID',\n",
       " 'CustomerID',\n",
       " 'CustomerDOB',\n",
       " 'CustGender',\n",
       " 'CustLocation',\n",
       " 'TransactionDate']"
      ]
     },
     "execution_count": 69,
     "metadata": {},
     "output_type": "execute_result"
    }
   ],
   "source": [
    "object_col"
   ]
  },
  {
   "cell_type": "code",
   "execution_count": 70,
   "id": "841f49dc",
   "metadata": {},
   "outputs": [],
   "source": [
    "# TransactionID, CustomerID 삭제\n",
    "df = df.drop(\"TransactionID\", axis = 1)\n",
    "df = df.drop(\"CustomerID\", axis = 1)\n",
    "df = df.drop(\"TransactionDate\", axis = 1)"
   ]
  },
  {
   "cell_type": "code",
   "execution_count": 71,
   "id": "08df8823",
   "metadata": {},
   "outputs": [
    {
     "data": {
      "text/plain": [
       "1/1/1800    56292\n",
       "1/1/89        809\n",
       "1/1/90        784\n",
       "6/8/91        698\n",
       "1/1/91        665\n",
       "            ...  \n",
       "2/12/51         1\n",
       "20/3/52         1\n",
       "26/9/47         1\n",
       "4/10/41         1\n",
       "24/10/44        1\n",
       "Name: CustomerDOB, Length: 17233, dtype: int64"
      ]
     },
     "execution_count": 71,
     "metadata": {},
     "output_type": "execute_result"
    }
   ],
   "source": [
    "df[\"CustomerDOB\"].value_counts()"
   ]
  },
  {
   "cell_type": "markdown",
   "id": "542cfaa2",
   "metadata": {},
   "source": [
    "???????????????"
   ]
  },
  {
   "cell_type": "code",
   "execution_count": 72,
   "id": "8102cb63",
   "metadata": {},
   "outputs": [],
   "source": [
    "df = df.drop(\"CustomerDOB\", axis = 1)"
   ]
  },
  {
   "cell_type": "code",
   "execution_count": 73,
   "id": "2c17efa6",
   "metadata": {
    "scrolled": true
   },
   "outputs": [
    {
     "data": {
      "text/plain": [
       "M    760978\n",
       "F    280635\n",
       "T         1\n",
       "Name: CustGender, dtype: int64"
      ]
     },
     "execution_count": 73,
     "metadata": {},
     "output_type": "execute_result"
    }
   ],
   "source": [
    "df.CustGender.value_counts()"
   ]
  },
  {
   "cell_type": "code",
   "execution_count": 74,
   "id": "7a115e0f",
   "metadata": {},
   "outputs": [
    {
     "data": {
      "text/plain": [
       "Int64Index([959987], dtype='int64')"
      ]
     },
     "execution_count": 74,
     "metadata": {},
     "output_type": "execute_result"
    }
   ],
   "source": [
    "df[df.CustGender == 'T'].index"
   ]
  },
  {
   "cell_type": "code",
   "execution_count": 75,
   "id": "def57b61",
   "metadata": {},
   "outputs": [],
   "source": [
    "df = df.drop([959987], axis=0)"
   ]
  },
  {
   "cell_type": "code",
   "execution_count": 76,
   "id": "453da3ff",
   "metadata": {},
   "outputs": [
    {
     "data": {
      "text/plain": [
       "M    760978\n",
       "F    280635\n",
       "Name: CustGender, dtype: int64"
      ]
     },
     "execution_count": 76,
     "metadata": {},
     "output_type": "execute_result"
    }
   ],
   "source": [
    "df.CustGender.value_counts()"
   ]
  },
  {
   "cell_type": "code",
   "execution_count": 77,
   "id": "9b83451a",
   "metadata": {},
   "outputs": [
    {
     "data": {
      "text/plain": [
       "MUMBAI                            101997\n",
       "NEW DELHI                          84143\n",
       "BANGALORE                          81330\n",
       "GURGAON                            73594\n",
       "DELHI                              70549\n",
       "                                   ...  \n",
       "DISTRICT PURI                          1\n",
       "DHAKOLA                                1\n",
       "KANDESHWAR STATION NAVI MUMBAI         1\n",
       "HOSHIAR PUR                            1\n",
       "IMPERIA THANE WEST                     1\n",
       "Name: CustLocation, Length: 9275, dtype: int64"
      ]
     },
     "execution_count": 77,
     "metadata": {},
     "output_type": "execute_result"
    }
   ],
   "source": [
    "df[\"CustLocation\"].value_counts()"
   ]
  },
  {
   "cell_type": "code",
   "execution_count": 78,
   "id": "3ca0deb4",
   "metadata": {},
   "outputs": [
    {
     "data": {
      "text/plain": [
       "0             JAMSHEDPUR\n",
       "1                JHAJJAR\n",
       "2                 MUMBAI\n",
       "3                 MUMBAI\n",
       "4            NAVI MUMBAI\n",
       "               ...      \n",
       "1048562        NEW DELHI\n",
       "1048563           NASHIK\n",
       "1048564        HYDERABAD\n",
       "1048565    VISAKHAPATNAM\n",
       "1048566             PUNE\n",
       "Name: CustLocation, Length: 1041613, dtype: object"
      ]
     },
     "execution_count": 78,
     "metadata": {},
     "output_type": "execute_result"
    }
   ],
   "source": [
    "df[\"CustLocation\"]"
   ]
  },
  {
   "cell_type": "code",
   "execution_count": 79,
   "id": "df0fd934",
   "metadata": {
    "scrolled": false
   },
   "outputs": [
    {
     "data": {
      "text/plain": [
       "0.09975489937241566"
      ]
     },
     "execution_count": 79,
     "metadata": {},
     "output_type": "execute_result"
    }
   ],
   "source": [
    "df[\"CustLocation\"].value_counts().loc[lambda x : x<150].sum()/len(df)"
   ]
  },
  {
   "cell_type": "code",
   "execution_count": 80,
   "id": "e4af15a7",
   "metadata": {},
   "outputs": [],
   "source": [
    "counts = df[\"CustLocation\"].value_counts()\n",
    "df_149 = df[df[\"CustLocation\"].map(counts)>149]"
   ]
  },
  {
   "cell_type": "code",
   "execution_count": 81,
   "id": "163927a9",
   "metadata": {},
   "outputs": [
    {
     "name": "stdout",
     "output_type": "stream",
     "text": [
      "<class 'pandas.core.frame.DataFrame'>\n",
      "Int64Index: 937707 entries, 0 to 1048566\n",
      "Data columns (total 5 columns):\n",
      " #   Column                   Non-Null Count   Dtype  \n",
      "---  ------                   --------------   -----  \n",
      " 0   CustGender               937707 non-null  object \n",
      " 1   CustLocation             937707 non-null  object \n",
      " 2   CustAccountBalance       937707 non-null  float64\n",
      " 3   TransactionTime          937707 non-null  int64  \n",
      " 4   TransactionAmount (INR)  937707 non-null  float64\n",
      "dtypes: float64(2), int64(1), object(2)\n",
      "memory usage: 42.9+ MB\n"
     ]
    }
   ],
   "source": [
    "df_149.info()"
   ]
  },
  {
   "cell_type": "code",
   "execution_count": 82,
   "id": "97fde526",
   "metadata": {},
   "outputs": [],
   "source": [
    "object_col = [col for col in df if df[col].dtype == \"object\" ]"
   ]
  },
  {
   "cell_type": "code",
   "execution_count": 83,
   "id": "5174b2ee",
   "metadata": {},
   "outputs": [
    {
     "data": {
      "text/plain": [
       "['CustGender', 'CustLocation']"
      ]
     },
     "execution_count": 83,
     "metadata": {},
     "output_type": "execute_result"
    }
   ],
   "source": [
    "object_col"
   ]
  },
  {
   "cell_type": "code",
   "execution_count": null,
   "id": "62c38716",
   "metadata": {},
   "outputs": [],
   "source": []
  },
  {
   "cell_type": "code",
   "execution_count": null,
   "id": "bc2c1e96",
   "metadata": {},
   "outputs": [],
   "source": []
  },
  {
   "cell_type": "code",
   "execution_count": 84,
   "id": "92c54692",
   "metadata": {},
   "outputs": [
    {
     "data": {
      "text/html": [
       "<div>\n",
       "<style scoped>\n",
       "    .dataframe tbody tr th:only-of-type {\n",
       "        vertical-align: middle;\n",
       "    }\n",
       "\n",
       "    .dataframe tbody tr th {\n",
       "        vertical-align: top;\n",
       "    }\n",
       "\n",
       "    .dataframe thead th {\n",
       "        text-align: right;\n",
       "    }\n",
       "</style>\n",
       "<table border=\"1\" class=\"dataframe\">\n",
       "  <thead>\n",
       "    <tr style=\"text-align: right;\">\n",
       "      <th></th>\n",
       "      <th>CustGender</th>\n",
       "      <th>CustLocation</th>\n",
       "    </tr>\n",
       "  </thead>\n",
       "  <tbody>\n",
       "    <tr>\n",
       "      <th>0</th>\n",
       "      <td>0.0</td>\n",
       "      <td>3557.0</td>\n",
       "    </tr>\n",
       "    <tr>\n",
       "      <th>1</th>\n",
       "      <td>1.0</td>\n",
       "      <td>3618.0</td>\n",
       "    </tr>\n",
       "    <tr>\n",
       "      <th>2</th>\n",
       "      <td>0.0</td>\n",
       "      <td>5219.0</td>\n",
       "    </tr>\n",
       "    <tr>\n",
       "      <th>3</th>\n",
       "      <td>0.0</td>\n",
       "      <td>5219.0</td>\n",
       "    </tr>\n",
       "    <tr>\n",
       "      <th>4</th>\n",
       "      <td>0.0</td>\n",
       "      <td>5606.0</td>\n",
       "    </tr>\n",
       "  </tbody>\n",
       "</table>\n",
       "</div>"
      ],
      "text/plain": [
       "   CustGender  CustLocation\n",
       "0         0.0        3557.0\n",
       "1         1.0        3618.0\n",
       "2         0.0        5219.0\n",
       "3         0.0        5219.0\n",
       "4         0.0        5606.0"
      ]
     },
     "execution_count": 84,
     "metadata": {},
     "output_type": "execute_result"
    }
   ],
   "source": [
    "label = LabelEncoder()\n",
    "\n",
    "for col in object_col:\n",
    "    df[col] = pd.DataFrame(label.fit_transform(df[col]))\n",
    "df[object_col].head()"
   ]
  },
  {
   "cell_type": "code",
   "execution_count": 85,
   "id": "9c90e27f",
   "metadata": {
    "scrolled": true
   },
   "outputs": [
    {
     "data": {
      "text/html": [
       "<div>\n",
       "<style scoped>\n",
       "    .dataframe tbody tr th:only-of-type {\n",
       "        vertical-align: middle;\n",
       "    }\n",
       "\n",
       "    .dataframe tbody tr th {\n",
       "        vertical-align: top;\n",
       "    }\n",
       "\n",
       "    .dataframe thead th {\n",
       "        text-align: right;\n",
       "    }\n",
       "</style>\n",
       "<table border=\"1\" class=\"dataframe\">\n",
       "  <thead>\n",
       "    <tr style=\"text-align: right;\">\n",
       "      <th></th>\n",
       "      <th>CustGender</th>\n",
       "      <th>CustLocation</th>\n",
       "      <th>CustAccountBalance</th>\n",
       "      <th>TransactionTime</th>\n",
       "      <th>TransactionAmount (INR)</th>\n",
       "    </tr>\n",
       "  </thead>\n",
       "  <tbody>\n",
       "    <tr>\n",
       "      <th>0</th>\n",
       "      <td>0.0</td>\n",
       "      <td>3557.0</td>\n",
       "      <td>17819.05</td>\n",
       "      <td>143207</td>\n",
       "      <td>25.0</td>\n",
       "    </tr>\n",
       "    <tr>\n",
       "      <th>1</th>\n",
       "      <td>1.0</td>\n",
       "      <td>3618.0</td>\n",
       "      <td>2270.69</td>\n",
       "      <td>141858</td>\n",
       "      <td>27999.0</td>\n",
       "    </tr>\n",
       "    <tr>\n",
       "      <th>2</th>\n",
       "      <td>0.0</td>\n",
       "      <td>5219.0</td>\n",
       "      <td>17874.44</td>\n",
       "      <td>142712</td>\n",
       "      <td>459.0</td>\n",
       "    </tr>\n",
       "    <tr>\n",
       "      <th>3</th>\n",
       "      <td>0.0</td>\n",
       "      <td>5219.0</td>\n",
       "      <td>866503.21</td>\n",
       "      <td>142714</td>\n",
       "      <td>2060.0</td>\n",
       "    </tr>\n",
       "    <tr>\n",
       "      <th>4</th>\n",
       "      <td>0.0</td>\n",
       "      <td>5606.0</td>\n",
       "      <td>6714.43</td>\n",
       "      <td>181156</td>\n",
       "      <td>1762.5</td>\n",
       "    </tr>\n",
       "  </tbody>\n",
       "</table>\n",
       "</div>"
      ],
      "text/plain": [
       "   CustGender  CustLocation  CustAccountBalance  TransactionTime  \\\n",
       "0         0.0        3557.0            17819.05           143207   \n",
       "1         1.0        3618.0             2270.69           141858   \n",
       "2         0.0        5219.0            17874.44           142712   \n",
       "3         0.0        5219.0           866503.21           142714   \n",
       "4         0.0        5606.0             6714.43           181156   \n",
       "\n",
       "   TransactionAmount (INR)  \n",
       "0                     25.0  \n",
       "1                  27999.0  \n",
       "2                    459.0  \n",
       "3                   2060.0  \n",
       "4                   1762.5  "
      ]
     },
     "execution_count": 85,
     "metadata": {},
     "output_type": "execute_result"
    }
   ],
   "source": [
    "df.head()"
   ]
  },
  {
   "cell_type": "markdown",
   "id": "8d885635",
   "metadata": {},
   "source": [
    "### **2-4. Numeric data EDA**"
   ]
  },
  {
   "cell_type": "code",
   "execution_count": 86,
   "id": "1c97ba38",
   "metadata": {},
   "outputs": [
    {
     "data": {
      "text/plain": [
       "['CustAccountBalance', 'TransactionTime', 'TransactionAmount (INR)']"
      ]
     },
     "execution_count": 86,
     "metadata": {},
     "output_type": "execute_result"
    }
   ],
   "source": [
    "numeric_col"
   ]
  },
  {
   "cell_type": "code",
   "execution_count": 87,
   "id": "11da2860",
   "metadata": {},
   "outputs": [
    {
     "data": {
      "image/png": "[encoded data removed]",
      "text/plain": [
       "<Figure size 640x480 with 3 Axes>"
      ]
     },
     "metadata": {},
     "output_type": "display_data"
    }
   ],
   "source": [
    "for i in range(0, len(numeric_col)):\n",
    "    plt.subplot(2, 3, i+1) \n",
    "    sns.boxplot(df[numeric_col].iloc[:, i])"
   ]
  },
  {
   "cell_type": "code",
   "execution_count": 88,
   "id": "685ec012",
   "metadata": {},
   "outputs": [],
   "source": [
    "df = df.drop(\"TransactionTime\", axis = 1)"
   ]
  },
  {
   "cell_type": "code",
   "execution_count": 89,
   "id": "30aa3c8f",
   "metadata": {},
   "outputs": [
    {
     "data": {
      "text/plain": [
       "0           17819.05\n",
       "1            2270.69\n",
       "2           17874.44\n",
       "3          866503.21\n",
       "4            6714.43\n",
       "             ...    \n",
       "1048562      7635.19\n",
       "1048563     27311.42\n",
       "1048564    221757.06\n",
       "1048565     10117.87\n",
       "1048566     75734.42\n",
       "Name: CustAccountBalance, Length: 1041613, dtype: float64"
      ]
     },
     "execution_count": 89,
     "metadata": {},
     "output_type": "execute_result"
    }
   ],
   "source": [
    "df[\"CustAccountBalance\"]"
   ]
  },
  {
   "cell_type": "code",
   "execution_count": 90,
   "id": "3b2ec101",
   "metadata": {},
   "outputs": [
    {
     "data": {
      "text/html": [
       "<div>\n",
       "<style scoped>\n",
       "    .dataframe tbody tr th:only-of-type {\n",
       "        vertical-align: middle;\n",
       "    }\n",
       "\n",
       "    .dataframe tbody tr th {\n",
       "        vertical-align: top;\n",
       "    }\n",
       "\n",
       "    .dataframe thead th {\n",
       "        text-align: right;\n",
       "    }\n",
       "</style>\n",
       "<table border=\"1\" class=\"dataframe\">\n",
       "  <thead>\n",
       "    <tr style=\"text-align: right;\">\n",
       "      <th></th>\n",
       "      <th>CustGender</th>\n",
       "      <th>CustLocation</th>\n",
       "      <th>CustAccountBalance</th>\n",
       "      <th>TransactionAmount (INR)</th>\n",
       "    </tr>\n",
       "  </thead>\n",
       "  <tbody>\n",
       "    <tr>\n",
       "      <th>0</th>\n",
       "      <td>0.0</td>\n",
       "      <td>3557.0</td>\n",
       "      <td>17819.05</td>\n",
       "      <td>25.0</td>\n",
       "    </tr>\n",
       "    <tr>\n",
       "      <th>1</th>\n",
       "      <td>1.0</td>\n",
       "      <td>3618.0</td>\n",
       "      <td>2270.69</td>\n",
       "      <td>27999.0</td>\n",
       "    </tr>\n",
       "    <tr>\n",
       "      <th>2</th>\n",
       "      <td>0.0</td>\n",
       "      <td>5219.0</td>\n",
       "      <td>17874.44</td>\n",
       "      <td>459.0</td>\n",
       "    </tr>\n",
       "    <tr>\n",
       "      <th>3</th>\n",
       "      <td>0.0</td>\n",
       "      <td>5219.0</td>\n",
       "      <td>866503.21</td>\n",
       "      <td>2060.0</td>\n",
       "    </tr>\n",
       "    <tr>\n",
       "      <th>4</th>\n",
       "      <td>0.0</td>\n",
       "      <td>5606.0</td>\n",
       "      <td>6714.43</td>\n",
       "      <td>1762.5</td>\n",
       "    </tr>\n",
       "  </tbody>\n",
       "</table>\n",
       "</div>"
      ],
      "text/plain": [
       "   CustGender  CustLocation  CustAccountBalance  TransactionAmount (INR)\n",
       "0         0.0        3557.0            17819.05                     25.0\n",
       "1         1.0        3618.0             2270.69                  27999.0\n",
       "2         0.0        5219.0            17874.44                    459.0\n",
       "3         0.0        5219.0           866503.21                   2060.0\n",
       "4         0.0        5606.0             6714.43                   1762.5"
      ]
     },
     "execution_count": 90,
     "metadata": {},
     "output_type": "execute_result"
    }
   ],
   "source": [
    "df.head()"
   ]
  },
  {
   "cell_type": "code",
   "execution_count": 91,
   "id": "e94e48e0",
   "metadata": {},
   "outputs": [
    {
     "data": {
      "image/png": "[encoded data removed]",
      "text/plain": [
       "<Figure size 640x480 with 4 Axes>"
      ]
     },
     "metadata": {},
     "output_type": "display_data"
    }
   ],
   "source": [
    "for i in range(0, len(df.columns)):\n",
    "    plt.subplot(2, 4, i+1) \n",
    "    sns.boxplot(df.iloc[:, i])"
   ]
  },
  {
   "cell_type": "code",
   "execution_count": null,
   "id": "04666ffa",
   "metadata": {},
   "outputs": [],
   "source": []
  },
  {
   "cell_type": "code",
   "execution_count": 92,
   "id": "34c9ff65",
   "metadata": {},
   "outputs": [],
   "source": [
    "#df = df.drop(\"CustLocation\", axis = 1)"
   ]
  },
  {
   "cell_type": "markdown",
   "id": "4bd071e5",
   "metadata": {},
   "source": [
    "### **2-5. 정규화**"
   ]
  },
  {
   "cell_type": "code",
   "execution_count": 93,
   "id": "e0fa23e3",
   "metadata": {},
   "outputs": [],
   "source": [
    "# 변수 스케일링\n",
    "rs = RobustScaler()\n",
    "\n",
    "df_scaled = pd.DataFrame(rs.fit_transform(df), columns=df.columns, index=df.index)"
   ]
  },
  {
   "cell_type": "code",
   "execution_count": 94,
   "id": "c2120e4d",
   "metadata": {},
   "outputs": [
    {
     "data": {
      "image/png": "[encoded data removed]",
      "text/plain": [
       "<Figure size 640x480 with 4 Axes>"
      ]
     },
     "metadata": {},
     "output_type": "display_data"
    }
   ],
   "source": [
    "for i in range(0, len(df.columns)):\n",
    "    plt.subplot(2, 4, i+1) \n",
    "    sns.boxplot(df.iloc[:, i])"
   ]
  },
  {
   "cell_type": "markdown",
   "id": "13cdf9ff",
   "metadata": {},
   "source": [
    "## **3. 차원축소**"
   ]
  },
  {
   "cell_type": "code",
   "execution_count": 95,
   "id": "caadf8e6",
   "metadata": {},
   "outputs": [
    {
     "data": {
      "text/plain": [
       "<AxesSubplot:>"
      ]
     },
     "execution_count": 95,
     "metadata": {},
     "output_type": "execute_result"
    },
    {
     "data": {
      "image/png": "[encoded data removed]",
      "text/plain": [
       "<Figure size 1200x800 with 2 Axes>"
      ]
     },
     "metadata": {},
     "output_type": "display_data"
    }
   ],
   "source": [
    "plt.figure(figsize=(12,8))\n",
    "\n",
    "#plot heat map\n",
    "sns.heatmap(df_scaled.corr(), annot=True)"
   ]
  },
  {
   "cell_type": "code",
   "execution_count": 96,
   "id": "1009ae74",
   "metadata": {},
   "outputs": [
    {
     "data": {
      "text/plain": [
       "CustGender                 0\n",
       "CustLocation               0\n",
       "CustAccountBalance         0\n",
       "TransactionAmount (INR)    0\n",
       "dtype: int64"
      ]
     },
     "execution_count": 96,
     "metadata": {},
     "output_type": "execute_result"
    }
   ],
   "source": [
    "# 컬럼별 결측치 개수\n",
    "df_scaled.isnull().sum()\n",
    "\n",
    "df_scaled = df_scaled.dropna(axis=0, )\n",
    "\n",
    "# 컬럼별 결측치 개수\n",
    "df_scaled.isnull().sum()"
   ]
  },
  {
   "cell_type": "code",
   "execution_count": 97,
   "id": "605864dd",
   "metadata": {},
   "outputs": [
    {
     "name": "stdout",
     "output_type": "stream",
     "text": [
      "<class 'pandas.core.frame.DataFrame'>\n",
      "Int64Index: 1034693 entries, 0 to 1041612\n",
      "Data columns (total 4 columns):\n",
      " #   Column                   Non-Null Count    Dtype  \n",
      "---  ------                   --------------    -----  \n",
      " 0   CustGender               1034693 non-null  float64\n",
      " 1   CustLocation             1034693 non-null  float64\n",
      " 2   CustAccountBalance       1034693 non-null  float64\n",
      " 3   TransactionAmount (INR)  1034693 non-null  float64\n",
      "dtypes: float64(4)\n",
      "memory usage: 39.5 MB\n"
     ]
    }
   ],
   "source": [
    "df_scaled.info()"
   ]
  },
  {
   "cell_type": "code",
   "execution_count": 98,
   "id": "dca73835",
   "metadata": {},
   "outputs": [
    {
     "ename": "TypeError",
     "evalue": "__init__() got an unexpected keyword argument 'n_components'",
     "output_type": "error",
     "traceback": [
      "\u001b[1;31m---------------------------------------------------------------------------\u001b[0m",
      "\u001b[1;31mTypeError\u001b[0m                                 Traceback (most recent call last)",
      "\u001b[1;32m~\\AppData\\Local\\Temp/ipykernel_23812/591256078.py\u001b[0m in \u001b[0;36m<module>\u001b[1;34m\u001b[0m\n\u001b[0;32m      3\u001b[0m \u001b[1;33m\u001b[0m\u001b[0m\n\u001b[0;32m      4\u001b[0m \u001b[1;31m# 주성분 개수를 k개로 하는 PCA 모델 생성\u001b[0m\u001b[1;33m\u001b[0m\u001b[1;33m\u001b[0m\u001b[0m\n\u001b[1;32m----> 5\u001b[1;33m \u001b[0mpca\u001b[0m \u001b[1;33m=\u001b[0m \u001b[0mPCA\u001b[0m\u001b[1;33m(\u001b[0m\u001b[0mn_components\u001b[0m\u001b[1;33m=\u001b[0m\u001b[1;36m2\u001b[0m\u001b[1;33m)\u001b[0m\u001b[1;33m\u001b[0m\u001b[1;33m\u001b[0m\u001b[0m\n\u001b[0m\u001b[0;32m      6\u001b[0m \u001b[1;33m\u001b[0m\u001b[0m\n\u001b[0;32m      7\u001b[0m \u001b[1;31m# 표준화된 변수에 대해 PCA 수행\u001b[0m\u001b[1;33m\u001b[0m\u001b[1;33m\u001b[0m\u001b[0m\n",
      "\u001b[1;31mTypeError\u001b[0m: __init__() got an unexpected keyword argument 'n_components'"
     ]
    }
   ],
   "source": [
    "# 주성분 개수 설정\n",
    "k = 2\n",
    "\n",
    "# 주성분 개수를 k개로 하는 PCA 모델 생성\n",
    "pca = PCA(n_components=2)\n",
    "\n",
    "# 표준화된 변수에 대해 PCA 수행\n",
    "x = pd.DataFrame(pca.fit(df_scaled))\n",
    "\n",
    "# 주성분 각각의 설명력 및 설명력 비율\n",
    "pd.DataFrame( {'주성분 별 설명력' : pca.explained_variance_,\n",
    "               '주성분 별 설명력 비율' : pca.explained_variance_ratio_})"
   ]
  },
  {
   "cell_type": "code",
   "execution_count": 99,
   "id": "487a127a",
   "metadata": {},
   "outputs": [
    {
     "ename": "NameError",
     "evalue": "name 'df_pca' is not defined",
     "output_type": "error",
     "traceback": [
      "\u001b[1;31m---------------------------------------------------------------------------\u001b[0m",
      "\u001b[1;31mNameError\u001b[0m                                 Traceback (most recent call last)",
      "\u001b[1;32m~\\AppData\\Local\\Temp/ipykernel_23812/3347039211.py\u001b[0m in \u001b[0;36m<module>\u001b[1;34m\u001b[0m\n\u001b[1;32m----> 1\u001b[1;33m \u001b[0mdf_pca\u001b[0m\u001b[1;33m.\u001b[0m\u001b[0mcorr\u001b[0m\u001b[1;33m(\u001b[0m\u001b[1;33m)\u001b[0m\u001b[1;33m\u001b[0m\u001b[1;33m\u001b[0m\u001b[0m\n\u001b[0m",
      "\u001b[1;31mNameError\u001b[0m: name 'df_pca' is not defined"
     ]
    }
   ],
   "source": [
    "df_pca.corr()"
   ]
  },
  {
   "cell_type": "code",
   "execution_count": null,
   "id": "897e8c59",
   "metadata": {},
   "outputs": [],
   "source": []
  },
  {
   "cell_type": "code",
   "execution_count": null,
   "id": "c2956803",
   "metadata": {},
   "outputs": [],
   "source": [
    "x =df_pca[0]\n",
    "y =df_pca[1]\n",
    "z =df_pca[2]\n",
    "#To plot\n",
    "fig = plt.figure(figsize=(10,8))\n",
    "ax = fig.add_subplot(111, projection=\"3d\")\n",
    "ax.scatter(x,y,z, c=\"maroon\", marker=\"o\" )\n",
    "ax.set_title(\"A 3D Projection Of Data In The Reduced Dimension\")\n",
    "plt.show()"
   ]
  },
  {
   "cell_type": "code",
   "execution_count": null,
   "id": "927b9ae7",
   "metadata": {},
   "outputs": [],
   "source": [
    "start = time.time() \n",
    "\n",
    "kmeans = KMeans(n_clusters=2, random_state=0)\n",
    "labels = kmeans.fit(df_pca).predict(df_pca)\n",
    "\n",
    "score_kmeans_s = silhouette_score(df_pca, labels, metric='euclidean')\n",
    "print(score_kmeans_s)\n",
    "\n",
    "# 끝 시간 측정\n",
    "end = time.time() \n",
    "\n",
    "# 끝-시작 시간 print\n",
    "print('시간 :',end-start,'sec') "
   ]
  },
  {
   "cell_type": "code",
   "execution_count": null,
   "id": "d767ab6a",
   "metadata": {},
   "outputs": [],
   "source": [
    "import sklearn.metrics as metrics\n",
    "from scipy.spatial.distance import cdist\n",
    "\n",
    "# plot\n",
    "def plot_kmeans(kmeans, X, n_clusters=2, rseed=0, ax=None):\n",
    "    labels = kmeans.fit_predict(X)\n",
    "\n",
    "    # plot the input data\n",
    "    ax = ax or plt.gca()\n",
    "    ax.axis('equal')\n",
    "    ax.scatter(X[:, 0], X[:, 1], c=labels, s=40, cmap='viridis', zorder=2)\n",
    "\n",
    "    # cluster 중심 값\n",
    "    centers = kmeans.cluster_centers_\n",
    "\n",
    "    # 유클리디안(기본값) 거리 계산 / 각 군집의 중심값으로부터 가장 멀리 떨어진 거리\n",
    "    radii = [cdist(X[labels == i], [center], metric='euclidean').max() for i, center in enumerate(centers)]\n",
    "\n",
    "    # 군집 중심 및 거리로 plot\n",
    "    for c, r in zip(centers, radii):\n",
    "        ax.add_patch(plt.Circle(c, r, fc='#CCCCCC', lw=3, alpha=0.5, zorder=1))"
   ]
  },
  {
   "cell_type": "code",
   "execution_count": null,
   "id": "e2831340",
   "metadata": {},
   "outputs": [],
   "source": [
    "plot_kmeans(kmeans, df_pca)"
   ]
  },
  {
   "cell_type": "code",
   "execution_count": null,
   "id": "e1fbb354",
   "metadata": {},
   "outputs": [],
   "source": [
    "kmeans = KMeans(n_clusters=2, random_state=0)\n",
    "plot_kmeans(kmeans, df_pca)"
   ]
  },
  {
   "cell_type": "code",
   "execution_count": null,
   "id": "4c6e2155",
   "metadata": {},
   "outputs": [],
   "source": [
    "# Silhouette\n",
    "\n",
    "n_components = np.arange(2, 21)\n",
    "models = [KMeans(n, random_state=0).fit(df_pca) for n in n_components]\n",
    "\n",
    "plt.plot(n_components, [silhouette_score(df_pca, m.predict(df_pca), metric='euclidean') for m in models], label = 'silhouette')\n",
    "\n",
    "plt.legend(loc='best')\n",
    "plt.xlabel('n_components');"
   ]
  },
  {
   "cell_type": "markdown",
   "id": "c522626a",
   "metadata": {},
   "source": []
  }
 ],
 "metadata": {
  "kernelspec": {
   "display_name": "Python 3 (ipykernel)",
   "language": "python",
   "name": "python3"
  },
  "language_info": {
   "codemirror_mode": {
    "name": "ipython",
    "version": 3
   },
   "file_extension": ".py",
   "mimetype": "text/x-python",
   "name": "python",
   "nbconvert_exporter": "python",
   "pygments_lexer": "ipython3",
   "version": "3.9.7"
  }
 },
 "nbformat": 4,
 "nbformat_minor": 5
}

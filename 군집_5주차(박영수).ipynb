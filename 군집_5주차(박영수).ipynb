{
  "nbformat": 4,
  "nbformat_minor": 0,
  "metadata": {
    "colab": {
      "name": "5주차_군집(박영수).ipynb",
      "private_outputs": true,
      "provenance": []
    },
    "kernelspec": {
      "name": "python3",
      "display_name": "Python 3"
    },
    "language_info": {
      "name": "python"
    }
  },
  "cells": [
    {
      "cell_type": "markdown",
      "metadata": {
        "id": "x11Il4rm9o1U"
      },
      "source": [
        "About this Dataset\n",
        "Context\n",
        "Problem Statement\n",
        "\n",
        "Customer Personality Analysis is a detailed analysis of a company’s ideal customers. It helps a business to better understand its customers and makes it easier for them to modify products according to the specific needs, behaviors and concerns of different types of customers.\n",
        "\n",
        "Customer personality analysis helps a business to modify its product based on its target customers from different types of customer segments. For example, instead of spending money to market a new product to every customer in the company’s database, a company can analyze which customer segment is most likely to buy the product and then market the product only on that particular segment.\n",
        "\n",
        "Content\n",
        "Attributes\n",
        "\n",
        "People\n",
        "\n",
        "ID: Customer's unique identifier\n",
        "Year_Birth: Customer's birth year\n",
        "Education: Customer's education level\n",
        "Marital_Status: Customer's marital status\n",
        "Income: Customer's yearly household income\n",
        "Kidhome: Number of children in customer's household\n",
        "Teenhome: Number of teenagers in customer's household\n",
        "Dt_Customer: Date of customer's enrollment with the company\n",
        "Recency: Number of days since customer's last purchase\n",
        "Complain: 1 if customer complained in the last 2 years, 0 otherwise\n",
        "Products\n",
        "\n",
        "MntWines: Amount spent on wine in last 2 years\n",
        "MntFruits: Amount spent on fruits in last 2 years\n",
        "MntMeatProducts: Amount spent on meat in last 2 years\n",
        "MntFishProducts: Amount spent on fish in last 2 years\n",
        "MntSweetProducts: Amount spent on sweets in last 2 years\n",
        "MntGoldProds: Amount spent on gold in last 2 years\n",
        "Promotion\n",
        "\n",
        "NumDealsPurchases: Number of purchases made with a discount\n",
        "AcceptedCmp1: 1 if customer accepted the offer in the 1st campaign, 0 otherwise\n",
        "AcceptedCmp2: 1 if customer accepted the offer in the 2nd campaign, 0 otherwise\n",
        "AcceptedCmp3: 1 if customer accepted the offer in the 3rd campaign, 0 otherwise\n",
        "AcceptedCmp4: 1 if customer accepted the offer in the 4th campaign, 0 otherwise\n",
        "AcceptedCmp5: 1 if customer accepted the offer in the 5th campaign, 0 otherwise\n",
        "Response: 1 if customer accepted the offer in the last campaign, 0 otherwise\n",
        "Place\n",
        "\n",
        "NumWebPurchases: Number of purchases made through the company’s web site\n",
        "NumCatalogPurchases: Number of purchases made using a catalogue\n",
        "NumStorePurchases: Number of purchases made directly in stores\n",
        "NumWebVisitsMonth: Number of visits to company’s web site in the last month\n",
        "Target\n",
        "Need to perform clustering to summarize customer segments."
      ]
    },
    {
      "cell_type": "markdown",
      "metadata": {
        "id": "cLjng7NgMYvf"
      },
      "source": [
        "https://www.kaggle.com/karnikakapoor/customer-segmentation-clustering/notebook#DATA-PREPROCESSING"
      ]
    },
    {
      "cell_type": "code",
      "metadata": {
        "id": "fDuFK4kjpy6T"
      },
      "source": [
        "#기본 라이브러리\n",
        "import numpy as np\n",
        "import pandas as pd\n",
        "import os\n",
        "import time\n",
        "\n",
        "#시각화 라이브러리\n",
        "import matplotlib.pyplot as plt\n",
        "%matplotlib inline\n",
        "import seaborn as sns\n",
        "\n",
        "import plotly \n",
        "import plotly.express as px\n",
        "import plotly.graph_objs as go\n",
        "import plotly.offline as py\n",
        "from plotly.offline import iplot\n",
        "from plotly.subplots import make_subplots\n",
        "import plotly.figure_factory as ff\n",
        "import warnings\n",
        "warnings.filterwarnings(\"ignore\", category = FutureWarning)\n",
        "\n",
        "\n",
        "#그래프 스타일 서식 지정\n",
        "plt.style.use('default')\n",
        "#그래프 한글 폰트\n",
        "from matplotlib import font_manager, rc\n",
        "plt.rc(\"font\", family = \"Malgun Gothic\")\n",
        "plt.rc(\"axes\", unicode_minus = False)\n",
        "\n",
        "#사이킷런\n",
        "from sklearn.datasets import *\n",
        "from sklearn.model_selection import train_test_split\n",
        "from sklearn.model_selection import StratifiedKFold\n",
        "from sklearn.model_selection import GridSearchCV, KFold\n",
        "\n",
        "from sklearn.metrics import mean_squared_error\n",
        "from sklearn.metrics import confusion_matrix, accuracy_score, precision_score, recall_score, f1_score\n",
        "from sklearn.metrics import roc_auc_score, precision_recall_curve, roc_curve, RocCurveDisplay\n",
        "from sklearn.metrics import classification_report\n",
        "\n",
        "from sklearn.linear_model import LogisticRegression\n",
        "from sklearn.linear_model import Perceptron\n",
        "from sklearn.linear_model import SGDClassifier\n",
        "\n",
        "from sklearn.tree import DecisionTreeClassifier\n",
        "from sklearn.svm import SVC, LinearSVC\n",
        "from sklearn.ensemble import AdaBoostClassifier, BaggingClassifier, RandomForestClassifier, VotingClassifier\n",
        "from lightgbm import LGBMClassifier\n",
        "from xgboost import XGBClassifier, plot_importance\n",
        "from sklearn.neighbors import KNeighborsClassifier\n",
        "from sklearn.naive_bayes import GaussianNB\n",
        "\n",
        "from sklearn.preprocessing import StandardScaler \n",
        "from sklearn.preprocessing import MinMaxScaler\n",
        "from sklearn.preprocessing import LabelEncoder\n",
        "from sklearn.decomposition import PCA\n",
        "\n",
        "from yellowbrick.cluster import KElbowVisualizer\n",
        "from sklearn.cluster import KMeans\n",
        "from sklearn.cluster import AgglomerativeClustering"
      ],
      "execution_count": null,
      "outputs": []
    },
    {
      "cell_type": "code",
      "metadata": {
        "id": "uprscLx79er-"
      },
      "source": [
        "from google.colab import drive\n",
        "drive.mount('/content/gdrive/')\n",
        "os.chdir('/content/gdrive/MyDrive/Colab Notebooks/data/')"
      ],
      "execution_count": null,
      "outputs": []
    },
    {
      "cell_type": "code",
      "metadata": {
        "id": "FCCne7PH9fsJ"
      },
      "source": [
        "data = pd.read_csv('marketing_campaign.csv', sep = \"\\t\")\n",
        "data.head(10)"
      ],
      "execution_count": null,
      "outputs": []
    },
    {
      "cell_type": "code",
      "metadata": {
        "id": "bUkDy9Ab9ht8"
      },
      "source": [
        "data.info()"
      ],
      "execution_count": null,
      "outputs": []
    },
    {
      "cell_type": "code",
      "metadata": {
        "id": "y6if6j6z-tk_"
      },
      "source": [
        "data = data.dropna()"
      ],
      "execution_count": null,
      "outputs": []
    },
    {
      "cell_type": "code",
      "metadata": {
        "id": "sEyG-GTa-6tw"
      },
      "source": [
        "data['Dt_Customer'] = pd.to_datetime(data['Dt_Customer'])"
      ],
      "execution_count": null,
      "outputs": []
    },
    {
      "cell_type": "code",
      "metadata": {
        "id": "wANYB7y__ST9"
      },
      "source": [
        "data.head()"
      ],
      "execution_count": null,
      "outputs": []
    },
    {
      "cell_type": "code",
      "metadata": {
        "id": "G5ZoWlZ0_YgP"
      },
      "source": [
        "data['Age'] = 2021 - data['Year_Birth']"
      ],
      "execution_count": null,
      "outputs": []
    },
    {
      "cell_type": "code",
      "metadata": {
        "id": "ya6pC5HGAX-7"
      },
      "source": [
        "data.head()"
      ],
      "execution_count": null,
      "outputs": []
    },
    {
      "cell_type": "code",
      "metadata": {
        "id": "MFHu5894AY1j"
      },
      "source": [
        "data = data.drop('Year_Birth', axis=1)"
      ],
      "execution_count": null,
      "outputs": []
    },
    {
      "cell_type": "code",
      "metadata": {
        "id": "vMad2ul3Auqp"
      },
      "source": [
        "data = data.drop('ID', axis=1)"
      ],
      "execution_count": null,
      "outputs": []
    },
    {
      "cell_type": "code",
      "metadata": {
        "id": "Yd-iOyRcBwaH"
      },
      "source": [
        "data.hist(figsize = (24,16))\n",
        "plt.show()"
      ],
      "execution_count": null,
      "outputs": []
    },
    {
      "cell_type": "code",
      "metadata": {
        "id": "lB1rIyoTB84_"
      },
      "source": [
        "numeric_col = [col for col in data if data[col].dtype != \"object\" ]\n",
        "object_col = [col for col in data if data[col].dtype == \"object\" ]"
      ],
      "execution_count": null,
      "outputs": []
    },
    {
      "cell_type": "code",
      "metadata": {
        "id": "WbKVrfGNCLh8"
      },
      "source": [
        "LE=LabelEncoder()\n",
        "for i in object_col:\n",
        "    data[i]=data[[i]].apply(LE.fit_transform)"
      ],
      "execution_count": null,
      "outputs": []
    },
    {
      "cell_type": "code",
      "metadata": {
        "id": "ds_deOM9CRi8"
      },
      "source": [
        "data_eda = data.copy()"
      ],
      "execution_count": null,
      "outputs": []
    },
    {
      "cell_type": "code",
      "metadata": {
        "id": "HCtECEDDCfMb"
      },
      "source": [
        "data_eda.head()"
      ],
      "execution_count": null,
      "outputs": []
    },
    {
      "cell_type": "code",
      "metadata": {
        "id": "88uiBRGMFYXW"
      },
      "source": [
        "data_eda = data_eda.drop('Dt_Customer', axis=1)"
      ],
      "execution_count": null,
      "outputs": []
    },
    {
      "cell_type": "code",
      "metadata": {
        "id": "Z0JgBDv9Diyo"
      },
      "source": [
        "scaler = StandardScaler()\n",
        "scaler.fit(data_eda.values)\n",
        "df_scaled = scaler.transform(data_eda)\n",
        "df_scaled = pd.DataFrame(df_scaled,columns= data_eda.columns )"
      ],
      "execution_count": null,
      "outputs": []
    },
    {
      "cell_type": "code",
      "metadata": {
        "id": "bfXtidyBDuX7"
      },
      "source": [
        "df_scaled.head()"
      ],
      "execution_count": null,
      "outputs": []
    },
    {
      "cell_type": "code",
      "metadata": {
        "id": "uYaSloQ4FiwT"
      },
      "source": [
        "df_scaled.hist(figsize = (24,16))\n",
        "plt.show()"
      ],
      "execution_count": null,
      "outputs": []
    },
    {
      "cell_type": "code",
      "metadata": {
        "id": "IeUAktyCFlIf"
      },
      "source": [
        "k = 3\n",
        "# 주성분 개수를 k개로 하는 PCA 모델 생성\n",
        "pca = PCA( n_components = k ) \n",
        "# 표준화된 변수에 대해 PCA 수행\n",
        "df_pca = pca.fit_transform(df_scaled)"
      ],
      "execution_count": null,
      "outputs": []
    },
    {
      "cell_type": "code",
      "metadata": {
        "id": "JyuUAwC5Gjcw"
      },
      "source": [
        "df_pca"
      ],
      "execution_count": null,
      "outputs": []
    },
    {
      "cell_type": "code",
      "metadata": {
        "id": "DJa2UeOvGvCm"
      },
      "source": [
        "# Scores (주성분 점수)\n",
        "\n",
        "# 주성분 컬럼명 리스트 생성 ( ['PC1', 'PC2', ....] )\n",
        "pc_names = []\n",
        "for i in range( 1, k+1 ):\n",
        "    pc_names.append( 'PC'+str(i) )\n",
        "\n",
        "# 주성분 분석결과 데이터프레임 생성\n",
        "df_pca = pd.DataFrame( df_pca, columns = pc_names)\n",
        "\n",
        "print('< 주성분 점수 >')\n",
        "display( df_pca )\n",
        "print()\n",
        "\n",
        "print('< 주성분 간의 상관계수 >')\n",
        "display( df_pca.corr() )"
      ],
      "execution_count": null,
      "outputs": []
    },
    {
      "cell_type": "code",
      "metadata": {
        "id": "3xA0seMnHBK5"
      },
      "source": [
        "# 주성분 각각의 설명력 및 설명력 비율\n",
        "\n",
        "pd.DataFrame( {'주성분 별 설명력' : pca.explained_variance_,\n",
        "               '주성분 별 설명력 비율' : pca.explained_variance_ratio_},\n",
        "             index = pc_names )"
      ],
      "execution_count": null,
      "outputs": []
    },
    {
      "cell_type": "code",
      "metadata": {
        "id": "gjcdB1zqHTXh"
      },
      "source": [
        "df_pca"
      ],
      "execution_count": null,
      "outputs": []
    },
    {
      "cell_type": "code",
      "metadata": {
        "id": "oD4rsk-ZHEVv"
      },
      "source": [
        "x =df_pca[\"PC1\"]\n",
        "y =df_pca[\"PC2\"]\n",
        "z =df_pca[\"PC3\"]\n",
        "#To plot\n",
        "fig = plt.figure(figsize=(10,8))\n",
        "ax = fig.add_subplot(111, projection=\"3d\")\n",
        "ax.scatter(x,y,z, c=\"maroon\", marker=\"o\" )\n",
        "ax.set_title(\"A 3D Projection Of Data In The Reduced Dimension\")\n",
        "plt.show()"
      ],
      "execution_count": null,
      "outputs": []
    },
    {
      "cell_type": "code",
      "metadata": {
        "id": "B5ISC31ZHWDW"
      },
      "source": [
        "from sklearn.mixture import GaussianMixture\n",
        "\n",
        "gmm = GaussianMixture(n_components=4).fit(df_pca)\n",
        "labels = gmm.predict(df_pca)\n",
        "\n",
        "plt.scatter(x, y, z, c=labels, cmap='viridis')"
      ],
      "execution_count": null,
      "outputs": []
    },
    {
      "cell_type": "code",
      "metadata": {
        "id": "Y8McXqxTHxRE"
      },
      "source": [
        "# BIC, AIC\n",
        "\n",
        "n_components = np.arange(1, 21)\n",
        "models = [GaussianMixture(n, covariance_type='full', random_state=0).fit(df_pca) for n in n_components]\n",
        "\n",
        "plt.plot(n_components, [m.bic(df_pca) for m in models], label='BIC')\n",
        "plt.plot(n_components, [m.aic(df_pca) for m in models], label='AIC')\n",
        "plt.legend(loc='best')\n",
        "plt.xlabel('n_components');"
      ],
      "execution_count": null,
      "outputs": []
    },
    {
      "cell_type": "code",
      "metadata": {
        "id": "FBfEiHcZIKi1"
      },
      "source": [
        "from sklearn.mixture import GaussianMixture\n",
        "\n",
        "gmm = GaussianMixture(n_components=9).fit(df_pca)\n",
        "labels = gmm.predict(df_pca)\n",
        "\n",
        "plt.scatter(x, y, z, c=labels, cmap='viridis')"
      ],
      "execution_count": null,
      "outputs": []
    },
    {
      "cell_type": "code",
      "metadata": {
        "id": "5J6Prqp-ITtf"
      },
      "source": [
        ""
      ],
      "execution_count": null,
      "outputs": []
    }
  ]
}